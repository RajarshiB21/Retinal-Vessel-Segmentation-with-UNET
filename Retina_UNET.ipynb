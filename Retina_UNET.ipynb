{
  "nbformat": 4,
  "nbformat_minor": 0,
  "metadata": {
    "colab": {
      "provenance": []
    },
    "kernelspec": {
      "name": "python3",
      "display_name": "Python 3"
    },
    "language_info": {
      "name": "python"
    },
    "accelerator": "GPU",
    "gpuClass": "standard"
  },
  "cells": [
    {
      "cell_type": "markdown",
      "source": [
        "**DATA IMPORT AND AUGMENTATION**"
      ],
      "metadata": {
        "id": "JUCsxc0svSXP"
      }
    },
    {
      "cell_type": "code",
      "execution_count": null,
      "metadata": {
        "id": "cgXKZZhXhCZI"
      },
      "outputs": [],
      "source": [
        "import os\n",
        "import numpy as np\n",
        "import cv2\n",
        "from glob import glob\n",
        "from tqdm import tqdm\n",
        "import imageio\n",
        "from albumentations import HorizontalFlip, VerticalFlip, Rotate"
      ]
    },
    {
      "cell_type": "code",
      "source": [
        "#Create new path to store augmented images\n",
        "def create_dir(path):\n",
        "  if not os.path.exists(path):\n",
        "    os.makedirs(path)"
      ],
      "metadata": {
        "id": "fAI6DT9yjUI7"
      },
      "execution_count": null,
      "outputs": []
    },
    {
      "cell_type": "code",
      "source": [
        "def load_data(path):\n",
        "  train_x = sorted(glob(os.path.join(path, \"training\", \"images\", \"*.tif\")))\n",
        "  train_y = sorted(glob(os.path.join(path, \"training\", \"1st_manual\", \"*.gif\")))\n",
        "\n",
        "  test_x = sorted(glob(os.path.join(path, \"test\", \"images\", \"*.tif\")))\n",
        "  test_y = sorted(glob(os.path.join(path, \"test\", \"1st_manual\", \"*.gif\")))\n",
        "\n",
        "  return (train_x, train_y), (test_x,test_y)"
      ],
      "metadata": {
        "id": "G_hFgqm_huvM"
      },
      "execution_count": null,
      "outputs": []
    },
    {
      "cell_type": "code",
      "source": [
        "def augment_data(images, masks, save_path, augment=True):\n",
        "  size=(512,512)\n",
        "\n",
        "  #Now we loop over image and mask\n",
        "  for idx, (x,y) in tqdm(enumerate(zip(images,masks)), total=len(images)):\n",
        "    #extracting name of the image\n",
        "    name = (x.split('/')[-1]).split(\".\")[0]\n",
        "\n",
        "    #Reading the image and mask\n",
        "    #for image we use cv2 and for the mask we use imageio\n",
        "\n",
        "    x = cv2.imread(x, cv2.IMREAD_COLOR)\n",
        "    y = imageio.mimread(y)[0]\n",
        "    if augment == True:\n",
        "      aug = HorizontalFlip(p=1.0)\n",
        "      augmented = aug(image=x, mask=y)\n",
        "      x1 = augmented[\"image\"]\n",
        "      y1 = augmented[\"mask\"]\n",
        "\n",
        "      aug = VerticalFlip(p=1.0)\n",
        "      augmented = aug(image=x, mask=y)\n",
        "      x2 = augmented[\"image\"]\n",
        "      y2 = augmented[\"mask\"]\n",
        "\n",
        "      aug = Rotate(limit=45, p=1.0)\n",
        "      augmented = aug(image=x, mask=y)\n",
        "      x3 = augmented[\"image\"]\n",
        "      y3 = augmented[\"mask\"]\n",
        "\n",
        "      X = [x, x1, x2, x3]\n",
        "      Y = [y, y1, y2, y3]\n",
        "\n",
        "    else:\n",
        "      X = [x]\n",
        "      Y = [y]\n",
        "\n",
        "    index = 0\n",
        "    for i, m in zip(X,Y):\n",
        "      i = cv2.resize(i, size)\n",
        "      m = cv2.resize(m, size)\n",
        "\n",
        "      tmp_image_name = f\"{name}_{index}.png\"\n",
        "      tmp_mask_name = f\"{name}_{index}.png\"\n",
        "\n",
        "      image_path = os.path.join(save_path, \"image\", tmp_image_name)\n",
        "      mask_path = os.path.join(save_path, \"mask\", tmp_mask_name)  \n",
        "\n",
        "      cv2.imwrite(image_path, i)\n",
        "      cv2.imwrite(mask_path, m)  \n",
        "\n",
        "      index+=1\n"
      ],
      "metadata": {
        "id": "QkOGle3_j3V3"
      },
      "execution_count": null,
      "outputs": []
    },
    {
      "cell_type": "code",
      "source": [
        "if __name__ == \"main\":\n",
        "  np.random.seed(42)"
      ],
      "metadata": {
        "id": "4wRoqZ3RhPxg"
      },
      "execution_count": null,
      "outputs": []
    },
    {
      "cell_type": "code",
      "source": [
        "##Load the data\n",
        "data_path = \"/content/drive/MyDrive/Retina Vessel Segmentation/DRIVE/\"\n",
        "(train_x, train_y), (test_x,test_y) = load_data(data_path)\n",
        "\n",
        "print(f\"Train: {len(train_x)} - {len(train_y)}\")\n",
        "print(f\"Test: {len(test_x)} - {len(test_y)}\")"
      ],
      "metadata": {
        "colab": {
          "base_uri": "https://localhost:8080/"
        },
        "id": "OvdawDMMhe4p",
        "outputId": "bcd92bff-edf5-4c74-af01-cdc31677b6ba"
      },
      "execution_count": null,
      "outputs": [
        {
          "output_type": "stream",
          "name": "stdout",
          "text": [
            "Train: 20 - 20\n",
            "Test: 20 - 20\n"
          ]
        }
      ]
    },
    {
      "cell_type": "code",
      "source": [
        "#Now we create directories to save our augmented data\n",
        "create_dir(\"new_data/train/image/\")\n",
        "create_dir(\"new_data/train/mask/\")\n",
        "create_dir(\"new_data/test/image/\")\n",
        "create_dir(\"new_data/test/mask/\")"
      ],
      "metadata": {
        "id": "SuMxiru6hs2E"
      },
      "execution_count": null,
      "outputs": []
    },
    {
      "cell_type": "code",
      "source": [
        "#Data augmentation\n",
        "augment_data(train_x,train_y,\"new_data/train/\",augment=True)"
      ],
      "metadata": {
        "colab": {
          "base_uri": "https://localhost:8080/"
        },
        "id": "fsLp_bzzjtfv",
        "outputId": "435a544c-0e25-49d6-9775-f349f5e33385"
      },
      "execution_count": null,
      "outputs": [
        {
          "output_type": "stream",
          "name": "stderr",
          "text": [
            "100%|██████████| 20/20 [00:19<00:00,  1.03it/s]\n"
          ]
        }
      ]
    },
    {
      "cell_type": "code",
      "source": [
        "augment_data(test_x,test_y,\"new_data/test/\",augment=False)"
      ],
      "metadata": {
        "colab": {
          "base_uri": "https://localhost:8080/"
        },
        "id": "EETwUiuFkgAB",
        "outputId": "74b91f00-ca4e-407a-c527-0550b880553c"
      },
      "execution_count": null,
      "outputs": [
        {
          "output_type": "stream",
          "name": "stderr",
          "text": [
            "100%|██████████| 20/20 [00:18<00:00,  1.09it/s]\n"
          ]
        }
      ]
    },
    {
      "cell_type": "markdown",
      "source": [
        "**CREATING U-NET ARCHITECTURE**"
      ],
      "metadata": {
        "id": "rRKDYW9XvaSA"
      }
    },
    {
      "cell_type": "code",
      "source": [
        "import torch\n",
        "import torch.nn as nn"
      ],
      "metadata": {
        "id": "gFJWt19dvII0"
      },
      "execution_count": null,
      "outputs": []
    },
    {
      "cell_type": "code",
      "source": [
        "class conv_block(nn.Module):\n",
        "  def __init__(self, in_c, out_c):\n",
        "    super().__init__()\n",
        "\n",
        "    self.conv1 = nn.Conv2d(in_c,out_c,kernel_size=3,padding=1)\n",
        "    self.bn1 = nn.BatchNorm2d(out_c)\n",
        "\n",
        "    self.conv2 = nn.Conv2d(out_c,out_c,kernel_size=3,padding=1)\n",
        "    self.bn2 = nn.BatchNorm2d(out_c)\n",
        "\n",
        "    self.relu = nn.ReLU()\n",
        "\n",
        "  def forward(self, inputs):\n",
        "    x = self.conv1(inputs)\n",
        "    x = self.bn1(x)\n",
        "    x = self.relu(x)\n",
        "\n",
        "    x = self.conv2(x)\n",
        "    x = self.bn2(x)\n",
        "    x = self.relu(x)\n",
        "\n",
        "    return x\n",
        "\n",
        "\n",
        "class encoder_block(nn.Module):\n",
        "  def __init__(self, in_c,out_c):\n",
        "    super().__init__()\n",
        "\n",
        "    self.conv = conv_block(in_c, out_c)\n",
        "    self.pool = nn.MaxPool2d((2,2))\n",
        "\n",
        "  def forward(self, inputs):\n",
        "    x = self.conv(inputs)\n",
        "    p = self.pool(x)\n",
        "\n",
        "    return x,p\n",
        "\n",
        "class decoder_block(nn.Module):\n",
        "  def __init__(self, in_c, out_c):\n",
        "    super().__init__()\n",
        "\n",
        "    self.up = nn.ConvTranspose2d(in_c, out_c, kernel_size=2, stride=2, padding=0)\n",
        "    #Number of input channels will be outputchannles*2\n",
        "    self.conv = conv_block(out_c+out_c, out_c)\n",
        "\n",
        "  def forward(self, inputs, skip):\n",
        "    x = self.up(inputs)\n",
        "    x = torch.cat([x, skip], axis=1)\n",
        "    x = self.conv(x)\n",
        "    return x\n",
        "   \n",
        "\n",
        "\n",
        "class build_unet(nn.Module):\n",
        "    def __init__(self):\n",
        "        super().__init__()\n",
        "\n",
        "        ##Encoder \n",
        "        self.e1 = encoder_block(3, 64)\n",
        "        self.e2 = encoder_block(64, 128)\n",
        "        self.e3 = encoder_block(128, 256)\n",
        "        self.e4 = encoder_block(256, 512)\n",
        "\n",
        "        ##Bottleneck\n",
        "        self.b = conv_block(512, 1024)  \n",
        "\n",
        "        ##Decoder\n",
        "        self.d1 = decoder_block(1024, 512)\n",
        "        self.d2 = decoder_block(512, 256)\n",
        "        self.d3 = decoder_block(256, 128)\n",
        "        self.d4 = decoder_block(128, 64)\n",
        "\n",
        "\n",
        "        ##Classifier \n",
        "        #To generate the final segmentation\n",
        "        self.outputs = nn.Conv2d(64,1, kernel_size=1, padding=0)\n",
        "\n",
        "    \n",
        "    def forward(self, inputs):\n",
        "        ##Encoder \n",
        "        #The output from the encoder layer acts as a skip connection for the decoder layer\n",
        "        #s1 stands for skip connections\n",
        "        #p1 stands for pooling output\n",
        "\n",
        "        s1, p1 = self.e1(inputs)\n",
        "        s2, p2 = self.e2(p1)\n",
        "        s3, p3 = self.e3(p2)\n",
        "        s4, p4 = self.e4(p3)\n",
        "\n",
        "        #Bottleneck\n",
        "        b = self.b(p4)\n",
        "        #print(s1.shape, s2.shape, s3.shape, s4.shape)\n",
        "        #print(b.shape)\n",
        "\n",
        "        ##Decoder\n",
        "        d1 = self.d1(b, s4)\n",
        "        d2 = self.d2(d1, s3)\n",
        "        d3 = self.d3(d2, s2)\n",
        "        d4 = self.d4(d3, s1)\n",
        "\n",
        "        #Classifier\n",
        "        outputs = self.outputs(d4)\n",
        "        return outputs\n",
        "\n",
        "\n",
        "\n",
        "if __name__ == \"__main__\":\n",
        "  x = torch.randn((2,3,512,512))\n",
        "  f = build_unet()\n",
        "  y=f(x)\n",
        "  print(y.shape)"
      ],
      "metadata": {
        "colab": {
          "base_uri": "https://localhost:8080/"
        },
        "id": "envlmumbvjAO",
        "outputId": "6e31cde5-11e9-416a-c9c3-72d6a05762a6"
      },
      "execution_count": null,
      "outputs": [
        {
          "output_type": "stream",
          "name": "stdout",
          "text": [
            "torch.Size([2, 1, 512, 512])\n"
          ]
        }
      ]
    },
    {
      "cell_type": "markdown",
      "source": [
        "**LOSS**"
      ],
      "metadata": {
        "id": "a1aAVuSL6HBg"
      }
    },
    {
      "cell_type": "code",
      "source": [
        "import torch.nn.functional as F\n",
        "\n",
        "class DiceLoss(nn.Module):\n",
        "    def __init__(self, weight=None, size_average=True):\n",
        "        super(DiceLoss, self).__init__()\n",
        "\n",
        "    def forward(self, inputs, targets, smooth=1):\n",
        "\n",
        "        #comment out if your model contains a sigmoid or equivalent activation layer\n",
        "        inputs = torch.sigmoid(inputs)\n",
        "\n",
        "        #flatten label and prediction tensors\n",
        "        inputs = inputs.view(-1)\n",
        "        targets = targets.view(-1)\n",
        "\n",
        "        intersection = (inputs * targets).sum()\n",
        "        dice = (2.*intersection + smooth)/(inputs.sum() + targets.sum() + smooth)\n",
        "\n",
        "        return 1 - dice"
      ],
      "metadata": {
        "id": "rEKJ3S4U6LEG"
      },
      "execution_count": null,
      "outputs": []
    },
    {
      "cell_type": "code",
      "source": [
        "class DiceBCELoss(nn.Module):\n",
        "    def __init__(self, weight=None, size_average=True):\n",
        "        super(DiceBCELoss, self).__init__()\n",
        "\n",
        "    def forward(self, inputs, targets, smooth=1):\n",
        "\n",
        "        #comment out if your model contains a sigmoid or equivalent activation layer\n",
        "        inputs = torch.sigmoid(inputs)\n",
        "\n",
        "        #flatten label and prediction tensors\n",
        "        inputs = inputs.view(-1)\n",
        "        targets = targets.view(-1)\n",
        "\n",
        "        intersection = (inputs * targets).sum()\n",
        "        dice_loss = 1 - (2.*intersection + smooth)/(inputs.sum() + targets.sum() + smooth)\n",
        "        BCE = F.binary_cross_entropy(inputs, targets, reduction='mean')\n",
        "        Dice_BCE = BCE + dice_loss\n",
        "\n",
        "        return Dice_BCE"
      ],
      "metadata": {
        "id": "nzNm_HP46Qb_"
      },
      "execution_count": null,
      "outputs": []
    },
    {
      "cell_type": "markdown",
      "source": [
        "**UTILS**"
      ],
      "metadata": {
        "id": "kjhp7D2n6WmY"
      }
    },
    {
      "cell_type": "code",
      "source": [
        "import os\n",
        "import time\n",
        "import random\n",
        "import numpy as np\n",
        "import cv2\n",
        "import torch\n",
        "\n",
        "##Seeding the randomness\n",
        "def seeding(seed):\n",
        "    random.seed(seed)\n",
        "    os.environ[\"PYTHONHASHSEED\"] = str(seed)\n",
        "    np.random.seed(seed)\n",
        "    torch.manual_seed(seed)\n",
        "    torch.cuda.manual_seed(seed)\n",
        "    torch.backends.cudnn.deterministic = True\n",
        "\n",
        "##Create a directory\n",
        "def create_dir(path):\n",
        "    if not os.path.exists(path):\n",
        "        os.makedirs(path)\n",
        "\n",
        "##Calculate the time taken\n",
        "def epoch_time(start_time, end_time):\n",
        "    elapsed_time = end_time - start_time\n",
        "    elapsed_mins = int(elapsed_time / 60)\n",
        "    elapsed_secs = int(elapsed_time - (elapsed_mins * 60))\n",
        "    return elapsed_mins, elapsed_secs"
      ],
      "metadata": {
        "id": "jLpG3hzv6Zp_"
      },
      "execution_count": null,
      "outputs": []
    },
    {
      "cell_type": "markdown",
      "source": [
        "**TRAINING**"
      ],
      "metadata": {
        "id": "EufHoK3H5sQ4"
      }
    },
    {
      "cell_type": "code",
      "source": [
        "import os\n",
        "import time\n",
        "from glob import glob\n",
        "\n",
        "from torch.utils.data import DataLoader"
      ],
      "metadata": {
        "id": "ml__ECvtwLWW"
      },
      "execution_count": null,
      "outputs": []
    },
    {
      "cell_type": "code",
      "source": [
        "if __name__ == \"__main__\":\n",
        "  #Seeding\n",
        "  seeding(42)\n",
        "\n",
        "  #Saving the checkpoints and other files\n",
        "  create_dir(\"files\")\n",
        "\n",
        "  #load the dataset\n",
        "  train_x = sorted(glob(\"/content/new_data/train/image/*\"))\n",
        "  train_y = sorted(glob(\"/content/new_data/train/mask/*\"))\n",
        "\n",
        "  valid_x = sorted(glob(\"/content/new_data/test/image/*\"))\n",
        "  valid_y = sorted(glob(\"/content/new_data/test/mask/*\"))\n",
        "\n",
        "  data_str = f\"Dataset Size:\\nTrain: {len(train_x)} - Valid:{len(test_x)}\"\n",
        "  print(data_str)"
      ],
      "metadata": {
        "colab": {
          "base_uri": "https://localhost:8080/"
        },
        "id": "Byp6vkmN58Zl",
        "outputId": "9dbb8e0b-b33e-4ea6-b2a3-c3a7b3d6f84a"
      },
      "execution_count": null,
      "outputs": [
        {
          "output_type": "stream",
          "name": "stdout",
          "text": [
            "Dataset Size:\n",
            "Train: 80 - Valid:20\n"
          ]
        }
      ]
    },
    {
      "cell_type": "code",
      "source": [
        "##Hyperparameters\n",
        "H = 512\n",
        "W = 512\n",
        "size = (H,W)\n",
        "batch_size = 2\n",
        "num_epochs = 300\n",
        "lr = 1e-4\n",
        "checkpoint_path = \"files/checkpoint.pth\"\n",
        "device = \"cuda\" if torch.cuda.is_available() else \"cpu\"\n",
        "print(device)"
      ],
      "metadata": {
        "colab": {
          "base_uri": "https://localhost:8080/"
        },
        "id": "fo_nVyCK7Yll",
        "outputId": "d74c94f1-2943-492e-ae94-89aba7b83bf5"
      },
      "execution_count": null,
      "outputs": [
        {
          "output_type": "stream",
          "name": "stdout",
          "text": [
            "cuda\n"
          ]
        }
      ]
    },
    {
      "cell_type": "markdown",
      "source": [
        "**DATASET AND LOADER**"
      ],
      "metadata": {
        "id": "-JM99Ucx9OR6"
      }
    },
    {
      "cell_type": "code",
      "source": [
        "import os \n",
        "import numpy as np\n",
        "import cv2\n",
        "import torch\n",
        "from torch.utils.data import Dataset"
      ],
      "metadata": {
        "id": "BOSg1eWh8Xx8"
      },
      "execution_count": null,
      "outputs": []
    },
    {
      "cell_type": "code",
      "source": [
        "class DriveDataset(Dataset):\n",
        "  def __init__(self, images_path, masks_path):\n",
        "    self.images_path = images_path\n",
        "    self.masks_path = masks_path\n",
        "    self.n_samples = len(images_path)\n",
        "\n",
        "  def __getitem__(self, index):\n",
        "    #Reading the image\n",
        "    #Read the image in RGB format\n",
        "    image = cv2.imread(self.images_path[index], cv2.IMREAD_COLOR)\n",
        "    #Normalize the image by dividing with 255\n",
        "    image = image/255.0\n",
        "    #Transpose the image since it had channel last approach and for pytorch we need channel first\n",
        "    image = np.transpose(image, (2,0,1))\n",
        "    #Then we convert it into float32\n",
        "    image = image.astype(np.float32)\n",
        "    #Then we convert it to a torch tensor\n",
        "    image = torch.from_numpy(image)\n",
        "\n",
        "    #Reading the mask\n",
        "    #We do not need transpose for mask\n",
        "    mask = cv2.imread(self.masks_path[index], cv2.IMREAD_GRAYSCALE)\n",
        "    mask = mask/255.0\n",
        "    mask = np.expand_dims(mask, axis=0)##(1,512,512)\n",
        "    mask = mask.astype(np.float32)\n",
        "    mask = torch.from_numpy(mask)\n",
        "\n",
        "    return image, mask\n",
        "\n",
        "  def __len__(self):\n",
        "    return self.n_samples\n"
      ],
      "metadata": {
        "id": "sGoOgIyp9N1Q"
      },
      "execution_count": null,
      "outputs": []
    },
    {
      "cell_type": "code",
      "source": [
        "train_dataset = DriveDataset(train_x, train_y)\n",
        "valid_dataset = DriveDataset(valid_x, valid_y)\n",
        "\n",
        "train_loader = DataLoader(\n",
        "    dataset = train_dataset,\n",
        "    batch_size = batch_size,\n",
        "    shuffle = True,\n",
        "    num_workers=2\n",
        ")\n",
        "\n",
        "valid_loader = DataLoader(\n",
        "    dataset = valid_dataset,\n",
        "    batch_size = batch_size,\n",
        "    shuffle = False,\n",
        "    num_workers=2\n",
        ")"
      ],
      "metadata": {
        "id": "pAbCdie7-xVC"
      },
      "execution_count": null,
      "outputs": []
    },
    {
      "cell_type": "code",
      "source": [
        "##Initialising the model\n",
        "model = build_unet()\n",
        "model = model.to(device=device)\n",
        "\n",
        "optimizer = torch.optim.Adam(model.parameters(), lr=lr)\n",
        "scheduler = torch.optim.lr_scheduler.ReduceLROnPlateau(optimizer,'min', patience=5, verbose=True)\n",
        "loss_fn = DiceBCELoss()"
      ],
      "metadata": {
        "id": "18OXX0zo_alM"
      },
      "execution_count": null,
      "outputs": []
    },
    {
      "cell_type": "code",
      "source": [
        "##Specify the training function\n",
        "def train(model, loader, optimizer, loss_fn, device):\n",
        "  epoch_loss = 0.0\n",
        "  model.train()\n",
        "  for x,y in tqdm(loader):\n",
        "    x = x.to(device, dtype=torch.float32)\n",
        "    y = y.to(device, dtype=torch.float32)\n",
        "\n",
        "    #Optimizer put to zero grad\n",
        "    optimizer.zero_grad()\n",
        "    #Making a prediction\n",
        "    y_pred = model(x)\n",
        "    #Calculating loss\n",
        "    loss = loss_fn(y_pred, y)\n",
        "    #Backward step\n",
        "    loss.backward()\n",
        "    #Optimizer step\n",
        "    optimizer.step()\n",
        "    #Getting the loss for that epoch\n",
        "    epoch_loss+=loss.item()\n",
        "\n",
        "  #Calculating mean loss\n",
        "  epoch_loss = epoch_loss/len(loader)\n",
        "  return epoch_loss"
      ],
      "metadata": {
        "id": "Ad4jPzt6ACkY"
      },
      "execution_count": null,
      "outputs": []
    },
    {
      "cell_type": "code",
      "source": [
        "##Specify the evaluate function\n",
        "def evaluate(model, loader, loss_fn, device):\n",
        "  epoch_loss = 0.0\n",
        "  model.eval()\n",
        "  with torch.no_grad():\n",
        "    for x,y in tqdm(loader):\n",
        "      x = x.to(device, dtype=torch.float32)\n",
        "      y = y.to(device, dtype=torch.float32)\n",
        "\n",
        "      y_pred = model(x)\n",
        "      loss = loss_fn(y_pred,y)\n",
        "\n",
        "      epoch_loss+=loss.item()\n",
        "\n",
        "  #Calculating mean loss\n",
        "  epoch_loss = epoch_loss/len(loader)\n",
        "  return epoch_loss"
      ],
      "metadata": {
        "id": "QP8uT9RJCTPv"
      },
      "execution_count": null,
      "outputs": []
    },
    {
      "cell_type": "code",
      "source": [
        "##Training the model\n",
        "best_valid_loss = float(\"inf\")\n",
        "for epoch in range(num_epochs):\n",
        "  start_time = time.time()\n",
        "  train_loss = train(model, train_loader, optimizer, loss_fn, device)\n",
        "  valid_loss = evaluate(model, valid_loader, loss_fn, device)\n",
        "\n",
        "  #Saving the model\n",
        "  if valid_loss < best_valid_loss:\n",
        "    data_str = f\"Valid loss improved from {best_valid_loss:2.4f} to {valid_loss:4f}\"\n",
        "    print(data_str)\n",
        "\n",
        "    best_valid_loss = valid_loss\n",
        "    torch.save(model.state_dict(), checkpoint_path)\n",
        "\n",
        "  end_time = time.time()\n",
        "  epoch_mins, epoch_secs = epoch_time(start_time, end_time)\n",
        "\n",
        "  data_str = f'Epoch: {epoch+1:02} | Epoch Time: {epoch_mins}m {epoch_secs}s\\n'\n",
        "  data_str += f'\\tTrain Loss: {train_loss:.3f}\\n'\n",
        "  data_str += f'\\t Val. Loss: {valid_loss:.3f}\\n'\n",
        "  print(data_str)"
      ],
      "metadata": {
        "colab": {
          "base_uri": "https://localhost:8080/"
        },
        "id": "8H_qe5u1_c0o",
        "outputId": "8de9a57f-4ca7-46ec-de76-ba899e76d3ab"
      },
      "execution_count": null,
      "outputs": [
        {
          "output_type": "stream",
          "name": "stderr",
          "text": [
            "100%|██████████| 40/40 [00:36<00:00,  1.10it/s]\n",
            "100%|██████████| 10/10 [00:02<00:00,  3.60it/s]\n"
          ]
        },
        {
          "output_type": "stream",
          "name": "stdout",
          "text": [
            "Valid loss improved from inf to 1.344711\n",
            "Epoch: 01 | Epoch Time: 0m 39s\n",
            "\tTrain Loss: 1.166\n",
            "\t Val. Loss: 1.345\n",
            "\n"
          ]
        },
        {
          "output_type": "stream",
          "name": "stderr",
          "text": [
            "100%|██████████| 40/40 [00:29<00:00,  1.35it/s]\n",
            "100%|██████████| 10/10 [00:02<00:00,  3.46it/s]\n"
          ]
        },
        {
          "output_type": "stream",
          "name": "stdout",
          "text": [
            "Valid loss improved from 1.3447 to 1.005763\n",
            "Epoch: 02 | Epoch Time: 0m 32s\n",
            "\tTrain Loss: 0.981\n",
            "\t Val. Loss: 1.006\n",
            "\n"
          ]
        },
        {
          "output_type": "stream",
          "name": "stderr",
          "text": [
            "100%|██████████| 40/40 [00:30<00:00,  1.32it/s]\n",
            "100%|██████████| 10/10 [00:02<00:00,  3.49it/s]\n"
          ]
        },
        {
          "output_type": "stream",
          "name": "stdout",
          "text": [
            "Valid loss improved from 1.0058 to 0.886921\n",
            "Epoch: 03 | Epoch Time: 0m 33s\n",
            "\tTrain Loss: 0.921\n",
            "\t Val. Loss: 0.887\n",
            "\n"
          ]
        },
        {
          "output_type": "stream",
          "name": "stderr",
          "text": [
            "100%|██████████| 40/40 [00:29<00:00,  1.34it/s]\n",
            "100%|██████████| 10/10 [00:02<00:00,  3.51it/s]\n"
          ]
        },
        {
          "output_type": "stream",
          "name": "stdout",
          "text": [
            "Valid loss improved from 0.8869 to 0.849437\n",
            "Epoch: 04 | Epoch Time: 0m 32s\n",
            "\tTrain Loss: 0.875\n",
            "\t Val. Loss: 0.849\n",
            "\n"
          ]
        },
        {
          "output_type": "stream",
          "name": "stderr",
          "text": [
            "100%|██████████| 40/40 [00:30<00:00,  1.33it/s]\n",
            "100%|██████████| 10/10 [00:02<00:00,  3.49it/s]\n"
          ]
        },
        {
          "output_type": "stream",
          "name": "stdout",
          "text": [
            "Valid loss improved from 0.8494 to 0.813525\n",
            "Epoch: 05 | Epoch Time: 0m 33s\n",
            "\tTrain Loss: 0.836\n",
            "\t Val. Loss: 0.814\n",
            "\n"
          ]
        },
        {
          "output_type": "stream",
          "name": "stderr",
          "text": [
            "100%|██████████| 40/40 [00:29<00:00,  1.34it/s]\n",
            "100%|██████████| 10/10 [00:02<00:00,  3.48it/s]\n"
          ]
        },
        {
          "output_type": "stream",
          "name": "stdout",
          "text": [
            "Valid loss improved from 0.8135 to 0.772124\n",
            "Epoch: 06 | Epoch Time: 0m 33s\n",
            "\tTrain Loss: 0.798\n",
            "\t Val. Loss: 0.772\n",
            "\n"
          ]
        },
        {
          "output_type": "stream",
          "name": "stderr",
          "text": [
            "100%|██████████| 40/40 [00:29<00:00,  1.34it/s]\n",
            "100%|██████████| 10/10 [00:03<00:00,  3.27it/s]\n"
          ]
        },
        {
          "output_type": "stream",
          "name": "stdout",
          "text": [
            "Valid loss improved from 0.7721 to 0.744034\n",
            "Epoch: 07 | Epoch Time: 0m 33s\n",
            "\tTrain Loss: 0.763\n",
            "\t Val. Loss: 0.744\n",
            "\n"
          ]
        },
        {
          "output_type": "stream",
          "name": "stderr",
          "text": [
            "100%|██████████| 40/40 [00:30<00:00,  1.32it/s]\n",
            "100%|██████████| 10/10 [00:02<00:00,  3.47it/s]\n"
          ]
        },
        {
          "output_type": "stream",
          "name": "stdout",
          "text": [
            "Valid loss improved from 0.7440 to 0.721065\n",
            "Epoch: 08 | Epoch Time: 0m 33s\n",
            "\tTrain Loss: 0.728\n",
            "\t Val. Loss: 0.721\n",
            "\n"
          ]
        },
        {
          "output_type": "stream",
          "name": "stderr",
          "text": [
            "100%|██████████| 40/40 [00:29<00:00,  1.33it/s]\n",
            "100%|██████████| 10/10 [00:02<00:00,  3.49it/s]\n"
          ]
        },
        {
          "output_type": "stream",
          "name": "stdout",
          "text": [
            "Valid loss improved from 0.7211 to 0.680884\n",
            "Epoch: 09 | Epoch Time: 0m 33s\n",
            "\tTrain Loss: 0.697\n",
            "\t Val. Loss: 0.681\n",
            "\n"
          ]
        },
        {
          "output_type": "stream",
          "name": "stderr",
          "text": [
            "100%|██████████| 40/40 [00:30<00:00,  1.33it/s]\n",
            "100%|██████████| 10/10 [00:02<00:00,  3.45it/s]\n"
          ]
        },
        {
          "output_type": "stream",
          "name": "stdout",
          "text": [
            "Valid loss improved from 0.6809 to 0.655506\n",
            "Epoch: 10 | Epoch Time: 0m 33s\n",
            "\tTrain Loss: 0.666\n",
            "\t Val. Loss: 0.656\n",
            "\n"
          ]
        },
        {
          "output_type": "stream",
          "name": "stderr",
          "text": [
            "100%|██████████| 40/40 [00:30<00:00,  1.33it/s]\n",
            "100%|██████████| 10/10 [00:02<00:00,  3.48it/s]\n"
          ]
        },
        {
          "output_type": "stream",
          "name": "stdout",
          "text": [
            "Valid loss improved from 0.6555 to 0.620821\n",
            "Epoch: 11 | Epoch Time: 0m 33s\n",
            "\tTrain Loss: 0.638\n",
            "\t Val. Loss: 0.621\n",
            "\n"
          ]
        },
        {
          "output_type": "stream",
          "name": "stderr",
          "text": [
            "100%|██████████| 40/40 [00:29<00:00,  1.34it/s]\n",
            "100%|██████████| 10/10 [00:02<00:00,  3.48it/s]\n"
          ]
        },
        {
          "output_type": "stream",
          "name": "stdout",
          "text": [
            "Valid loss improved from 0.6208 to 0.609012\n",
            "Epoch: 12 | Epoch Time: 0m 33s\n",
            "\tTrain Loss: 0.613\n",
            "\t Val. Loss: 0.609\n",
            "\n"
          ]
        },
        {
          "output_type": "stream",
          "name": "stderr",
          "text": [
            "100%|██████████| 40/40 [00:30<00:00,  1.33it/s]\n",
            "100%|██████████| 10/10 [00:02<00:00,  3.50it/s]\n"
          ]
        },
        {
          "output_type": "stream",
          "name": "stdout",
          "text": [
            "Valid loss improved from 0.6090 to 0.582211\n",
            "Epoch: 13 | Epoch Time: 0m 33s\n",
            "\tTrain Loss: 0.591\n",
            "\t Val. Loss: 0.582\n",
            "\n"
          ]
        },
        {
          "output_type": "stream",
          "name": "stderr",
          "text": [
            "100%|██████████| 40/40 [00:30<00:00,  1.33it/s]\n",
            "100%|██████████| 10/10 [00:02<00:00,  3.50it/s]\n"
          ]
        },
        {
          "output_type": "stream",
          "name": "stdout",
          "text": [
            "Valid loss improved from 0.5822 to 0.565456\n",
            "Epoch: 14 | Epoch Time: 0m 33s\n",
            "\tTrain Loss: 0.568\n",
            "\t Val. Loss: 0.565\n",
            "\n"
          ]
        },
        {
          "output_type": "stream",
          "name": "stderr",
          "text": [
            "100%|██████████| 40/40 [00:29<00:00,  1.33it/s]\n",
            "100%|██████████| 10/10 [00:02<00:00,  3.48it/s]\n"
          ]
        },
        {
          "output_type": "stream",
          "name": "stdout",
          "text": [
            "Valid loss improved from 0.5655 to 0.547771\n",
            "Epoch: 15 | Epoch Time: 0m 33s\n",
            "\tTrain Loss: 0.547\n",
            "\t Val. Loss: 0.548\n",
            "\n"
          ]
        },
        {
          "output_type": "stream",
          "name": "stderr",
          "text": [
            "100%|██████████| 40/40 [00:30<00:00,  1.33it/s]\n",
            "100%|██████████| 10/10 [00:02<00:00,  3.45it/s]\n"
          ]
        },
        {
          "output_type": "stream",
          "name": "stdout",
          "text": [
            "Valid loss improved from 0.5478 to 0.528001\n",
            "Epoch: 16 | Epoch Time: 0m 33s\n",
            "\tTrain Loss: 0.529\n",
            "\t Val. Loss: 0.528\n",
            "\n"
          ]
        },
        {
          "output_type": "stream",
          "name": "stderr",
          "text": [
            "100%|██████████| 40/40 [00:30<00:00,  1.33it/s]\n",
            "100%|██████████| 10/10 [00:02<00:00,  3.48it/s]\n"
          ]
        },
        {
          "output_type": "stream",
          "name": "stdout",
          "text": [
            "Valid loss improved from 0.5280 to 0.506235\n",
            "Epoch: 17 | Epoch Time: 0m 33s\n",
            "\tTrain Loss: 0.510\n",
            "\t Val. Loss: 0.506\n",
            "\n"
          ]
        },
        {
          "output_type": "stream",
          "name": "stderr",
          "text": [
            "100%|██████████| 40/40 [00:30<00:00,  1.33it/s]\n",
            "100%|██████████| 10/10 [00:02<00:00,  3.47it/s]\n"
          ]
        },
        {
          "output_type": "stream",
          "name": "stdout",
          "text": [
            "Valid loss improved from 0.5062 to 0.495222\n",
            "Epoch: 18 | Epoch Time: 0m 33s\n",
            "\tTrain Loss: 0.495\n",
            "\t Val. Loss: 0.495\n",
            "\n"
          ]
        },
        {
          "output_type": "stream",
          "name": "stderr",
          "text": [
            "100%|██████████| 40/40 [00:30<00:00,  1.33it/s]\n",
            "100%|██████████| 10/10 [00:02<00:00,  3.47it/s]\n"
          ]
        },
        {
          "output_type": "stream",
          "name": "stdout",
          "text": [
            "Valid loss improved from 0.4952 to 0.493722\n",
            "Epoch: 19 | Epoch Time: 0m 33s\n",
            "\tTrain Loss: 0.480\n",
            "\t Val. Loss: 0.494\n",
            "\n"
          ]
        },
        {
          "output_type": "stream",
          "name": "stderr",
          "text": [
            "100%|██████████| 40/40 [00:30<00:00,  1.33it/s]\n",
            "100%|██████████| 10/10 [00:02<00:00,  3.47it/s]\n"
          ]
        },
        {
          "output_type": "stream",
          "name": "stdout",
          "text": [
            "Valid loss improved from 0.4937 to 0.475292\n",
            "Epoch: 20 | Epoch Time: 0m 33s\n",
            "\tTrain Loss: 0.465\n",
            "\t Val. Loss: 0.475\n",
            "\n"
          ]
        },
        {
          "output_type": "stream",
          "name": "stderr",
          "text": [
            "100%|██████████| 40/40 [00:29<00:00,  1.34it/s]\n",
            "100%|██████████| 10/10 [00:02<00:00,  3.46it/s]\n"
          ]
        },
        {
          "output_type": "stream",
          "name": "stdout",
          "text": [
            "Valid loss improved from 0.4753 to 0.461817\n",
            "Epoch: 21 | Epoch Time: 0m 33s\n",
            "\tTrain Loss: 0.448\n",
            "\t Val. Loss: 0.462\n",
            "\n"
          ]
        },
        {
          "output_type": "stream",
          "name": "stderr",
          "text": [
            "100%|██████████| 40/40 [00:30<00:00,  1.33it/s]\n",
            "100%|██████████| 10/10 [00:02<00:00,  3.49it/s]\n"
          ]
        },
        {
          "output_type": "stream",
          "name": "stdout",
          "text": [
            "Valid loss improved from 0.4618 to 0.452553\n",
            "Epoch: 22 | Epoch Time: 0m 33s\n",
            "\tTrain Loss: 0.436\n",
            "\t Val. Loss: 0.453\n",
            "\n"
          ]
        },
        {
          "output_type": "stream",
          "name": "stderr",
          "text": [
            "100%|██████████| 40/40 [00:30<00:00,  1.33it/s]\n",
            "100%|██████████| 10/10 [00:02<00:00,  3.45it/s]\n"
          ]
        },
        {
          "output_type": "stream",
          "name": "stdout",
          "text": [
            "Valid loss improved from 0.4526 to 0.451219\n",
            "Epoch: 23 | Epoch Time: 0m 33s\n",
            "\tTrain Loss: 0.423\n",
            "\t Val. Loss: 0.451\n",
            "\n"
          ]
        },
        {
          "output_type": "stream",
          "name": "stderr",
          "text": [
            "100%|██████████| 40/40 [00:30<00:00,  1.33it/s]\n",
            "100%|██████████| 10/10 [00:02<00:00,  3.47it/s]\n"
          ]
        },
        {
          "output_type": "stream",
          "name": "stdout",
          "text": [
            "Valid loss improved from 0.4512 to 0.448569\n",
            "Epoch: 24 | Epoch Time: 0m 33s\n",
            "\tTrain Loss: 0.413\n",
            "\t Val. Loss: 0.449\n",
            "\n"
          ]
        },
        {
          "output_type": "stream",
          "name": "stderr",
          "text": [
            "100%|██████████| 40/40 [00:29<00:00,  1.33it/s]\n",
            "100%|██████████| 10/10 [00:02<00:00,  3.47it/s]\n"
          ]
        },
        {
          "output_type": "stream",
          "name": "stdout",
          "text": [
            "Valid loss improved from 0.4486 to 0.429219\n",
            "Epoch: 25 | Epoch Time: 0m 33s\n",
            "\tTrain Loss: 0.399\n",
            "\t Val. Loss: 0.429\n",
            "\n"
          ]
        },
        {
          "output_type": "stream",
          "name": "stderr",
          "text": [
            "100%|██████████| 40/40 [00:30<00:00,  1.33it/s]\n",
            "100%|██████████| 10/10 [00:02<00:00,  3.48it/s]\n"
          ]
        },
        {
          "output_type": "stream",
          "name": "stdout",
          "text": [
            "Valid loss improved from 0.4292 to 0.424499\n",
            "Epoch: 26 | Epoch Time: 0m 33s\n",
            "\tTrain Loss: 0.387\n",
            "\t Val. Loss: 0.424\n",
            "\n"
          ]
        },
        {
          "output_type": "stream",
          "name": "stderr",
          "text": [
            "100%|██████████| 40/40 [00:30<00:00,  1.33it/s]\n",
            "100%|██████████| 10/10 [00:02<00:00,  3.49it/s]\n"
          ]
        },
        {
          "output_type": "stream",
          "name": "stdout",
          "text": [
            "Epoch: 27 | Epoch Time: 0m 32s\n",
            "\tTrain Loss: 0.379\n",
            "\t Val. Loss: 0.425\n",
            "\n"
          ]
        },
        {
          "output_type": "stream",
          "name": "stderr",
          "text": [
            "100%|██████████| 40/40 [00:29<00:00,  1.33it/s]\n",
            "100%|██████████| 10/10 [00:02<00:00,  3.47it/s]\n"
          ]
        },
        {
          "output_type": "stream",
          "name": "stdout",
          "text": [
            "Valid loss improved from 0.4245 to 0.415055\n",
            "Epoch: 28 | Epoch Time: 0m 33s\n",
            "\tTrain Loss: 0.369\n",
            "\t Val. Loss: 0.415\n",
            "\n"
          ]
        },
        {
          "output_type": "stream",
          "name": "stderr",
          "text": [
            "100%|██████████| 40/40 [00:30<00:00,  1.33it/s]\n",
            "100%|██████████| 10/10 [00:02<00:00,  3.49it/s]\n"
          ]
        },
        {
          "output_type": "stream",
          "name": "stdout",
          "text": [
            "Valid loss improved from 0.4151 to 0.411216\n",
            "Epoch: 29 | Epoch Time: 0m 33s\n",
            "\tTrain Loss: 0.355\n",
            "\t Val. Loss: 0.411\n",
            "\n"
          ]
        },
        {
          "output_type": "stream",
          "name": "stderr",
          "text": [
            "100%|██████████| 40/40 [00:29<00:00,  1.33it/s]\n",
            "100%|██████████| 10/10 [00:02<00:00,  3.47it/s]\n"
          ]
        },
        {
          "output_type": "stream",
          "name": "stdout",
          "text": [
            "Epoch: 30 | Epoch Time: 0m 32s\n",
            "\tTrain Loss: 0.345\n",
            "\t Val. Loss: 0.418\n",
            "\n"
          ]
        },
        {
          "output_type": "stream",
          "name": "stderr",
          "text": [
            "100%|██████████| 40/40 [00:30<00:00,  1.33it/s]\n",
            "100%|██████████| 10/10 [00:02<00:00,  3.47it/s]\n"
          ]
        },
        {
          "output_type": "stream",
          "name": "stdout",
          "text": [
            "Epoch: 31 | Epoch Time: 0m 32s\n",
            "\tTrain Loss: 0.335\n",
            "\t Val. Loss: 0.419\n",
            "\n"
          ]
        },
        {
          "output_type": "stream",
          "name": "stderr",
          "text": [
            "100%|██████████| 40/40 [00:30<00:00,  1.33it/s]\n",
            "100%|██████████| 10/10 [00:03<00:00,  3.28it/s]\n"
          ]
        },
        {
          "output_type": "stream",
          "name": "stdout",
          "text": [
            "Valid loss improved from 0.4112 to 0.405536\n",
            "Epoch: 32 | Epoch Time: 0m 33s\n",
            "\tTrain Loss: 0.325\n",
            "\t Val. Loss: 0.406\n",
            "\n"
          ]
        },
        {
          "output_type": "stream",
          "name": "stderr",
          "text": [
            "100%|██████████| 40/40 [00:30<00:00,  1.33it/s]\n",
            "100%|██████████| 10/10 [00:02<00:00,  3.47it/s]\n"
          ]
        },
        {
          "output_type": "stream",
          "name": "stdout",
          "text": [
            "Valid loss improved from 0.4055 to 0.405264\n",
            "Epoch: 33 | Epoch Time: 0m 33s\n",
            "\tTrain Loss: 0.314\n",
            "\t Val. Loss: 0.405\n",
            "\n"
          ]
        },
        {
          "output_type": "stream",
          "name": "stderr",
          "text": [
            "100%|██████████| 40/40 [00:30<00:00,  1.33it/s]\n",
            "100%|██████████| 10/10 [00:02<00:00,  3.47it/s]\n"
          ]
        },
        {
          "output_type": "stream",
          "name": "stdout",
          "text": [
            "Epoch: 34 | Epoch Time: 0m 32s\n",
            "\tTrain Loss: 0.306\n",
            "\t Val. Loss: 0.415\n",
            "\n"
          ]
        },
        {
          "output_type": "stream",
          "name": "stderr",
          "text": [
            "100%|██████████| 40/40 [00:30<00:00,  1.33it/s]\n",
            "100%|██████████| 10/10 [00:02<00:00,  3.46it/s]\n"
          ]
        },
        {
          "output_type": "stream",
          "name": "stdout",
          "text": [
            "Valid loss improved from 0.4053 to 0.398497\n",
            "Epoch: 35 | Epoch Time: 0m 33s\n",
            "\tTrain Loss: 0.296\n",
            "\t Val. Loss: 0.398\n",
            "\n"
          ]
        },
        {
          "output_type": "stream",
          "name": "stderr",
          "text": [
            "100%|██████████| 40/40 [00:30<00:00,  1.33it/s]\n",
            "100%|██████████| 10/10 [00:02<00:00,  3.46it/s]\n"
          ]
        },
        {
          "output_type": "stream",
          "name": "stdout",
          "text": [
            "Valid loss improved from 0.3985 to 0.396919\n",
            "Epoch: 36 | Epoch Time: 0m 33s\n",
            "\tTrain Loss: 0.289\n",
            "\t Val. Loss: 0.397\n",
            "\n"
          ]
        },
        {
          "output_type": "stream",
          "name": "stderr",
          "text": [
            "100%|██████████| 40/40 [00:30<00:00,  1.33it/s]\n",
            "100%|██████████| 10/10 [00:02<00:00,  3.46it/s]\n"
          ]
        },
        {
          "output_type": "stream",
          "name": "stdout",
          "text": [
            "Valid loss improved from 0.3969 to 0.395918\n",
            "Epoch: 37 | Epoch Time: 0m 33s\n",
            "\tTrain Loss: 0.280\n",
            "\t Val. Loss: 0.396\n",
            "\n"
          ]
        },
        {
          "output_type": "stream",
          "name": "stderr",
          "text": [
            "100%|██████████| 40/40 [00:30<00:00,  1.33it/s]\n",
            "100%|██████████| 10/10 [00:02<00:00,  3.48it/s]\n"
          ]
        },
        {
          "output_type": "stream",
          "name": "stdout",
          "text": [
            "Valid loss improved from 0.3959 to 0.390768\n",
            "Epoch: 38 | Epoch Time: 0m 33s\n",
            "\tTrain Loss: 0.274\n",
            "\t Val. Loss: 0.391\n",
            "\n"
          ]
        },
        {
          "output_type": "stream",
          "name": "stderr",
          "text": [
            "100%|██████████| 40/40 [00:30<00:00,  1.33it/s]\n",
            "100%|██████████| 10/10 [00:02<00:00,  3.45it/s]\n"
          ]
        },
        {
          "output_type": "stream",
          "name": "stdout",
          "text": [
            "Epoch: 39 | Epoch Time: 0m 33s\n",
            "\tTrain Loss: 0.266\n",
            "\t Val. Loss: 0.393\n",
            "\n"
          ]
        },
        {
          "output_type": "stream",
          "name": "stderr",
          "text": [
            "100%|██████████| 40/40 [00:30<00:00,  1.33it/s]\n",
            "100%|██████████| 10/10 [00:02<00:00,  3.46it/s]\n"
          ]
        },
        {
          "output_type": "stream",
          "name": "stdout",
          "text": [
            "Epoch: 40 | Epoch Time: 0m 32s\n",
            "\tTrain Loss: 0.260\n",
            "\t Val. Loss: 0.394\n",
            "\n"
          ]
        },
        {
          "output_type": "stream",
          "name": "stderr",
          "text": [
            "100%|██████████| 40/40 [00:29<00:00,  1.33it/s]\n",
            "100%|██████████| 10/10 [00:02<00:00,  3.45it/s]\n"
          ]
        },
        {
          "output_type": "stream",
          "name": "stdout",
          "text": [
            "Epoch: 41 | Epoch Time: 0m 32s\n",
            "\tTrain Loss: 0.254\n",
            "\t Val. Loss: 0.395\n",
            "\n"
          ]
        },
        {
          "output_type": "stream",
          "name": "stderr",
          "text": [
            "100%|██████████| 40/40 [00:30<00:00,  1.33it/s]\n",
            "100%|██████████| 10/10 [00:02<00:00,  3.47it/s]\n"
          ]
        },
        {
          "output_type": "stream",
          "name": "stdout",
          "text": [
            "Epoch: 42 | Epoch Time: 0m 32s\n",
            "\tTrain Loss: 0.248\n",
            "\t Val. Loss: 0.392\n",
            "\n"
          ]
        },
        {
          "output_type": "stream",
          "name": "stderr",
          "text": [
            "100%|██████████| 40/40 [00:30<00:00,  1.33it/s]\n",
            "100%|██████████| 10/10 [00:02<00:00,  3.39it/s]\n"
          ]
        },
        {
          "output_type": "stream",
          "name": "stdout",
          "text": [
            "Valid loss improved from 0.3908 to 0.388135\n",
            "Epoch: 43 | Epoch Time: 0m 33s\n",
            "\tTrain Loss: 0.243\n",
            "\t Val. Loss: 0.388\n",
            "\n"
          ]
        },
        {
          "output_type": "stream",
          "name": "stderr",
          "text": [
            "100%|██████████| 40/40 [00:30<00:00,  1.33it/s]\n",
            "100%|██████████| 10/10 [00:02<00:00,  3.47it/s]\n"
          ]
        },
        {
          "output_type": "stream",
          "name": "stdout",
          "text": [
            "Valid loss improved from 0.3881 to 0.386811\n",
            "Epoch: 44 | Epoch Time: 0m 33s\n",
            "\tTrain Loss: 0.241\n",
            "\t Val. Loss: 0.387\n",
            "\n"
          ]
        },
        {
          "output_type": "stream",
          "name": "stderr",
          "text": [
            "100%|██████████| 40/40 [00:30<00:00,  1.33it/s]\n",
            "100%|██████████| 10/10 [00:02<00:00,  3.47it/s]\n"
          ]
        },
        {
          "output_type": "stream",
          "name": "stdout",
          "text": [
            "Epoch: 45 | Epoch Time: 0m 32s\n",
            "\tTrain Loss: 0.235\n",
            "\t Val. Loss: 0.388\n",
            "\n"
          ]
        },
        {
          "output_type": "stream",
          "name": "stderr",
          "text": [
            "100%|██████████| 40/40 [00:30<00:00,  1.33it/s]\n",
            "100%|██████████| 10/10 [00:02<00:00,  3.47it/s]\n"
          ]
        },
        {
          "output_type": "stream",
          "name": "stdout",
          "text": [
            "Valid loss improved from 0.3868 to 0.384447\n",
            "Epoch: 46 | Epoch Time: 0m 33s\n",
            "\tTrain Loss: 0.232\n",
            "\t Val. Loss: 0.384\n",
            "\n"
          ]
        },
        {
          "output_type": "stream",
          "name": "stderr",
          "text": [
            "100%|██████████| 40/40 [00:30<00:00,  1.33it/s]\n",
            "100%|██████████| 10/10 [00:02<00:00,  3.46it/s]\n"
          ]
        },
        {
          "output_type": "stream",
          "name": "stdout",
          "text": [
            "Epoch: 47 | Epoch Time: 0m 33s\n",
            "\tTrain Loss: 0.228\n",
            "\t Val. Loss: 0.389\n",
            "\n"
          ]
        },
        {
          "output_type": "stream",
          "name": "stderr",
          "text": [
            "100%|██████████| 40/40 [00:30<00:00,  1.33it/s]\n",
            "100%|██████████| 10/10 [00:02<00:00,  3.46it/s]\n"
          ]
        },
        {
          "output_type": "stream",
          "name": "stdout",
          "text": [
            "Epoch: 48 | Epoch Time: 0m 32s\n",
            "\tTrain Loss: 0.224\n",
            "\t Val. Loss: 0.388\n",
            "\n"
          ]
        },
        {
          "output_type": "stream",
          "name": "stderr",
          "text": [
            "100%|██████████| 40/40 [00:30<00:00,  1.33it/s]\n",
            "100%|██████████| 10/10 [00:02<00:00,  3.47it/s]\n"
          ]
        },
        {
          "output_type": "stream",
          "name": "stdout",
          "text": [
            "Epoch: 49 | Epoch Time: 0m 33s\n",
            "\tTrain Loss: 0.220\n",
            "\t Val. Loss: 0.388\n",
            "\n"
          ]
        },
        {
          "output_type": "stream",
          "name": "stderr",
          "text": [
            "100%|██████████| 40/40 [00:30<00:00,  1.33it/s]\n",
            "100%|██████████| 10/10 [00:02<00:00,  3.48it/s]\n"
          ]
        },
        {
          "output_type": "stream",
          "name": "stdout",
          "text": [
            "Epoch: 50 | Epoch Time: 0m 33s\n",
            "\tTrain Loss: 0.219\n",
            "\t Val. Loss: 0.386\n",
            "\n"
          ]
        },
        {
          "output_type": "stream",
          "name": "stderr",
          "text": [
            "100%|██████████| 40/40 [00:29<00:00,  1.33it/s]\n",
            "100%|██████████| 10/10 [00:02<00:00,  3.49it/s]\n"
          ]
        },
        {
          "output_type": "stream",
          "name": "stdout",
          "text": [
            "Valid loss improved from 0.3844 to 0.382296\n",
            "Epoch: 51 | Epoch Time: 0m 33s\n",
            "\tTrain Loss: 0.215\n",
            "\t Val. Loss: 0.382\n",
            "\n"
          ]
        },
        {
          "output_type": "stream",
          "name": "stderr",
          "text": [
            "100%|██████████| 40/40 [00:30<00:00,  1.33it/s]\n",
            "100%|██████████| 10/10 [00:02<00:00,  3.46it/s]\n"
          ]
        },
        {
          "output_type": "stream",
          "name": "stdout",
          "text": [
            "Valid loss improved from 0.3823 to 0.382164\n",
            "Epoch: 52 | Epoch Time: 0m 33s\n",
            "\tTrain Loss: 0.214\n",
            "\t Val. Loss: 0.382\n",
            "\n"
          ]
        },
        {
          "output_type": "stream",
          "name": "stderr",
          "text": [
            "100%|██████████| 40/40 [00:30<00:00,  1.33it/s]\n",
            "100%|██████████| 10/10 [00:02<00:00,  3.48it/s]\n"
          ]
        },
        {
          "output_type": "stream",
          "name": "stdout",
          "text": [
            "Epoch: 53 | Epoch Time: 0m 32s\n",
            "\tTrain Loss: 0.211\n",
            "\t Val. Loss: 0.383\n",
            "\n"
          ]
        },
        {
          "output_type": "stream",
          "name": "stderr",
          "text": [
            "100%|██████████| 40/40 [00:30<00:00,  1.33it/s]\n",
            "100%|██████████| 10/10 [00:02<00:00,  3.43it/s]\n"
          ]
        },
        {
          "output_type": "stream",
          "name": "stdout",
          "text": [
            "Valid loss improved from 0.3822 to 0.380071\n",
            "Epoch: 54 | Epoch Time: 0m 33s\n",
            "\tTrain Loss: 0.209\n",
            "\t Val. Loss: 0.380\n",
            "\n"
          ]
        },
        {
          "output_type": "stream",
          "name": "stderr",
          "text": [
            "100%|██████████| 40/40 [00:30<00:00,  1.33it/s]\n",
            "100%|██████████| 10/10 [00:02<00:00,  3.47it/s]\n"
          ]
        },
        {
          "output_type": "stream",
          "name": "stdout",
          "text": [
            "Valid loss improved from 0.3801 to 0.379225\n",
            "Epoch: 55 | Epoch Time: 0m 33s\n",
            "\tTrain Loss: 0.207\n",
            "\t Val. Loss: 0.379\n",
            "\n"
          ]
        },
        {
          "output_type": "stream",
          "name": "stderr",
          "text": [
            "100%|██████████| 40/40 [00:30<00:00,  1.33it/s]\n",
            "100%|██████████| 10/10 [00:02<00:00,  3.45it/s]\n"
          ]
        },
        {
          "output_type": "stream",
          "name": "stdout",
          "text": [
            "Epoch: 56 | Epoch Time: 0m 32s\n",
            "\tTrain Loss: 0.205\n",
            "\t Val. Loss: 0.381\n",
            "\n"
          ]
        },
        {
          "output_type": "stream",
          "name": "stderr",
          "text": [
            "100%|██████████| 40/40 [00:30<00:00,  1.33it/s]\n",
            "100%|██████████| 10/10 [00:02<00:00,  3.46it/s]\n"
          ]
        },
        {
          "output_type": "stream",
          "name": "stdout",
          "text": [
            "Valid loss improved from 0.3792 to 0.377929\n",
            "Epoch: 57 | Epoch Time: 0m 33s\n",
            "\tTrain Loss: 0.202\n",
            "\t Val. Loss: 0.378\n",
            "\n"
          ]
        },
        {
          "output_type": "stream",
          "name": "stderr",
          "text": [
            "100%|██████████| 40/40 [00:30<00:00,  1.33it/s]\n",
            "100%|██████████| 10/10 [00:02<00:00,  3.46it/s]\n"
          ]
        },
        {
          "output_type": "stream",
          "name": "stdout",
          "text": [
            "Epoch: 58 | Epoch Time: 0m 33s\n",
            "\tTrain Loss: 0.200\n",
            "\t Val. Loss: 0.380\n",
            "\n"
          ]
        },
        {
          "output_type": "stream",
          "name": "stderr",
          "text": [
            "100%|██████████| 40/40 [00:30<00:00,  1.33it/s]\n",
            "100%|██████████| 10/10 [00:02<00:00,  3.47it/s]\n"
          ]
        },
        {
          "output_type": "stream",
          "name": "stdout",
          "text": [
            "Epoch: 59 | Epoch Time: 0m 32s\n",
            "\tTrain Loss: 0.199\n",
            "\t Val. Loss: 0.382\n",
            "\n"
          ]
        },
        {
          "output_type": "stream",
          "name": "stderr",
          "text": [
            "100%|██████████| 40/40 [00:30<00:00,  1.33it/s]\n",
            "100%|██████████| 10/10 [00:02<00:00,  3.47it/s]\n"
          ]
        },
        {
          "output_type": "stream",
          "name": "stdout",
          "text": [
            "Epoch: 60 | Epoch Time: 0m 32s\n",
            "\tTrain Loss: 0.197\n",
            "\t Val. Loss: 0.381\n",
            "\n"
          ]
        },
        {
          "output_type": "stream",
          "name": "stderr",
          "text": [
            "100%|██████████| 40/40 [00:30<00:00,  1.33it/s]\n",
            "100%|██████████| 10/10 [00:02<00:00,  3.44it/s]\n"
          ]
        },
        {
          "output_type": "stream",
          "name": "stdout",
          "text": [
            "Epoch: 61 | Epoch Time: 0m 33s\n",
            "\tTrain Loss: 0.194\n",
            "\t Val. Loss: 0.383\n",
            "\n"
          ]
        },
        {
          "output_type": "stream",
          "name": "stderr",
          "text": [
            "100%|██████████| 40/40 [00:30<00:00,  1.33it/s]\n",
            "100%|██████████| 10/10 [00:02<00:00,  3.46it/s]\n"
          ]
        },
        {
          "output_type": "stream",
          "name": "stdout",
          "text": [
            "Epoch: 62 | Epoch Time: 0m 33s\n",
            "\tTrain Loss: 0.193\n",
            "\t Val. Loss: 0.379\n",
            "\n"
          ]
        },
        {
          "output_type": "stream",
          "name": "stderr",
          "text": [
            "100%|██████████| 40/40 [00:29<00:00,  1.33it/s]\n",
            "100%|██████████| 10/10 [00:02<00:00,  3.49it/s]\n"
          ]
        },
        {
          "output_type": "stream",
          "name": "stdout",
          "text": [
            "Epoch: 63 | Epoch Time: 0m 32s\n",
            "\tTrain Loss: 0.192\n",
            "\t Val. Loss: 0.382\n",
            "\n"
          ]
        },
        {
          "output_type": "stream",
          "name": "stderr",
          "text": [
            "100%|██████████| 40/40 [00:30<00:00,  1.33it/s]\n",
            "100%|██████████| 10/10 [00:02<00:00,  3.47it/s]\n"
          ]
        },
        {
          "output_type": "stream",
          "name": "stdout",
          "text": [
            "Epoch: 64 | Epoch Time: 0m 32s\n",
            "\tTrain Loss: 0.191\n",
            "\t Val. Loss: 0.383\n",
            "\n"
          ]
        },
        {
          "output_type": "stream",
          "name": "stderr",
          "text": [
            "100%|██████████| 40/40 [00:30<00:00,  1.33it/s]\n",
            "100%|██████████| 10/10 [00:02<00:00,  3.48it/s]\n"
          ]
        },
        {
          "output_type": "stream",
          "name": "stdout",
          "text": [
            "Epoch: 65 | Epoch Time: 0m 32s\n",
            "\tTrain Loss: 0.190\n",
            "\t Val. Loss: 0.383\n",
            "\n"
          ]
        },
        {
          "output_type": "stream",
          "name": "stderr",
          "text": [
            "100%|██████████| 40/40 [00:29<00:00,  1.33it/s]\n",
            "100%|██████████| 10/10 [00:02<00:00,  3.37it/s]\n"
          ]
        },
        {
          "output_type": "stream",
          "name": "stdout",
          "text": [
            "Epoch: 66 | Epoch Time: 0m 32s\n",
            "\tTrain Loss: 0.189\n",
            "\t Val. Loss: 0.380\n",
            "\n"
          ]
        },
        {
          "output_type": "stream",
          "name": "stderr",
          "text": [
            "100%|██████████| 40/40 [00:30<00:00,  1.32it/s]\n",
            "100%|██████████| 10/10 [00:02<00:00,  3.44it/s]\n"
          ]
        },
        {
          "output_type": "stream",
          "name": "stdout",
          "text": [
            "Epoch: 67 | Epoch Time: 0m 33s\n",
            "\tTrain Loss: 0.188\n",
            "\t Val. Loss: 0.385\n",
            "\n"
          ]
        },
        {
          "output_type": "stream",
          "name": "stderr",
          "text": [
            "100%|██████████| 40/40 [00:30<00:00,  1.33it/s]\n",
            "100%|██████████| 10/10 [00:02<00:00,  3.44it/s]\n"
          ]
        },
        {
          "output_type": "stream",
          "name": "stdout",
          "text": [
            "Epoch: 68 | Epoch Time: 0m 32s\n",
            "\tTrain Loss: 0.186\n",
            "\t Val. Loss: 0.378\n",
            "\n"
          ]
        },
        {
          "output_type": "stream",
          "name": "stderr",
          "text": [
            "100%|██████████| 40/40 [00:30<00:00,  1.33it/s]\n",
            "100%|██████████| 10/10 [00:02<00:00,  3.46it/s]\n"
          ]
        },
        {
          "output_type": "stream",
          "name": "stdout",
          "text": [
            "Valid loss improved from 0.3779 to 0.377502\n",
            "Epoch: 69 | Epoch Time: 0m 33s\n",
            "\tTrain Loss: 0.186\n",
            "\t Val. Loss: 0.378\n",
            "\n"
          ]
        },
        {
          "output_type": "stream",
          "name": "stderr",
          "text": [
            "100%|██████████| 40/40 [00:30<00:00,  1.33it/s]\n",
            "100%|██████████| 10/10 [00:02<00:00,  3.42it/s]\n"
          ]
        },
        {
          "output_type": "stream",
          "name": "stdout",
          "text": [
            "Epoch: 70 | Epoch Time: 0m 33s\n",
            "\tTrain Loss: 0.184\n",
            "\t Val. Loss: 0.378\n",
            "\n"
          ]
        },
        {
          "output_type": "stream",
          "name": "stderr",
          "text": [
            "100%|██████████| 40/40 [00:30<00:00,  1.33it/s]\n",
            "100%|██████████| 10/10 [00:02<00:00,  3.47it/s]\n"
          ]
        },
        {
          "output_type": "stream",
          "name": "stdout",
          "text": [
            "Epoch: 71 | Epoch Time: 0m 33s\n",
            "\tTrain Loss: 0.182\n",
            "\t Val. Loss: 0.379\n",
            "\n"
          ]
        },
        {
          "output_type": "stream",
          "name": "stderr",
          "text": [
            "100%|██████████| 40/40 [00:30<00:00,  1.33it/s]\n",
            "100%|██████████| 10/10 [00:02<00:00,  3.47it/s]\n"
          ]
        },
        {
          "output_type": "stream",
          "name": "stdout",
          "text": [
            "Epoch: 72 | Epoch Time: 0m 33s\n",
            "\tTrain Loss: 0.181\n",
            "\t Val. Loss: 0.383\n",
            "\n"
          ]
        },
        {
          "output_type": "stream",
          "name": "stderr",
          "text": [
            "100%|██████████| 40/40 [00:30<00:00,  1.33it/s]\n",
            "100%|██████████| 10/10 [00:02<00:00,  3.47it/s]\n"
          ]
        },
        {
          "output_type": "stream",
          "name": "stdout",
          "text": [
            "Epoch: 73 | Epoch Time: 0m 32s\n",
            "\tTrain Loss: 0.180\n",
            "\t Val. Loss: 0.378\n",
            "\n"
          ]
        },
        {
          "output_type": "stream",
          "name": "stderr",
          "text": [
            "100%|██████████| 40/40 [00:30<00:00,  1.33it/s]\n",
            "100%|██████████| 10/10 [00:02<00:00,  3.46it/s]\n"
          ]
        },
        {
          "output_type": "stream",
          "name": "stdout",
          "text": [
            "Valid loss improved from 0.3775 to 0.376375\n",
            "Epoch: 74 | Epoch Time: 0m 33s\n",
            "\tTrain Loss: 0.180\n",
            "\t Val. Loss: 0.376\n",
            "\n"
          ]
        },
        {
          "output_type": "stream",
          "name": "stderr",
          "text": [
            "100%|██████████| 40/40 [00:30<00:00,  1.33it/s]\n",
            "100%|██████████| 10/10 [00:03<00:00,  3.33it/s]\n"
          ]
        },
        {
          "output_type": "stream",
          "name": "stdout",
          "text": [
            "Epoch: 75 | Epoch Time: 0m 33s\n",
            "\tTrain Loss: 0.180\n",
            "\t Val. Loss: 0.389\n",
            "\n"
          ]
        },
        {
          "output_type": "stream",
          "name": "stderr",
          "text": [
            "100%|██████████| 40/40 [00:30<00:00,  1.33it/s]\n",
            "100%|██████████| 10/10 [00:02<00:00,  3.48it/s]\n"
          ]
        },
        {
          "output_type": "stream",
          "name": "stdout",
          "text": [
            "Epoch: 76 | Epoch Time: 0m 33s\n",
            "\tTrain Loss: 0.179\n",
            "\t Val. Loss: 0.378\n",
            "\n"
          ]
        },
        {
          "output_type": "stream",
          "name": "stderr",
          "text": [
            "100%|██████████| 40/40 [00:30<00:00,  1.33it/s]\n",
            "100%|██████████| 10/10 [00:02<00:00,  3.46it/s]\n"
          ]
        },
        {
          "output_type": "stream",
          "name": "stdout",
          "text": [
            "Epoch: 77 | Epoch Time: 0m 32s\n",
            "\tTrain Loss: 0.178\n",
            "\t Val. Loss: 0.379\n",
            "\n"
          ]
        },
        {
          "output_type": "stream",
          "name": "stderr",
          "text": [
            "100%|██████████| 40/40 [00:30<00:00,  1.33it/s]\n",
            "100%|██████████| 10/10 [00:02<00:00,  3.45it/s]\n"
          ]
        },
        {
          "output_type": "stream",
          "name": "stdout",
          "text": [
            "Epoch: 78 | Epoch Time: 0m 33s\n",
            "\tTrain Loss: 0.177\n",
            "\t Val. Loss: 0.379\n",
            "\n"
          ]
        },
        {
          "output_type": "stream",
          "name": "stderr",
          "text": [
            "100%|██████████| 40/40 [00:30<00:00,  1.33it/s]\n",
            "100%|██████████| 10/10 [00:02<00:00,  3.45it/s]\n"
          ]
        },
        {
          "output_type": "stream",
          "name": "stdout",
          "text": [
            "Epoch: 79 | Epoch Time: 0m 32s\n",
            "\tTrain Loss: 0.177\n",
            "\t Val. Loss: 0.378\n",
            "\n"
          ]
        },
        {
          "output_type": "stream",
          "name": "stderr",
          "text": [
            "100%|██████████| 40/40 [00:30<00:00,  1.33it/s]\n",
            "100%|██████████| 10/10 [00:02<00:00,  3.45it/s]\n"
          ]
        },
        {
          "output_type": "stream",
          "name": "stdout",
          "text": [
            "Epoch: 80 | Epoch Time: 0m 33s\n",
            "\tTrain Loss: 0.176\n",
            "\t Val. Loss: 0.383\n",
            "\n"
          ]
        },
        {
          "output_type": "stream",
          "name": "stderr",
          "text": [
            "100%|██████████| 40/40 [00:30<00:00,  1.33it/s]\n",
            "100%|██████████| 10/10 [00:02<00:00,  3.44it/s]\n"
          ]
        },
        {
          "output_type": "stream",
          "name": "stdout",
          "text": [
            "Epoch: 81 | Epoch Time: 0m 32s\n",
            "\tTrain Loss: 0.175\n",
            "\t Val. Loss: 0.380\n",
            "\n"
          ]
        },
        {
          "output_type": "stream",
          "name": "stderr",
          "text": [
            "100%|██████████| 40/40 [00:30<00:00,  1.33it/s]\n",
            "100%|██████████| 10/10 [00:02<00:00,  3.46it/s]\n"
          ]
        },
        {
          "output_type": "stream",
          "name": "stdout",
          "text": [
            "Epoch: 82 | Epoch Time: 0m 32s\n",
            "\tTrain Loss: 0.174\n",
            "\t Val. Loss: 0.381\n",
            "\n"
          ]
        },
        {
          "output_type": "stream",
          "name": "stderr",
          "text": [
            "100%|██████████| 40/40 [00:30<00:00,  1.33it/s]\n",
            "100%|██████████| 10/10 [00:02<00:00,  3.45it/s]\n"
          ]
        },
        {
          "output_type": "stream",
          "name": "stdout",
          "text": [
            "Epoch: 83 | Epoch Time: 0m 33s\n",
            "\tTrain Loss: 0.174\n",
            "\t Val. Loss: 0.388\n",
            "\n"
          ]
        },
        {
          "output_type": "stream",
          "name": "stderr",
          "text": [
            "100%|██████████| 40/40 [00:30<00:00,  1.33it/s]\n",
            "100%|██████████| 10/10 [00:02<00:00,  3.35it/s]\n"
          ]
        },
        {
          "output_type": "stream",
          "name": "stdout",
          "text": [
            "Epoch: 84 | Epoch Time: 0m 33s\n",
            "\tTrain Loss: 0.172\n",
            "\t Val. Loss: 0.381\n",
            "\n"
          ]
        },
        {
          "output_type": "stream",
          "name": "stderr",
          "text": [
            "100%|██████████| 40/40 [00:30<00:00,  1.33it/s]\n",
            "100%|██████████| 10/10 [00:02<00:00,  3.48it/s]\n"
          ]
        },
        {
          "output_type": "stream",
          "name": "stdout",
          "text": [
            "Epoch: 85 | Epoch Time: 0m 33s\n",
            "\tTrain Loss: 0.172\n",
            "\t Val. Loss: 0.380\n",
            "\n"
          ]
        },
        {
          "output_type": "stream",
          "name": "stderr",
          "text": [
            "100%|██████████| 40/40 [00:30<00:00,  1.33it/s]\n",
            "100%|██████████| 10/10 [00:02<00:00,  3.43it/s]\n"
          ]
        },
        {
          "output_type": "stream",
          "name": "stdout",
          "text": [
            "Epoch: 86 | Epoch Time: 0m 33s\n",
            "\tTrain Loss: 0.171\n",
            "\t Val. Loss: 0.382\n",
            "\n"
          ]
        },
        {
          "output_type": "stream",
          "name": "stderr",
          "text": [
            "100%|██████████| 40/40 [00:30<00:00,  1.33it/s]\n",
            "100%|██████████| 10/10 [00:02<00:00,  3.44it/s]\n"
          ]
        },
        {
          "output_type": "stream",
          "name": "stdout",
          "text": [
            "Epoch: 87 | Epoch Time: 0m 33s\n",
            "\tTrain Loss: 0.170\n",
            "\t Val. Loss: 0.378\n",
            "\n"
          ]
        },
        {
          "output_type": "stream",
          "name": "stderr",
          "text": [
            "100%|██████████| 40/40 [00:30<00:00,  1.33it/s]\n",
            "100%|██████████| 10/10 [00:02<00:00,  3.46it/s]\n"
          ]
        },
        {
          "output_type": "stream",
          "name": "stdout",
          "text": [
            "Epoch: 88 | Epoch Time: 0m 33s\n",
            "\tTrain Loss: 0.171\n",
            "\t Val. Loss: 0.380\n",
            "\n"
          ]
        },
        {
          "output_type": "stream",
          "name": "stderr",
          "text": [
            "100%|██████████| 40/40 [00:30<00:00,  1.33it/s]\n",
            "100%|██████████| 10/10 [00:02<00:00,  3.45it/s]\n"
          ]
        },
        {
          "output_type": "stream",
          "name": "stdout",
          "text": [
            "Epoch: 89 | Epoch Time: 0m 32s\n",
            "\tTrain Loss: 0.171\n",
            "\t Val. Loss: 0.379\n",
            "\n"
          ]
        },
        {
          "output_type": "stream",
          "name": "stderr",
          "text": [
            "100%|██████████| 40/40 [00:30<00:00,  1.33it/s]\n",
            "100%|██████████| 10/10 [00:02<00:00,  3.46it/s]\n"
          ]
        },
        {
          "output_type": "stream",
          "name": "stdout",
          "text": [
            "Epoch: 90 | Epoch Time: 0m 32s\n",
            "\tTrain Loss: 0.170\n",
            "\t Val. Loss: 0.380\n",
            "\n"
          ]
        },
        {
          "output_type": "stream",
          "name": "stderr",
          "text": [
            "100%|██████████| 40/40 [00:30<00:00,  1.33it/s]\n",
            "100%|██████████| 10/10 [00:02<00:00,  3.46it/s]\n"
          ]
        },
        {
          "output_type": "stream",
          "name": "stdout",
          "text": [
            "Epoch: 91 | Epoch Time: 0m 32s\n",
            "\tTrain Loss: 0.169\n",
            "\t Val. Loss: 0.377\n",
            "\n"
          ]
        },
        {
          "output_type": "stream",
          "name": "stderr",
          "text": [
            "100%|██████████| 40/40 [00:30<00:00,  1.33it/s]\n",
            "100%|██████████| 10/10 [00:02<00:00,  3.46it/s]\n"
          ]
        },
        {
          "output_type": "stream",
          "name": "stdout",
          "text": [
            "Epoch: 92 | Epoch Time: 0m 32s\n",
            "\tTrain Loss: 0.168\n",
            "\t Val. Loss: 0.382\n",
            "\n"
          ]
        },
        {
          "output_type": "stream",
          "name": "stderr",
          "text": [
            "100%|██████████| 40/40 [00:30<00:00,  1.33it/s]\n",
            "100%|██████████| 10/10 [00:02<00:00,  3.46it/s]\n"
          ]
        },
        {
          "output_type": "stream",
          "name": "stdout",
          "text": [
            "Epoch: 93 | Epoch Time: 0m 33s\n",
            "\tTrain Loss: 0.167\n",
            "\t Val. Loss: 0.379\n",
            "\n"
          ]
        },
        {
          "output_type": "stream",
          "name": "stderr",
          "text": [
            "100%|██████████| 40/40 [00:30<00:00,  1.33it/s]\n",
            "100%|██████████| 10/10 [00:02<00:00,  3.44it/s]\n"
          ]
        },
        {
          "output_type": "stream",
          "name": "stdout",
          "text": [
            "Epoch: 94 | Epoch Time: 0m 32s\n",
            "\tTrain Loss: 0.167\n",
            "\t Val. Loss: 0.382\n",
            "\n"
          ]
        },
        {
          "output_type": "stream",
          "name": "stderr",
          "text": [
            "100%|██████████| 40/40 [00:30<00:00,  1.33it/s]\n",
            "100%|██████████| 10/10 [00:02<00:00,  3.46it/s]\n"
          ]
        },
        {
          "output_type": "stream",
          "name": "stdout",
          "text": [
            "Epoch: 95 | Epoch Time: 0m 33s\n",
            "\tTrain Loss: 0.165\n",
            "\t Val. Loss: 0.379\n",
            "\n"
          ]
        },
        {
          "output_type": "stream",
          "name": "stderr",
          "text": [
            "100%|██████████| 40/40 [00:30<00:00,  1.33it/s]\n",
            "100%|██████████| 10/10 [00:02<00:00,  3.48it/s]\n"
          ]
        },
        {
          "output_type": "stream",
          "name": "stdout",
          "text": [
            "Epoch: 96 | Epoch Time: 0m 32s\n",
            "\tTrain Loss: 0.165\n",
            "\t Val. Loss: 0.380\n",
            "\n"
          ]
        },
        {
          "output_type": "stream",
          "name": "stderr",
          "text": [
            "100%|██████████| 40/40 [00:30<00:00,  1.33it/s]\n",
            "100%|██████████| 10/10 [00:02<00:00,  3.44it/s]\n"
          ]
        },
        {
          "output_type": "stream",
          "name": "stdout",
          "text": [
            "Epoch: 97 | Epoch Time: 0m 32s\n",
            "\tTrain Loss: 0.164\n",
            "\t Val. Loss: 0.382\n",
            "\n"
          ]
        },
        {
          "output_type": "stream",
          "name": "stderr",
          "text": [
            "100%|██████████| 40/40 [00:30<00:00,  1.33it/s]\n",
            "100%|██████████| 10/10 [00:02<00:00,  3.46it/s]\n"
          ]
        },
        {
          "output_type": "stream",
          "name": "stdout",
          "text": [
            "Epoch: 98 | Epoch Time: 0m 32s\n",
            "\tTrain Loss: 0.164\n",
            "\t Val. Loss: 0.384\n",
            "\n"
          ]
        },
        {
          "output_type": "stream",
          "name": "stderr",
          "text": [
            "100%|██████████| 40/40 [00:30<00:00,  1.33it/s]\n",
            "100%|██████████| 10/10 [00:02<00:00,  3.46it/s]\n"
          ]
        },
        {
          "output_type": "stream",
          "name": "stdout",
          "text": [
            "Epoch: 99 | Epoch Time: 0m 32s\n",
            "\tTrain Loss: 0.163\n",
            "\t Val. Loss: 0.381\n",
            "\n"
          ]
        },
        {
          "output_type": "stream",
          "name": "stderr",
          "text": [
            "100%|██████████| 40/40 [00:30<00:00,  1.33it/s]\n",
            "100%|██████████| 10/10 [00:02<00:00,  3.44it/s]\n"
          ]
        },
        {
          "output_type": "stream",
          "name": "stdout",
          "text": [
            "Epoch: 100 | Epoch Time: 0m 33s\n",
            "\tTrain Loss: 0.162\n",
            "\t Val. Loss: 0.383\n",
            "\n"
          ]
        },
        {
          "output_type": "stream",
          "name": "stderr",
          "text": [
            "100%|██████████| 40/40 [00:30<00:00,  1.33it/s]\n",
            "100%|██████████| 10/10 [00:02<00:00,  3.36it/s]\n"
          ]
        },
        {
          "output_type": "stream",
          "name": "stdout",
          "text": [
            "Epoch: 101 | Epoch Time: 0m 33s\n",
            "\tTrain Loss: 0.162\n",
            "\t Val. Loss: 0.382\n",
            "\n"
          ]
        },
        {
          "output_type": "stream",
          "name": "stderr",
          "text": [
            "100%|██████████| 40/40 [00:30<00:00,  1.33it/s]\n",
            "100%|██████████| 10/10 [00:02<00:00,  3.46it/s]\n"
          ]
        },
        {
          "output_type": "stream",
          "name": "stdout",
          "text": [
            "Epoch: 102 | Epoch Time: 0m 33s\n",
            "\tTrain Loss: 0.162\n",
            "\t Val. Loss: 0.381\n",
            "\n"
          ]
        },
        {
          "output_type": "stream",
          "name": "stderr",
          "text": [
            "100%|██████████| 40/40 [00:30<00:00,  1.33it/s]\n",
            "100%|██████████| 10/10 [00:02<00:00,  3.46it/s]\n"
          ]
        },
        {
          "output_type": "stream",
          "name": "stdout",
          "text": [
            "Epoch: 103 | Epoch Time: 0m 32s\n",
            "\tTrain Loss: 0.162\n",
            "\t Val. Loss: 0.381\n",
            "\n"
          ]
        },
        {
          "output_type": "stream",
          "name": "stderr",
          "text": [
            "100%|██████████| 40/40 [00:30<00:00,  1.33it/s]\n",
            "100%|██████████| 10/10 [00:02<00:00,  3.44it/s]\n"
          ]
        },
        {
          "output_type": "stream",
          "name": "stdout",
          "text": [
            "Epoch: 104 | Epoch Time: 0m 32s\n",
            "\tTrain Loss: 0.162\n",
            "\t Val. Loss: 0.383\n",
            "\n"
          ]
        },
        {
          "output_type": "stream",
          "name": "stderr",
          "text": [
            "100%|██████████| 40/40 [00:29<00:00,  1.33it/s]\n",
            "100%|██████████| 10/10 [00:02<00:00,  3.48it/s]\n"
          ]
        },
        {
          "output_type": "stream",
          "name": "stdout",
          "text": [
            "Epoch: 105 | Epoch Time: 0m 32s\n",
            "\tTrain Loss: 0.161\n",
            "\t Val. Loss: 0.384\n",
            "\n"
          ]
        },
        {
          "output_type": "stream",
          "name": "stderr",
          "text": [
            "100%|██████████| 40/40 [00:30<00:00,  1.33it/s]\n",
            "100%|██████████| 10/10 [00:02<00:00,  3.45it/s]\n"
          ]
        },
        {
          "output_type": "stream",
          "name": "stdout",
          "text": [
            "Epoch: 106 | Epoch Time: 0m 32s\n",
            "\tTrain Loss: 0.161\n",
            "\t Val. Loss: 0.380\n",
            "\n"
          ]
        },
        {
          "output_type": "stream",
          "name": "stderr",
          "text": [
            "100%|██████████| 40/40 [00:30<00:00,  1.33it/s]\n",
            "100%|██████████| 10/10 [00:02<00:00,  3.46it/s]\n"
          ]
        },
        {
          "output_type": "stream",
          "name": "stdout",
          "text": [
            "Epoch: 107 | Epoch Time: 0m 32s\n",
            "\tTrain Loss: 0.161\n",
            "\t Val. Loss: 0.384\n",
            "\n"
          ]
        },
        {
          "output_type": "stream",
          "name": "stderr",
          "text": [
            "100%|██████████| 40/40 [00:30<00:00,  1.33it/s]\n",
            "100%|██████████| 10/10 [00:02<00:00,  3.45it/s]\n"
          ]
        },
        {
          "output_type": "stream",
          "name": "stdout",
          "text": [
            "Epoch: 108 | Epoch Time: 0m 33s\n",
            "\tTrain Loss: 0.160\n",
            "\t Val. Loss: 0.380\n",
            "\n"
          ]
        },
        {
          "output_type": "stream",
          "name": "stderr",
          "text": [
            "100%|██████████| 40/40 [00:30<00:00,  1.33it/s]\n",
            "100%|██████████| 10/10 [00:02<00:00,  3.47it/s]\n"
          ]
        },
        {
          "output_type": "stream",
          "name": "stdout",
          "text": [
            "Epoch: 109 | Epoch Time: 0m 33s\n",
            "\tTrain Loss: 0.159\n",
            "\t Val. Loss: 0.384\n",
            "\n"
          ]
        },
        {
          "output_type": "stream",
          "name": "stderr",
          "text": [
            "100%|██████████| 40/40 [00:30<00:00,  1.33it/s]\n",
            "100%|██████████| 10/10 [00:02<00:00,  3.46it/s]\n"
          ]
        },
        {
          "output_type": "stream",
          "name": "stdout",
          "text": [
            "Epoch: 110 | Epoch Time: 0m 32s\n",
            "\tTrain Loss: 0.159\n",
            "\t Val. Loss: 0.383\n",
            "\n"
          ]
        },
        {
          "output_type": "stream",
          "name": "stderr",
          "text": [
            "100%|██████████| 40/40 [00:30<00:00,  1.33it/s]\n",
            "100%|██████████| 10/10 [00:02<00:00,  3.46it/s]\n"
          ]
        },
        {
          "output_type": "stream",
          "name": "stdout",
          "text": [
            "Epoch: 111 | Epoch Time: 0m 33s\n",
            "\tTrain Loss: 0.160\n",
            "\t Val. Loss: 0.379\n",
            "\n"
          ]
        },
        {
          "output_type": "stream",
          "name": "stderr",
          "text": [
            "100%|██████████| 40/40 [00:30<00:00,  1.33it/s]\n",
            "100%|██████████| 10/10 [00:02<00:00,  3.45it/s]\n"
          ]
        },
        {
          "output_type": "stream",
          "name": "stdout",
          "text": [
            "Epoch: 112 | Epoch Time: 0m 33s\n",
            "\tTrain Loss: 0.159\n",
            "\t Val. Loss: 0.378\n",
            "\n"
          ]
        },
        {
          "output_type": "stream",
          "name": "stderr",
          "text": [
            "100%|██████████| 40/40 [00:30<00:00,  1.33it/s]\n",
            "100%|██████████| 10/10 [00:02<00:00,  3.45it/s]\n"
          ]
        },
        {
          "output_type": "stream",
          "name": "stdout",
          "text": [
            "Epoch: 113 | Epoch Time: 0m 33s\n",
            "\tTrain Loss: 0.159\n",
            "\t Val. Loss: 0.379\n",
            "\n"
          ]
        },
        {
          "output_type": "stream",
          "name": "stderr",
          "text": [
            "100%|██████████| 40/40 [00:30<00:00,  1.33it/s]\n",
            "100%|██████████| 10/10 [00:02<00:00,  3.45it/s]\n"
          ]
        },
        {
          "output_type": "stream",
          "name": "stdout",
          "text": [
            "Epoch: 114 | Epoch Time: 0m 32s\n",
            "\tTrain Loss: 0.158\n",
            "\t Val. Loss: 0.380\n",
            "\n"
          ]
        },
        {
          "output_type": "stream",
          "name": "stderr",
          "text": [
            "100%|██████████| 40/40 [00:30<00:00,  1.33it/s]\n",
            "100%|██████████| 10/10 [00:02<00:00,  3.44it/s]\n"
          ]
        },
        {
          "output_type": "stream",
          "name": "stdout",
          "text": [
            "Epoch: 115 | Epoch Time: 0m 32s\n",
            "\tTrain Loss: 0.158\n",
            "\t Val. Loss: 0.382\n",
            "\n"
          ]
        },
        {
          "output_type": "stream",
          "name": "stderr",
          "text": [
            "100%|██████████| 40/40 [00:30<00:00,  1.33it/s]\n",
            "100%|██████████| 10/10 [00:02<00:00,  3.43it/s]\n"
          ]
        },
        {
          "output_type": "stream",
          "name": "stdout",
          "text": [
            "Epoch: 116 | Epoch Time: 0m 33s\n",
            "\tTrain Loss: 0.157\n",
            "\t Val. Loss: 0.385\n",
            "\n"
          ]
        },
        {
          "output_type": "stream",
          "name": "stderr",
          "text": [
            "100%|██████████| 40/40 [00:30<00:00,  1.33it/s]\n",
            "100%|██████████| 10/10 [00:02<00:00,  3.46it/s]\n"
          ]
        },
        {
          "output_type": "stream",
          "name": "stdout",
          "text": [
            "Epoch: 117 | Epoch Time: 0m 33s\n",
            "\tTrain Loss: 0.157\n",
            "\t Val. Loss: 0.385\n",
            "\n"
          ]
        },
        {
          "output_type": "stream",
          "name": "stderr",
          "text": [
            "100%|██████████| 40/40 [00:29<00:00,  1.33it/s]\n",
            "100%|██████████| 10/10 [00:02<00:00,  3.44it/s]\n"
          ]
        },
        {
          "output_type": "stream",
          "name": "stdout",
          "text": [
            "Epoch: 118 | Epoch Time: 0m 32s\n",
            "\tTrain Loss: 0.156\n",
            "\t Val. Loss: 0.385\n",
            "\n"
          ]
        },
        {
          "output_type": "stream",
          "name": "stderr",
          "text": [
            "100%|██████████| 40/40 [00:30<00:00,  1.33it/s]\n",
            "100%|██████████| 10/10 [00:02<00:00,  3.45it/s]\n"
          ]
        },
        {
          "output_type": "stream",
          "name": "stdout",
          "text": [
            "Epoch: 119 | Epoch Time: 0m 33s\n",
            "\tTrain Loss: 0.156\n",
            "\t Val. Loss: 0.386\n",
            "\n"
          ]
        },
        {
          "output_type": "stream",
          "name": "stderr",
          "text": [
            "100%|██████████| 40/40 [00:30<00:00,  1.33it/s]\n",
            "100%|██████████| 10/10 [00:02<00:00,  3.48it/s]\n"
          ]
        },
        {
          "output_type": "stream",
          "name": "stdout",
          "text": [
            "Epoch: 120 | Epoch Time: 0m 32s\n",
            "\tTrain Loss: 0.157\n",
            "\t Val. Loss: 0.381\n",
            "\n"
          ]
        },
        {
          "output_type": "stream",
          "name": "stderr",
          "text": [
            "100%|██████████| 40/40 [00:30<00:00,  1.33it/s]\n",
            "100%|██████████| 10/10 [00:02<00:00,  3.45it/s]\n"
          ]
        },
        {
          "output_type": "stream",
          "name": "stdout",
          "text": [
            "Epoch: 121 | Epoch Time: 0m 33s\n",
            "\tTrain Loss: 0.157\n",
            "\t Val. Loss: 0.382\n",
            "\n"
          ]
        },
        {
          "output_type": "stream",
          "name": "stderr",
          "text": [
            "100%|██████████| 40/40 [00:30<00:00,  1.33it/s]\n",
            "100%|██████████| 10/10 [00:02<00:00,  3.43it/s]\n"
          ]
        },
        {
          "output_type": "stream",
          "name": "stdout",
          "text": [
            "Epoch: 122 | Epoch Time: 0m 33s\n",
            "\tTrain Loss: 0.156\n",
            "\t Val. Loss: 0.381\n",
            "\n"
          ]
        },
        {
          "output_type": "stream",
          "name": "stderr",
          "text": [
            "100%|██████████| 40/40 [00:30<00:00,  1.33it/s]\n",
            "100%|██████████| 10/10 [00:02<00:00,  3.46it/s]\n"
          ]
        },
        {
          "output_type": "stream",
          "name": "stdout",
          "text": [
            "Epoch: 123 | Epoch Time: 0m 32s\n",
            "\tTrain Loss: 0.156\n",
            "\t Val. Loss: 0.383\n",
            "\n"
          ]
        },
        {
          "output_type": "stream",
          "name": "stderr",
          "text": [
            "100%|██████████| 40/40 [00:30<00:00,  1.33it/s]\n",
            "100%|██████████| 10/10 [00:02<00:00,  3.46it/s]\n"
          ]
        },
        {
          "output_type": "stream",
          "name": "stdout",
          "text": [
            "Epoch: 124 | Epoch Time: 0m 33s\n",
            "\tTrain Loss: 0.156\n",
            "\t Val. Loss: 0.383\n",
            "\n"
          ]
        },
        {
          "output_type": "stream",
          "name": "stderr",
          "text": [
            "100%|██████████| 40/40 [00:30<00:00,  1.33it/s]\n",
            "100%|██████████| 10/10 [00:02<00:00,  3.46it/s]\n"
          ]
        },
        {
          "output_type": "stream",
          "name": "stdout",
          "text": [
            "Epoch: 125 | Epoch Time: 0m 33s\n",
            "\tTrain Loss: 0.157\n",
            "\t Val. Loss: 0.384\n",
            "\n"
          ]
        },
        {
          "output_type": "stream",
          "name": "stderr",
          "text": [
            "100%|██████████| 40/40 [00:30<00:00,  1.33it/s]\n",
            "100%|██████████| 10/10 [00:02<00:00,  3.45it/s]\n"
          ]
        },
        {
          "output_type": "stream",
          "name": "stdout",
          "text": [
            "Epoch: 126 | Epoch Time: 0m 33s\n",
            "\tTrain Loss: 0.157\n",
            "\t Val. Loss: 0.381\n",
            "\n"
          ]
        },
        {
          "output_type": "stream",
          "name": "stderr",
          "text": [
            "100%|██████████| 40/40 [00:30<00:00,  1.33it/s]\n",
            "100%|██████████| 10/10 [00:02<00:00,  3.46it/s]\n"
          ]
        },
        {
          "output_type": "stream",
          "name": "stdout",
          "text": [
            "Epoch: 127 | Epoch Time: 0m 33s\n",
            "\tTrain Loss: 0.156\n",
            "\t Val. Loss: 0.386\n",
            "\n"
          ]
        },
        {
          "output_type": "stream",
          "name": "stderr",
          "text": [
            "100%|██████████| 40/40 [00:29<00:00,  1.33it/s]\n",
            "100%|██████████| 10/10 [00:02<00:00,  3.46it/s]\n"
          ]
        },
        {
          "output_type": "stream",
          "name": "stdout",
          "text": [
            "Epoch: 128 | Epoch Time: 0m 32s\n",
            "\tTrain Loss: 0.155\n",
            "\t Val. Loss: 0.380\n",
            "\n"
          ]
        },
        {
          "output_type": "stream",
          "name": "stderr",
          "text": [
            "100%|██████████| 40/40 [00:30<00:00,  1.33it/s]\n",
            "100%|██████████| 10/10 [00:02<00:00,  3.45it/s]\n"
          ]
        },
        {
          "output_type": "stream",
          "name": "stdout",
          "text": [
            "Epoch: 129 | Epoch Time: 0m 33s\n",
            "\tTrain Loss: 0.154\n",
            "\t Val. Loss: 0.382\n",
            "\n"
          ]
        },
        {
          "output_type": "stream",
          "name": "stderr",
          "text": [
            "100%|██████████| 40/40 [00:30<00:00,  1.33it/s]\n",
            "100%|██████████| 10/10 [00:02<00:00,  3.44it/s]\n"
          ]
        },
        {
          "output_type": "stream",
          "name": "stdout",
          "text": [
            "Epoch: 130 | Epoch Time: 0m 33s\n",
            "\tTrain Loss: 0.153\n",
            "\t Val. Loss: 0.386\n",
            "\n"
          ]
        },
        {
          "output_type": "stream",
          "name": "stderr",
          "text": [
            "100%|██████████| 40/40 [00:30<00:00,  1.33it/s]\n",
            "100%|██████████| 10/10 [00:02<00:00,  3.45it/s]\n"
          ]
        },
        {
          "output_type": "stream",
          "name": "stdout",
          "text": [
            "Epoch: 131 | Epoch Time: 0m 32s\n",
            "\tTrain Loss: 0.153\n",
            "\t Val. Loss: 0.381\n",
            "\n"
          ]
        },
        {
          "output_type": "stream",
          "name": "stderr",
          "text": [
            "100%|██████████| 40/40 [00:30<00:00,  1.33it/s]\n",
            "100%|██████████| 10/10 [00:02<00:00,  3.46it/s]\n"
          ]
        },
        {
          "output_type": "stream",
          "name": "stdout",
          "text": [
            "Epoch: 132 | Epoch Time: 0m 33s\n",
            "\tTrain Loss: 0.152\n",
            "\t Val. Loss: 0.382\n",
            "\n"
          ]
        },
        {
          "output_type": "stream",
          "name": "stderr",
          "text": [
            "100%|██████████| 40/40 [00:29<00:00,  1.33it/s]\n",
            "100%|██████████| 10/10 [00:02<00:00,  3.48it/s]\n"
          ]
        },
        {
          "output_type": "stream",
          "name": "stdout",
          "text": [
            "Epoch: 133 | Epoch Time: 0m 32s\n",
            "\tTrain Loss: 0.152\n",
            "\t Val. Loss: 0.382\n",
            "\n"
          ]
        },
        {
          "output_type": "stream",
          "name": "stderr",
          "text": [
            "100%|██████████| 40/40 [00:30<00:00,  1.33it/s]\n",
            "100%|██████████| 10/10 [00:02<00:00,  3.46it/s]\n"
          ]
        },
        {
          "output_type": "stream",
          "name": "stdout",
          "text": [
            "Epoch: 134 | Epoch Time: 0m 32s\n",
            "\tTrain Loss: 0.152\n",
            "\t Val. Loss: 0.381\n",
            "\n"
          ]
        },
        {
          "output_type": "stream",
          "name": "stderr",
          "text": [
            "100%|██████████| 40/40 [00:30<00:00,  1.33it/s]\n",
            "100%|██████████| 10/10 [00:02<00:00,  3.43it/s]\n"
          ]
        },
        {
          "output_type": "stream",
          "name": "stdout",
          "text": [
            "Epoch: 135 | Epoch Time: 0m 33s\n",
            "\tTrain Loss: 0.152\n",
            "\t Val. Loss: 0.387\n",
            "\n"
          ]
        },
        {
          "output_type": "stream",
          "name": "stderr",
          "text": [
            "100%|██████████| 40/40 [00:30<00:00,  1.33it/s]\n",
            "100%|██████████| 10/10 [00:02<00:00,  3.46it/s]\n"
          ]
        },
        {
          "output_type": "stream",
          "name": "stdout",
          "text": [
            "Epoch: 136 | Epoch Time: 0m 32s\n",
            "\tTrain Loss: 0.152\n",
            "\t Val. Loss: 0.380\n",
            "\n"
          ]
        },
        {
          "output_type": "stream",
          "name": "stderr",
          "text": [
            "100%|██████████| 40/40 [00:30<00:00,  1.33it/s]\n",
            "100%|██████████| 10/10 [00:02<00:00,  3.49it/s]\n"
          ]
        },
        {
          "output_type": "stream",
          "name": "stdout",
          "text": [
            "Epoch: 137 | Epoch Time: 0m 32s\n",
            "\tTrain Loss: 0.152\n",
            "\t Val. Loss: 0.385\n",
            "\n"
          ]
        },
        {
          "output_type": "stream",
          "name": "stderr",
          "text": [
            "100%|██████████| 40/40 [00:30<00:00,  1.33it/s]\n",
            "100%|██████████| 10/10 [00:02<00:00,  3.46it/s]\n"
          ]
        },
        {
          "output_type": "stream",
          "name": "stdout",
          "text": [
            "Epoch: 138 | Epoch Time: 0m 32s\n",
            "\tTrain Loss: 0.152\n",
            "\t Val. Loss: 0.382\n",
            "\n"
          ]
        },
        {
          "output_type": "stream",
          "name": "stderr",
          "text": [
            "100%|██████████| 40/40 [00:30<00:00,  1.33it/s]\n",
            "100%|██████████| 10/10 [00:02<00:00,  3.46it/s]\n"
          ]
        },
        {
          "output_type": "stream",
          "name": "stdout",
          "text": [
            "Epoch: 139 | Epoch Time: 0m 33s\n",
            "\tTrain Loss: 0.152\n",
            "\t Val. Loss: 0.383\n",
            "\n"
          ]
        },
        {
          "output_type": "stream",
          "name": "stderr",
          "text": [
            "100%|██████████| 40/40 [00:30<00:00,  1.33it/s]\n",
            "100%|██████████| 10/10 [00:02<00:00,  3.45it/s]\n"
          ]
        },
        {
          "output_type": "stream",
          "name": "stdout",
          "text": [
            "Epoch: 140 | Epoch Time: 0m 33s\n",
            "\tTrain Loss: 0.152\n",
            "\t Val. Loss: 0.388\n",
            "\n"
          ]
        },
        {
          "output_type": "stream",
          "name": "stderr",
          "text": [
            "100%|██████████| 40/40 [00:30<00:00,  1.33it/s]\n",
            "100%|██████████| 10/10 [00:02<00:00,  3.48it/s]\n"
          ]
        },
        {
          "output_type": "stream",
          "name": "stdout",
          "text": [
            "Epoch: 141 | Epoch Time: 0m 32s\n",
            "\tTrain Loss: 0.152\n",
            "\t Val. Loss: 0.387\n",
            "\n"
          ]
        },
        {
          "output_type": "stream",
          "name": "stderr",
          "text": [
            "100%|██████████| 40/40 [00:29<00:00,  1.33it/s]\n",
            "100%|██████████| 10/10 [00:02<00:00,  3.48it/s]\n"
          ]
        },
        {
          "output_type": "stream",
          "name": "stdout",
          "text": [
            "Epoch: 142 | Epoch Time: 0m 32s\n",
            "\tTrain Loss: 0.152\n",
            "\t Val. Loss: 0.384\n",
            "\n"
          ]
        },
        {
          "output_type": "stream",
          "name": "stderr",
          "text": [
            "100%|██████████| 40/40 [00:30<00:00,  1.33it/s]\n",
            "100%|██████████| 10/10 [00:02<00:00,  3.37it/s]\n"
          ]
        },
        {
          "output_type": "stream",
          "name": "stdout",
          "text": [
            "Epoch: 143 | Epoch Time: 0m 33s\n",
            "\tTrain Loss: 0.152\n",
            "\t Val. Loss: 0.385\n",
            "\n"
          ]
        },
        {
          "output_type": "stream",
          "name": "stderr",
          "text": [
            "100%|██████████| 40/40 [00:30<00:00,  1.33it/s]\n",
            "100%|██████████| 10/10 [00:02<00:00,  3.46it/s]\n"
          ]
        },
        {
          "output_type": "stream",
          "name": "stdout",
          "text": [
            "Epoch: 144 | Epoch Time: 0m 33s\n",
            "\tTrain Loss: 0.151\n",
            "\t Val. Loss: 0.388\n",
            "\n"
          ]
        },
        {
          "output_type": "stream",
          "name": "stderr",
          "text": [
            "100%|██████████| 40/40 [00:30<00:00,  1.33it/s]\n",
            "100%|██████████| 10/10 [00:02<00:00,  3.45it/s]\n"
          ]
        },
        {
          "output_type": "stream",
          "name": "stdout",
          "text": [
            "Epoch: 145 | Epoch Time: 0m 32s\n",
            "\tTrain Loss: 0.151\n",
            "\t Val. Loss: 0.385\n",
            "\n"
          ]
        },
        {
          "output_type": "stream",
          "name": "stderr",
          "text": [
            "100%|██████████| 40/40 [00:30<00:00,  1.33it/s]\n",
            "100%|██████████| 10/10 [00:02<00:00,  3.45it/s]\n"
          ]
        },
        {
          "output_type": "stream",
          "name": "stdout",
          "text": [
            "Epoch: 146 | Epoch Time: 0m 33s\n",
            "\tTrain Loss: 0.151\n",
            "\t Val. Loss: 0.385\n",
            "\n"
          ]
        },
        {
          "output_type": "stream",
          "name": "stderr",
          "text": [
            "100%|██████████| 40/40 [00:30<00:00,  1.33it/s]\n",
            "100%|██████████| 10/10 [00:02<00:00,  3.46it/s]\n"
          ]
        },
        {
          "output_type": "stream",
          "name": "stdout",
          "text": [
            "Epoch: 147 | Epoch Time: 0m 32s\n",
            "\tTrain Loss: 0.150\n",
            "\t Val. Loss: 0.387\n",
            "\n"
          ]
        },
        {
          "output_type": "stream",
          "name": "stderr",
          "text": [
            "100%|██████████| 40/40 [00:30<00:00,  1.33it/s]\n",
            "100%|██████████| 10/10 [00:02<00:00,  3.45it/s]\n"
          ]
        },
        {
          "output_type": "stream",
          "name": "stdout",
          "text": [
            "Epoch: 148 | Epoch Time: 0m 33s\n",
            "\tTrain Loss: 0.150\n",
            "\t Val. Loss: 0.388\n",
            "\n"
          ]
        },
        {
          "output_type": "stream",
          "name": "stderr",
          "text": [
            "100%|██████████| 40/40 [00:30<00:00,  1.33it/s]\n",
            "100%|██████████| 10/10 [00:02<00:00,  3.48it/s]\n"
          ]
        },
        {
          "output_type": "stream",
          "name": "stdout",
          "text": [
            "Epoch: 149 | Epoch Time: 0m 33s\n",
            "\tTrain Loss: 0.150\n",
            "\t Val. Loss: 0.384\n",
            "\n"
          ]
        },
        {
          "output_type": "stream",
          "name": "stderr",
          "text": [
            "100%|██████████| 40/40 [00:30<00:00,  1.33it/s]\n",
            "100%|██████████| 10/10 [00:02<00:00,  3.48it/s]\n"
          ]
        },
        {
          "output_type": "stream",
          "name": "stdout",
          "text": [
            "Epoch: 150 | Epoch Time: 0m 32s\n",
            "\tTrain Loss: 0.150\n",
            "\t Val. Loss: 0.384\n",
            "\n"
          ]
        },
        {
          "output_type": "stream",
          "name": "stderr",
          "text": [
            "100%|██████████| 40/40 [00:30<00:00,  1.33it/s]\n",
            "100%|██████████| 10/10 [00:02<00:00,  3.48it/s]\n"
          ]
        },
        {
          "output_type": "stream",
          "name": "stdout",
          "text": [
            "Epoch: 151 | Epoch Time: 0m 32s\n",
            "\tTrain Loss: 0.151\n",
            "\t Val. Loss: 0.390\n",
            "\n"
          ]
        },
        {
          "output_type": "stream",
          "name": "stderr",
          "text": [
            "100%|██████████| 40/40 [00:30<00:00,  1.33it/s]\n",
            "100%|██████████| 10/10 [00:02<00:00,  3.44it/s]\n"
          ]
        },
        {
          "output_type": "stream",
          "name": "stdout",
          "text": [
            "Epoch: 152 | Epoch Time: 0m 33s\n",
            "\tTrain Loss: 0.151\n",
            "\t Val. Loss: 0.386\n",
            "\n"
          ]
        },
        {
          "output_type": "stream",
          "name": "stderr",
          "text": [
            "100%|██████████| 40/40 [00:30<00:00,  1.32it/s]\n",
            "100%|██████████| 10/10 [00:02<00:00,  3.36it/s]\n"
          ]
        },
        {
          "output_type": "stream",
          "name": "stdout",
          "text": [
            "Epoch: 153 | Epoch Time: 0m 33s\n",
            "\tTrain Loss: 0.151\n",
            "\t Val. Loss: 0.385\n",
            "\n"
          ]
        },
        {
          "output_type": "stream",
          "name": "stderr",
          "text": [
            "100%|██████████| 40/40 [00:30<00:00,  1.33it/s]\n",
            "100%|██████████| 10/10 [00:02<00:00,  3.47it/s]\n"
          ]
        },
        {
          "output_type": "stream",
          "name": "stdout",
          "text": [
            "Epoch: 154 | Epoch Time: 0m 32s\n",
            "\tTrain Loss: 0.151\n",
            "\t Val. Loss: 0.387\n",
            "\n"
          ]
        },
        {
          "output_type": "stream",
          "name": "stderr",
          "text": [
            "100%|██████████| 40/40 [00:30<00:00,  1.33it/s]\n",
            "100%|██████████| 10/10 [00:02<00:00,  3.44it/s]\n"
          ]
        },
        {
          "output_type": "stream",
          "name": "stdout",
          "text": [
            "Epoch: 155 | Epoch Time: 0m 32s\n",
            "\tTrain Loss: 0.151\n",
            "\t Val. Loss: 0.387\n",
            "\n"
          ]
        },
        {
          "output_type": "stream",
          "name": "stderr",
          "text": [
            "100%|██████████| 40/40 [00:30<00:00,  1.33it/s]\n",
            "100%|██████████| 10/10 [00:02<00:00,  3.48it/s]\n"
          ]
        },
        {
          "output_type": "stream",
          "name": "stdout",
          "text": [
            "Epoch: 156 | Epoch Time: 0m 33s\n",
            "\tTrain Loss: 0.150\n",
            "\t Val. Loss: 0.386\n",
            "\n"
          ]
        },
        {
          "output_type": "stream",
          "name": "stderr",
          "text": [
            "100%|██████████| 40/40 [00:30<00:00,  1.33it/s]\n",
            "100%|██████████| 10/10 [00:02<00:00,  3.47it/s]\n"
          ]
        },
        {
          "output_type": "stream",
          "name": "stdout",
          "text": [
            "Epoch: 157 | Epoch Time: 0m 32s\n",
            "\tTrain Loss: 0.149\n",
            "\t Val. Loss: 0.388\n",
            "\n"
          ]
        },
        {
          "output_type": "stream",
          "name": "stderr",
          "text": [
            "100%|██████████| 40/40 [00:30<00:00,  1.33it/s]\n",
            "100%|██████████| 10/10 [00:02<00:00,  3.47it/s]\n"
          ]
        },
        {
          "output_type": "stream",
          "name": "stdout",
          "text": [
            "Epoch: 158 | Epoch Time: 0m 33s\n",
            "\tTrain Loss: 0.149\n",
            "\t Val. Loss: 0.385\n",
            "\n"
          ]
        },
        {
          "output_type": "stream",
          "name": "stderr",
          "text": [
            "100%|██████████| 40/40 [00:30<00:00,  1.33it/s]\n",
            "100%|██████████| 10/10 [00:02<00:00,  3.46it/s]\n"
          ]
        },
        {
          "output_type": "stream",
          "name": "stdout",
          "text": [
            "Epoch: 159 | Epoch Time: 0m 32s\n",
            "\tTrain Loss: 0.148\n",
            "\t Val. Loss: 0.387\n",
            "\n"
          ]
        },
        {
          "output_type": "stream",
          "name": "stderr",
          "text": [
            "100%|██████████| 40/40 [00:30<00:00,  1.33it/s]\n",
            "100%|██████████| 10/10 [00:02<00:00,  3.45it/s]\n"
          ]
        },
        {
          "output_type": "stream",
          "name": "stdout",
          "text": [
            "Epoch: 160 | Epoch Time: 0m 33s\n",
            "\tTrain Loss: 0.148\n",
            "\t Val. Loss: 0.390\n",
            "\n"
          ]
        },
        {
          "output_type": "stream",
          "name": "stderr",
          "text": [
            "100%|██████████| 40/40 [00:30<00:00,  1.33it/s]\n",
            "100%|██████████| 10/10 [00:02<00:00,  3.46it/s]\n"
          ]
        },
        {
          "output_type": "stream",
          "name": "stdout",
          "text": [
            "Epoch: 161 | Epoch Time: 0m 32s\n",
            "\tTrain Loss: 0.148\n",
            "\t Val. Loss: 0.390\n",
            "\n"
          ]
        },
        {
          "output_type": "stream",
          "name": "stderr",
          "text": [
            "100%|██████████| 40/40 [00:30<00:00,  1.33it/s]\n",
            "100%|██████████| 10/10 [00:02<00:00,  3.45it/s]\n"
          ]
        },
        {
          "output_type": "stream",
          "name": "stdout",
          "text": [
            "Epoch: 162 | Epoch Time: 0m 33s\n",
            "\tTrain Loss: 0.148\n",
            "\t Val. Loss: 0.386\n",
            "\n"
          ]
        },
        {
          "output_type": "stream",
          "name": "stderr",
          "text": [
            "100%|██████████| 40/40 [00:30<00:00,  1.33it/s]\n",
            "100%|██████████| 10/10 [00:02<00:00,  3.46it/s]\n"
          ]
        },
        {
          "output_type": "stream",
          "name": "stdout",
          "text": [
            "Epoch: 163 | Epoch Time: 0m 33s\n",
            "\tTrain Loss: 0.148\n",
            "\t Val. Loss: 0.388\n",
            "\n"
          ]
        },
        {
          "output_type": "stream",
          "name": "stderr",
          "text": [
            "100%|██████████| 40/40 [00:30<00:00,  1.33it/s]\n",
            "100%|██████████| 10/10 [00:02<00:00,  3.46it/s]\n"
          ]
        },
        {
          "output_type": "stream",
          "name": "stdout",
          "text": [
            "Epoch: 164 | Epoch Time: 0m 32s\n",
            "\tTrain Loss: 0.148\n",
            "\t Val. Loss: 0.389\n",
            "\n"
          ]
        },
        {
          "output_type": "stream",
          "name": "stderr",
          "text": [
            "100%|██████████| 40/40 [00:30<00:00,  1.33it/s]\n",
            "100%|██████████| 10/10 [00:02<00:00,  3.46it/s]\n"
          ]
        },
        {
          "output_type": "stream",
          "name": "stdout",
          "text": [
            "Epoch: 165 | Epoch Time: 0m 33s\n",
            "\tTrain Loss: 0.149\n",
            "\t Val. Loss: 0.389\n",
            "\n"
          ]
        },
        {
          "output_type": "stream",
          "name": "stderr",
          "text": [
            "100%|██████████| 40/40 [00:30<00:00,  1.33it/s]\n",
            "100%|██████████| 10/10 [00:02<00:00,  3.45it/s]\n"
          ]
        },
        {
          "output_type": "stream",
          "name": "stdout",
          "text": [
            "Epoch: 166 | Epoch Time: 0m 33s\n",
            "\tTrain Loss: 0.150\n",
            "\t Val. Loss: 0.394\n",
            "\n"
          ]
        },
        {
          "output_type": "stream",
          "name": "stderr",
          "text": [
            "100%|██████████| 40/40 [00:30<00:00,  1.33it/s]\n",
            "100%|██████████| 10/10 [00:02<00:00,  3.47it/s]\n"
          ]
        },
        {
          "output_type": "stream",
          "name": "stdout",
          "text": [
            "Epoch: 167 | Epoch Time: 0m 33s\n",
            "\tTrain Loss: 0.151\n",
            "\t Val. Loss: 0.398\n",
            "\n"
          ]
        },
        {
          "output_type": "stream",
          "name": "stderr",
          "text": [
            "100%|██████████| 40/40 [00:30<00:00,  1.33it/s]\n",
            "100%|██████████| 10/10 [00:02<00:00,  3.45it/s]\n"
          ]
        },
        {
          "output_type": "stream",
          "name": "stdout",
          "text": [
            "Epoch: 168 | Epoch Time: 0m 32s\n",
            "\tTrain Loss: 0.151\n",
            "\t Val. Loss: 0.390\n",
            "\n"
          ]
        },
        {
          "output_type": "stream",
          "name": "stderr",
          "text": [
            "100%|██████████| 40/40 [00:30<00:00,  1.33it/s]\n",
            "100%|██████████| 10/10 [00:02<00:00,  3.46it/s]\n"
          ]
        },
        {
          "output_type": "stream",
          "name": "stdout",
          "text": [
            "Epoch: 169 | Epoch Time: 0m 32s\n",
            "\tTrain Loss: 0.150\n",
            "\t Val. Loss: 0.388\n",
            "\n"
          ]
        },
        {
          "output_type": "stream",
          "name": "stderr",
          "text": [
            "100%|██████████| 40/40 [00:30<00:00,  1.33it/s]\n",
            "100%|██████████| 10/10 [00:02<00:00,  3.45it/s]\n"
          ]
        },
        {
          "output_type": "stream",
          "name": "stdout",
          "text": [
            "Epoch: 170 | Epoch Time: 0m 33s\n",
            "\tTrain Loss: 0.149\n",
            "\t Val. Loss: 0.388\n",
            "\n"
          ]
        },
        {
          "output_type": "stream",
          "name": "stderr",
          "text": [
            "100%|██████████| 40/40 [00:30<00:00,  1.33it/s]\n",
            "100%|██████████| 10/10 [00:02<00:00,  3.47it/s]\n"
          ]
        },
        {
          "output_type": "stream",
          "name": "stdout",
          "text": [
            "Epoch: 171 | Epoch Time: 0m 33s\n",
            "\tTrain Loss: 0.148\n",
            "\t Val. Loss: 0.390\n",
            "\n"
          ]
        },
        {
          "output_type": "stream",
          "name": "stderr",
          "text": [
            "100%|██████████| 40/40 [00:30<00:00,  1.33it/s]\n",
            "100%|██████████| 10/10 [00:02<00:00,  3.44it/s]\n"
          ]
        },
        {
          "output_type": "stream",
          "name": "stdout",
          "text": [
            "Epoch: 172 | Epoch Time: 0m 32s\n",
            "\tTrain Loss: 0.147\n",
            "\t Val. Loss: 0.387\n",
            "\n"
          ]
        },
        {
          "output_type": "stream",
          "name": "stderr",
          "text": [
            "100%|██████████| 40/40 [00:30<00:00,  1.33it/s]\n",
            "100%|██████████| 10/10 [00:02<00:00,  3.44it/s]\n"
          ]
        },
        {
          "output_type": "stream",
          "name": "stdout",
          "text": [
            "Epoch: 173 | Epoch Time: 0m 33s\n",
            "\tTrain Loss: 0.147\n",
            "\t Val. Loss: 0.386\n",
            "\n"
          ]
        },
        {
          "output_type": "stream",
          "name": "stderr",
          "text": [
            "100%|██████████| 40/40 [00:30<00:00,  1.33it/s]\n",
            "100%|██████████| 10/10 [00:02<00:00,  3.44it/s]\n"
          ]
        },
        {
          "output_type": "stream",
          "name": "stdout",
          "text": [
            "Epoch: 174 | Epoch Time: 0m 33s\n",
            "\tTrain Loss: 0.147\n",
            "\t Val. Loss: 0.389\n",
            "\n"
          ]
        },
        {
          "output_type": "stream",
          "name": "stderr",
          "text": [
            "100%|██████████| 40/40 [00:30<00:00,  1.33it/s]\n",
            "100%|██████████| 10/10 [00:02<00:00,  3.47it/s]\n"
          ]
        },
        {
          "output_type": "stream",
          "name": "stdout",
          "text": [
            "Epoch: 175 | Epoch Time: 0m 32s\n",
            "\tTrain Loss: 0.146\n",
            "\t Val. Loss: 0.390\n",
            "\n"
          ]
        },
        {
          "output_type": "stream",
          "name": "stderr",
          "text": [
            "100%|██████████| 40/40 [00:30<00:00,  1.33it/s]\n",
            "100%|██████████| 10/10 [00:02<00:00,  3.44it/s]\n"
          ]
        },
        {
          "output_type": "stream",
          "name": "stdout",
          "text": [
            "Epoch: 176 | Epoch Time: 0m 33s\n",
            "\tTrain Loss: 0.146\n",
            "\t Val. Loss: 0.388\n",
            "\n"
          ]
        },
        {
          "output_type": "stream",
          "name": "stderr",
          "text": [
            "100%|██████████| 40/40 [00:30<00:00,  1.33it/s]\n",
            "100%|██████████| 10/10 [00:02<00:00,  3.43it/s]\n"
          ]
        },
        {
          "output_type": "stream",
          "name": "stdout",
          "text": [
            "Epoch: 177 | Epoch Time: 0m 33s\n",
            "\tTrain Loss: 0.146\n",
            "\t Val. Loss: 0.388\n",
            "\n"
          ]
        },
        {
          "output_type": "stream",
          "name": "stderr",
          "text": [
            "100%|██████████| 40/40 [00:30<00:00,  1.33it/s]\n",
            "100%|██████████| 10/10 [00:02<00:00,  3.49it/s]\n"
          ]
        },
        {
          "output_type": "stream",
          "name": "stdout",
          "text": [
            "Epoch: 178 | Epoch Time: 0m 32s\n",
            "\tTrain Loss: 0.146\n",
            "\t Val. Loss: 0.389\n",
            "\n"
          ]
        },
        {
          "output_type": "stream",
          "name": "stderr",
          "text": [
            "100%|██████████| 40/40 [00:30<00:00,  1.33it/s]\n",
            "100%|██████████| 10/10 [00:02<00:00,  3.45it/s]\n"
          ]
        },
        {
          "output_type": "stream",
          "name": "stdout",
          "text": [
            "Epoch: 179 | Epoch Time: 0m 32s\n",
            "\tTrain Loss: 0.146\n",
            "\t Val. Loss: 0.390\n",
            "\n"
          ]
        },
        {
          "output_type": "stream",
          "name": "stderr",
          "text": [
            "100%|██████████| 40/40 [00:30<00:00,  1.33it/s]\n",
            "100%|██████████| 10/10 [00:02<00:00,  3.45it/s]\n"
          ]
        },
        {
          "output_type": "stream",
          "name": "stdout",
          "text": [
            "Epoch: 180 | Epoch Time: 0m 32s\n",
            "\tTrain Loss: 0.147\n",
            "\t Val. Loss: 0.394\n",
            "\n"
          ]
        },
        {
          "output_type": "stream",
          "name": "stderr",
          "text": [
            "100%|██████████| 40/40 [00:30<00:00,  1.33it/s]\n",
            "100%|██████████| 10/10 [00:02<00:00,  3.46it/s]\n"
          ]
        },
        {
          "output_type": "stream",
          "name": "stdout",
          "text": [
            "Epoch: 181 | Epoch Time: 0m 33s\n",
            "\tTrain Loss: 0.147\n",
            "\t Val. Loss: 0.393\n",
            "\n"
          ]
        },
        {
          "output_type": "stream",
          "name": "stderr",
          "text": [
            "100%|██████████| 40/40 [00:30<00:00,  1.33it/s]\n",
            "100%|██████████| 10/10 [00:02<00:00,  3.43it/s]\n"
          ]
        },
        {
          "output_type": "stream",
          "name": "stdout",
          "text": [
            "Epoch: 182 | Epoch Time: 0m 33s\n",
            "\tTrain Loss: 0.147\n",
            "\t Val. Loss: 0.393\n",
            "\n"
          ]
        },
        {
          "output_type": "stream",
          "name": "stderr",
          "text": [
            "100%|██████████| 40/40 [00:30<00:00,  1.33it/s]\n",
            "100%|██████████| 10/10 [00:02<00:00,  3.48it/s]\n"
          ]
        },
        {
          "output_type": "stream",
          "name": "stdout",
          "text": [
            "Epoch: 183 | Epoch Time: 0m 33s\n",
            "\tTrain Loss: 0.147\n",
            "\t Val. Loss: 0.388\n",
            "\n"
          ]
        },
        {
          "output_type": "stream",
          "name": "stderr",
          "text": [
            "100%|██████████| 40/40 [00:30<00:00,  1.33it/s]\n",
            "100%|██████████| 10/10 [00:02<00:00,  3.46it/s]\n"
          ]
        },
        {
          "output_type": "stream",
          "name": "stdout",
          "text": [
            "Epoch: 184 | Epoch Time: 0m 32s\n",
            "\tTrain Loss: 0.147\n",
            "\t Val. Loss: 0.393\n",
            "\n"
          ]
        },
        {
          "output_type": "stream",
          "name": "stderr",
          "text": [
            "100%|██████████| 40/40 [00:30<00:00,  1.33it/s]\n",
            "100%|██████████| 10/10 [00:02<00:00,  3.36it/s]\n"
          ]
        },
        {
          "output_type": "stream",
          "name": "stdout",
          "text": [
            "Epoch: 185 | Epoch Time: 0m 33s\n",
            "\tTrain Loss: 0.147\n",
            "\t Val. Loss: 0.392\n",
            "\n"
          ]
        },
        {
          "output_type": "stream",
          "name": "stderr",
          "text": [
            "100%|██████████| 40/40 [00:30<00:00,  1.32it/s]\n",
            "100%|██████████| 10/10 [00:02<00:00,  3.48it/s]\n"
          ]
        },
        {
          "output_type": "stream",
          "name": "stdout",
          "text": [
            "Epoch: 186 | Epoch Time: 0m 33s\n",
            "\tTrain Loss: 0.146\n",
            "\t Val. Loss: 0.392\n",
            "\n"
          ]
        },
        {
          "output_type": "stream",
          "name": "stderr",
          "text": [
            "100%|██████████| 40/40 [00:30<00:00,  1.33it/s]\n",
            "100%|██████████| 10/10 [00:02<00:00,  3.47it/s]\n"
          ]
        },
        {
          "output_type": "stream",
          "name": "stdout",
          "text": [
            "Epoch: 187 | Epoch Time: 0m 32s\n",
            "\tTrain Loss: 0.146\n",
            "\t Val. Loss: 0.393\n",
            "\n"
          ]
        },
        {
          "output_type": "stream",
          "name": "stderr",
          "text": [
            "100%|██████████| 40/40 [00:30<00:00,  1.33it/s]\n",
            "100%|██████████| 10/10 [00:02<00:00,  3.45it/s]\n"
          ]
        },
        {
          "output_type": "stream",
          "name": "stdout",
          "text": [
            "Epoch: 188 | Epoch Time: 0m 32s\n",
            "\tTrain Loss: 0.148\n",
            "\t Val. Loss: 0.391\n",
            "\n"
          ]
        },
        {
          "output_type": "stream",
          "name": "stderr",
          "text": [
            "100%|██████████| 40/40 [00:30<00:00,  1.33it/s]\n",
            "100%|██████████| 10/10 [00:02<00:00,  3.46it/s]\n"
          ]
        },
        {
          "output_type": "stream",
          "name": "stdout",
          "text": [
            "Epoch: 189 | Epoch Time: 0m 32s\n",
            "\tTrain Loss: 0.148\n",
            "\t Val. Loss: 0.393\n",
            "\n"
          ]
        },
        {
          "output_type": "stream",
          "name": "stderr",
          "text": [
            "100%|██████████| 40/40 [00:30<00:00,  1.33it/s]\n",
            "100%|██████████| 10/10 [00:02<00:00,  3.37it/s]\n"
          ]
        },
        {
          "output_type": "stream",
          "name": "stdout",
          "text": [
            "Epoch: 190 | Epoch Time: 0m 33s\n",
            "\tTrain Loss: 0.148\n",
            "\t Val. Loss: 0.394\n",
            "\n"
          ]
        },
        {
          "output_type": "stream",
          "name": "stderr",
          "text": [
            "100%|██████████| 40/40 [00:30<00:00,  1.33it/s]\n",
            "100%|██████████| 10/10 [00:02<00:00,  3.46it/s]\n"
          ]
        },
        {
          "output_type": "stream",
          "name": "stdout",
          "text": [
            "Epoch: 191 | Epoch Time: 0m 32s\n",
            "\tTrain Loss: 0.147\n",
            "\t Val. Loss: 0.391\n",
            "\n"
          ]
        },
        {
          "output_type": "stream",
          "name": "stderr",
          "text": [
            "100%|██████████| 40/40 [00:30<00:00,  1.33it/s]\n",
            "100%|██████████| 10/10 [00:02<00:00,  3.46it/s]\n"
          ]
        },
        {
          "output_type": "stream",
          "name": "stdout",
          "text": [
            "Epoch: 192 | Epoch Time: 0m 32s\n",
            "\tTrain Loss: 0.146\n",
            "\t Val. Loss: 0.393\n",
            "\n"
          ]
        },
        {
          "output_type": "stream",
          "name": "stderr",
          "text": [
            "100%|██████████| 40/40 [00:30<00:00,  1.33it/s]\n",
            "100%|██████████| 10/10 [00:02<00:00,  3.48it/s]\n"
          ]
        },
        {
          "output_type": "stream",
          "name": "stdout",
          "text": [
            "Epoch: 193 | Epoch Time: 0m 32s\n",
            "\tTrain Loss: 0.146\n",
            "\t Val. Loss: 0.392\n",
            "\n"
          ]
        },
        {
          "output_type": "stream",
          "name": "stderr",
          "text": [
            "100%|██████████| 40/40 [00:30<00:00,  1.33it/s]\n",
            "100%|██████████| 10/10 [00:02<00:00,  3.45it/s]\n"
          ]
        },
        {
          "output_type": "stream",
          "name": "stdout",
          "text": [
            "Epoch: 194 | Epoch Time: 0m 33s\n",
            "\tTrain Loss: 0.145\n",
            "\t Val. Loss: 0.389\n",
            "\n"
          ]
        },
        {
          "output_type": "stream",
          "name": "stderr",
          "text": [
            "100%|██████████| 40/40 [00:30<00:00,  1.33it/s]\n",
            "100%|██████████| 10/10 [00:02<00:00,  3.48it/s]\n"
          ]
        },
        {
          "output_type": "stream",
          "name": "stdout",
          "text": [
            "Epoch: 195 | Epoch Time: 0m 32s\n",
            "\tTrain Loss: 0.145\n",
            "\t Val. Loss: 0.393\n",
            "\n"
          ]
        },
        {
          "output_type": "stream",
          "name": "stderr",
          "text": [
            "100%|██████████| 40/40 [00:30<00:00,  1.33it/s]\n",
            "100%|██████████| 10/10 [00:02<00:00,  3.46it/s]\n"
          ]
        },
        {
          "output_type": "stream",
          "name": "stdout",
          "text": [
            "Epoch: 196 | Epoch Time: 0m 33s\n",
            "\tTrain Loss: 0.145\n",
            "\t Val. Loss: 0.393\n",
            "\n"
          ]
        },
        {
          "output_type": "stream",
          "name": "stderr",
          "text": [
            "100%|██████████| 40/40 [00:30<00:00,  1.33it/s]\n",
            "100%|██████████| 10/10 [00:02<00:00,  3.45it/s]\n"
          ]
        },
        {
          "output_type": "stream",
          "name": "stdout",
          "text": [
            "Epoch: 197 | Epoch Time: 0m 33s\n",
            "\tTrain Loss: 0.145\n",
            "\t Val. Loss: 0.391\n",
            "\n"
          ]
        },
        {
          "output_type": "stream",
          "name": "stderr",
          "text": [
            "100%|██████████| 40/40 [00:30<00:00,  1.33it/s]\n",
            "100%|██████████| 10/10 [00:02<00:00,  3.48it/s]\n"
          ]
        },
        {
          "output_type": "stream",
          "name": "stdout",
          "text": [
            "Epoch: 198 | Epoch Time: 0m 32s\n",
            "\tTrain Loss: 0.145\n",
            "\t Val. Loss: 0.394\n",
            "\n"
          ]
        },
        {
          "output_type": "stream",
          "name": "stderr",
          "text": [
            "100%|██████████| 40/40 [00:30<00:00,  1.33it/s]\n",
            "100%|██████████| 10/10 [00:02<00:00,  3.44it/s]\n"
          ]
        },
        {
          "output_type": "stream",
          "name": "stdout",
          "text": [
            "Epoch: 199 | Epoch Time: 0m 32s\n",
            "\tTrain Loss: 0.145\n",
            "\t Val. Loss: 0.388\n",
            "\n"
          ]
        },
        {
          "output_type": "stream",
          "name": "stderr",
          "text": [
            "100%|██████████| 40/40 [00:30<00:00,  1.32it/s]\n",
            "100%|██████████| 10/10 [00:03<00:00,  3.26it/s]\n"
          ]
        },
        {
          "output_type": "stream",
          "name": "stdout",
          "text": [
            "Epoch: 200 | Epoch Time: 0m 33s\n",
            "\tTrain Loss: 0.145\n",
            "\t Val. Loss: 0.394\n",
            "\n"
          ]
        },
        {
          "output_type": "stream",
          "name": "stderr",
          "text": [
            "100%|██████████| 40/40 [00:30<00:00,  1.32it/s]\n",
            "100%|██████████| 10/10 [00:02<00:00,  3.41it/s]\n"
          ]
        },
        {
          "output_type": "stream",
          "name": "stdout",
          "text": [
            "Epoch: 201 | Epoch Time: 0m 33s\n",
            "\tTrain Loss: 0.145\n",
            "\t Val. Loss: 0.393\n",
            "\n"
          ]
        },
        {
          "output_type": "stream",
          "name": "stderr",
          "text": [
            "100%|██████████| 40/40 [00:30<00:00,  1.33it/s]\n",
            "100%|██████████| 10/10 [00:02<00:00,  3.48it/s]\n"
          ]
        },
        {
          "output_type": "stream",
          "name": "stdout",
          "text": [
            "Epoch: 202 | Epoch Time: 0m 33s\n",
            "\tTrain Loss: 0.145\n",
            "\t Val. Loss: 0.393\n",
            "\n"
          ]
        },
        {
          "output_type": "stream",
          "name": "stderr",
          "text": [
            "100%|██████████| 40/40 [00:29<00:00,  1.33it/s]\n",
            "100%|██████████| 10/10 [00:02<00:00,  3.48it/s]\n"
          ]
        },
        {
          "output_type": "stream",
          "name": "stdout",
          "text": [
            "Epoch: 203 | Epoch Time: 0m 32s\n",
            "\tTrain Loss: 0.145\n",
            "\t Val. Loss: 0.395\n",
            "\n"
          ]
        },
        {
          "output_type": "stream",
          "name": "stderr",
          "text": [
            "100%|██████████| 40/40 [00:30<00:00,  1.33it/s]\n",
            "100%|██████████| 10/10 [00:02<00:00,  3.46it/s]\n"
          ]
        },
        {
          "output_type": "stream",
          "name": "stdout",
          "text": [
            "Epoch: 204 | Epoch Time: 0m 33s\n",
            "\tTrain Loss: 0.145\n",
            "\t Val. Loss: 0.395\n",
            "\n"
          ]
        },
        {
          "output_type": "stream",
          "name": "stderr",
          "text": [
            "100%|██████████| 40/40 [00:30<00:00,  1.33it/s]\n",
            "100%|██████████| 10/10 [00:02<00:00,  3.45it/s]\n"
          ]
        },
        {
          "output_type": "stream",
          "name": "stdout",
          "text": [
            "Epoch: 205 | Epoch Time: 0m 33s\n",
            "\tTrain Loss: 0.146\n",
            "\t Val. Loss: 0.391\n",
            "\n"
          ]
        },
        {
          "output_type": "stream",
          "name": "stderr",
          "text": [
            "100%|██████████| 40/40 [00:30<00:00,  1.33it/s]\n",
            "100%|██████████| 10/10 [00:02<00:00,  3.46it/s]\n"
          ]
        },
        {
          "output_type": "stream",
          "name": "stdout",
          "text": [
            "Epoch: 206 | Epoch Time: 0m 33s\n",
            "\tTrain Loss: 0.147\n",
            "\t Val. Loss: 0.401\n",
            "\n"
          ]
        },
        {
          "output_type": "stream",
          "name": "stderr",
          "text": [
            "100%|██████████| 40/40 [00:30<00:00,  1.33it/s]\n",
            "100%|██████████| 10/10 [00:02<00:00,  3.46it/s]\n"
          ]
        },
        {
          "output_type": "stream",
          "name": "stdout",
          "text": [
            "Epoch: 207 | Epoch Time: 0m 33s\n",
            "\tTrain Loss: 0.147\n",
            "\t Val. Loss: 0.402\n",
            "\n"
          ]
        },
        {
          "output_type": "stream",
          "name": "stderr",
          "text": [
            "100%|██████████| 40/40 [00:30<00:00,  1.33it/s]\n",
            "100%|██████████| 10/10 [00:02<00:00,  3.45it/s]\n"
          ]
        },
        {
          "output_type": "stream",
          "name": "stdout",
          "text": [
            "Epoch: 208 | Epoch Time: 0m 33s\n",
            "\tTrain Loss: 0.149\n",
            "\t Val. Loss: 0.394\n",
            "\n"
          ]
        },
        {
          "output_type": "stream",
          "name": "stderr",
          "text": [
            "100%|██████████| 40/40 [00:30<00:00,  1.33it/s]\n",
            "100%|██████████| 10/10 [00:02<00:00,  3.46it/s]\n"
          ]
        },
        {
          "output_type": "stream",
          "name": "stdout",
          "text": [
            "Epoch: 209 | Epoch Time: 0m 33s\n",
            "\tTrain Loss: 0.151\n",
            "\t Val. Loss: 0.395\n",
            "\n"
          ]
        },
        {
          "output_type": "stream",
          "name": "stderr",
          "text": [
            "100%|██████████| 40/40 [00:30<00:00,  1.33it/s]\n",
            "100%|██████████| 10/10 [00:02<00:00,  3.46it/s]\n"
          ]
        },
        {
          "output_type": "stream",
          "name": "stdout",
          "text": [
            "Epoch: 210 | Epoch Time: 0m 32s\n",
            "\tTrain Loss: 0.151\n",
            "\t Val. Loss: 0.393\n",
            "\n"
          ]
        },
        {
          "output_type": "stream",
          "name": "stderr",
          "text": [
            "100%|██████████| 40/40 [00:30<00:00,  1.33it/s]\n",
            "100%|██████████| 10/10 [00:02<00:00,  3.45it/s]\n"
          ]
        },
        {
          "output_type": "stream",
          "name": "stdout",
          "text": [
            "Epoch: 211 | Epoch Time: 0m 33s\n",
            "\tTrain Loss: 0.148\n",
            "\t Val. Loss: 0.395\n",
            "\n"
          ]
        },
        {
          "output_type": "stream",
          "name": "stderr",
          "text": [
            "100%|██████████| 40/40 [00:30<00:00,  1.33it/s]\n",
            "100%|██████████| 10/10 [00:02<00:00,  3.45it/s]\n"
          ]
        },
        {
          "output_type": "stream",
          "name": "stdout",
          "text": [
            "Epoch: 212 | Epoch Time: 0m 33s\n",
            "\tTrain Loss: 0.146\n",
            "\t Val. Loss: 0.396\n",
            "\n"
          ]
        },
        {
          "output_type": "stream",
          "name": "stderr",
          "text": [
            "100%|██████████| 40/40 [00:30<00:00,  1.33it/s]\n",
            "100%|██████████| 10/10 [00:02<00:00,  3.44it/s]\n"
          ]
        },
        {
          "output_type": "stream",
          "name": "stdout",
          "text": [
            "Epoch: 213 | Epoch Time: 0m 33s\n",
            "\tTrain Loss: 0.145\n",
            "\t Val. Loss: 0.393\n",
            "\n"
          ]
        },
        {
          "output_type": "stream",
          "name": "stderr",
          "text": [
            "100%|██████████| 40/40 [00:30<00:00,  1.33it/s]\n",
            "100%|██████████| 10/10 [00:02<00:00,  3.46it/s]\n"
          ]
        },
        {
          "output_type": "stream",
          "name": "stdout",
          "text": [
            "Epoch: 214 | Epoch Time: 0m 33s\n",
            "\tTrain Loss: 0.144\n",
            "\t Val. Loss: 0.393\n",
            "\n"
          ]
        },
        {
          "output_type": "stream",
          "name": "stderr",
          "text": [
            "100%|██████████| 40/40 [00:30<00:00,  1.33it/s]\n",
            "100%|██████████| 10/10 [00:02<00:00,  3.44it/s]\n"
          ]
        },
        {
          "output_type": "stream",
          "name": "stdout",
          "text": [
            "Epoch: 215 | Epoch Time: 0m 33s\n",
            "\tTrain Loss: 0.144\n",
            "\t Val. Loss: 0.393\n",
            "\n"
          ]
        },
        {
          "output_type": "stream",
          "name": "stderr",
          "text": [
            "100%|██████████| 40/40 [00:30<00:00,  1.33it/s]\n",
            "100%|██████████| 10/10 [00:02<00:00,  3.43it/s]\n"
          ]
        },
        {
          "output_type": "stream",
          "name": "stdout",
          "text": [
            "Epoch: 216 | Epoch Time: 0m 32s\n",
            "\tTrain Loss: 0.143\n",
            "\t Val. Loss: 0.393\n",
            "\n"
          ]
        },
        {
          "output_type": "stream",
          "name": "stderr",
          "text": [
            "100%|██████████| 40/40 [00:30<00:00,  1.33it/s]\n",
            "100%|██████████| 10/10 [00:02<00:00,  3.46it/s]\n"
          ]
        },
        {
          "output_type": "stream",
          "name": "stdout",
          "text": [
            "Epoch: 217 | Epoch Time: 0m 33s\n",
            "\tTrain Loss: 0.143\n",
            "\t Val. Loss: 0.399\n",
            "\n"
          ]
        },
        {
          "output_type": "stream",
          "name": "stderr",
          "text": [
            "100%|██████████| 40/40 [00:30<00:00,  1.33it/s]\n",
            "100%|██████████| 10/10 [00:02<00:00,  3.47it/s]\n"
          ]
        },
        {
          "output_type": "stream",
          "name": "stdout",
          "text": [
            "Epoch: 218 | Epoch Time: 0m 32s\n",
            "\tTrain Loss: 0.143\n",
            "\t Val. Loss: 0.396\n",
            "\n"
          ]
        },
        {
          "output_type": "stream",
          "name": "stderr",
          "text": [
            "100%|██████████| 40/40 [00:30<00:00,  1.33it/s]\n",
            "100%|██████████| 10/10 [00:03<00:00,  3.17it/s]\n"
          ]
        },
        {
          "output_type": "stream",
          "name": "stdout",
          "text": [
            "Epoch: 219 | Epoch Time: 0m 33s\n",
            "\tTrain Loss: 0.143\n",
            "\t Val. Loss: 0.403\n",
            "\n"
          ]
        },
        {
          "output_type": "stream",
          "name": "stderr",
          "text": [
            "100%|██████████| 40/40 [00:30<00:00,  1.32it/s]\n",
            "100%|██████████| 10/10 [00:02<00:00,  3.44it/s]\n"
          ]
        },
        {
          "output_type": "stream",
          "name": "stdout",
          "text": [
            "Epoch: 220 | Epoch Time: 0m 33s\n",
            "\tTrain Loss: 0.144\n",
            "\t Val. Loss: 0.396\n",
            "\n"
          ]
        },
        {
          "output_type": "stream",
          "name": "stderr",
          "text": [
            "100%|██████████| 40/40 [00:30<00:00,  1.33it/s]\n",
            "100%|██████████| 10/10 [00:02<00:00,  3.47it/s]\n"
          ]
        },
        {
          "output_type": "stream",
          "name": "stdout",
          "text": [
            "Epoch: 221 | Epoch Time: 0m 33s\n",
            "\tTrain Loss: 0.144\n",
            "\t Val. Loss: 0.394\n",
            "\n"
          ]
        },
        {
          "output_type": "stream",
          "name": "stderr",
          "text": [
            "100%|██████████| 40/40 [00:30<00:00,  1.33it/s]\n",
            "100%|██████████| 10/10 [00:02<00:00,  3.46it/s]\n"
          ]
        },
        {
          "output_type": "stream",
          "name": "stdout",
          "text": [
            "Epoch: 222 | Epoch Time: 0m 32s\n",
            "\tTrain Loss: 0.144\n",
            "\t Val. Loss: 0.401\n",
            "\n"
          ]
        },
        {
          "output_type": "stream",
          "name": "stderr",
          "text": [
            "100%|██████████| 40/40 [00:30<00:00,  1.33it/s]\n",
            "100%|██████████| 10/10 [00:02<00:00,  3.45it/s]\n"
          ]
        },
        {
          "output_type": "stream",
          "name": "stdout",
          "text": [
            "Epoch: 223 | Epoch Time: 0m 33s\n",
            "\tTrain Loss: 0.144\n",
            "\t Val. Loss: 0.398\n",
            "\n"
          ]
        },
        {
          "output_type": "stream",
          "name": "stderr",
          "text": [
            "100%|██████████| 40/40 [00:30<00:00,  1.33it/s]\n",
            "100%|██████████| 10/10 [00:02<00:00,  3.46it/s]\n"
          ]
        },
        {
          "output_type": "stream",
          "name": "stdout",
          "text": [
            "Epoch: 224 | Epoch Time: 0m 33s\n",
            "\tTrain Loss: 0.144\n",
            "\t Val. Loss: 0.400\n",
            "\n"
          ]
        },
        {
          "output_type": "stream",
          "name": "stderr",
          "text": [
            "100%|██████████| 40/40 [00:30<00:00,  1.33it/s]\n",
            "100%|██████████| 10/10 [00:02<00:00,  3.45it/s]\n"
          ]
        },
        {
          "output_type": "stream",
          "name": "stdout",
          "text": [
            "Epoch: 225 | Epoch Time: 0m 33s\n",
            "\tTrain Loss: 0.144\n",
            "\t Val. Loss: 0.400\n",
            "\n"
          ]
        },
        {
          "output_type": "stream",
          "name": "stderr",
          "text": [
            "100%|██████████| 40/40 [00:30<00:00,  1.33it/s]\n",
            "100%|██████████| 10/10 [00:03<00:00,  3.24it/s]\n"
          ]
        },
        {
          "output_type": "stream",
          "name": "stdout",
          "text": [
            "Epoch: 226 | Epoch Time: 0m 33s\n",
            "\tTrain Loss: 0.144\n",
            "\t Val. Loss: 0.396\n",
            "\n"
          ]
        },
        {
          "output_type": "stream",
          "name": "stderr",
          "text": [
            "100%|██████████| 40/40 [00:30<00:00,  1.33it/s]\n",
            "100%|██████████| 10/10 [00:02<00:00,  3.45it/s]\n"
          ]
        },
        {
          "output_type": "stream",
          "name": "stdout",
          "text": [
            "Epoch: 227 | Epoch Time: 0m 32s\n",
            "\tTrain Loss: 0.144\n",
            "\t Val. Loss: 0.402\n",
            "\n"
          ]
        },
        {
          "output_type": "stream",
          "name": "stderr",
          "text": [
            "100%|██████████| 40/40 [00:30<00:00,  1.33it/s]\n",
            "100%|██████████| 10/10 [00:02<00:00,  3.47it/s]\n"
          ]
        },
        {
          "output_type": "stream",
          "name": "stdout",
          "text": [
            "Epoch: 228 | Epoch Time: 0m 33s\n",
            "\tTrain Loss: 0.144\n",
            "\t Val. Loss: 0.401\n",
            "\n"
          ]
        },
        {
          "output_type": "stream",
          "name": "stderr",
          "text": [
            "100%|██████████| 40/40 [00:30<00:00,  1.33it/s]\n",
            "100%|██████████| 10/10 [00:02<00:00,  3.47it/s]\n"
          ]
        },
        {
          "output_type": "stream",
          "name": "stdout",
          "text": [
            "Epoch: 229 | Epoch Time: 0m 32s\n",
            "\tTrain Loss: 0.144\n",
            "\t Val. Loss: 0.398\n",
            "\n"
          ]
        },
        {
          "output_type": "stream",
          "name": "stderr",
          "text": [
            "100%|██████████| 40/40 [00:30<00:00,  1.33it/s]\n",
            "100%|██████████| 10/10 [00:02<00:00,  3.44it/s]\n"
          ]
        },
        {
          "output_type": "stream",
          "name": "stdout",
          "text": [
            "Epoch: 230 | Epoch Time: 0m 33s\n",
            "\tTrain Loss: 0.144\n",
            "\t Val. Loss: 0.397\n",
            "\n"
          ]
        },
        {
          "output_type": "stream",
          "name": "stderr",
          "text": [
            "100%|██████████| 40/40 [00:30<00:00,  1.33it/s]\n",
            "100%|██████████| 10/10 [00:02<00:00,  3.43it/s]\n"
          ]
        },
        {
          "output_type": "stream",
          "name": "stdout",
          "text": [
            "Epoch: 231 | Epoch Time: 0m 33s\n",
            "\tTrain Loss: 0.143\n",
            "\t Val. Loss: 0.397\n",
            "\n"
          ]
        },
        {
          "output_type": "stream",
          "name": "stderr",
          "text": [
            "100%|██████████| 40/40 [00:30<00:00,  1.33it/s]\n",
            "100%|██████████| 10/10 [00:02<00:00,  3.46it/s]\n"
          ]
        },
        {
          "output_type": "stream",
          "name": "stdout",
          "text": [
            "Epoch: 232 | Epoch Time: 0m 33s\n",
            "\tTrain Loss: 0.143\n",
            "\t Val. Loss: 0.398\n",
            "\n"
          ]
        },
        {
          "output_type": "stream",
          "name": "stderr",
          "text": [
            "100%|██████████| 40/40 [00:30<00:00,  1.33it/s]\n",
            "100%|██████████| 10/10 [00:02<00:00,  3.47it/s]\n"
          ]
        },
        {
          "output_type": "stream",
          "name": "stdout",
          "text": [
            "Epoch: 233 | Epoch Time: 0m 32s\n",
            "\tTrain Loss: 0.143\n",
            "\t Val. Loss: 0.401\n",
            "\n"
          ]
        },
        {
          "output_type": "stream",
          "name": "stderr",
          "text": [
            "100%|██████████| 40/40 [00:30<00:00,  1.33it/s]\n",
            "100%|██████████| 10/10 [00:02<00:00,  3.44it/s]\n"
          ]
        },
        {
          "output_type": "stream",
          "name": "stdout",
          "text": [
            "Epoch: 234 | Epoch Time: 0m 32s\n",
            "\tTrain Loss: 0.143\n",
            "\t Val. Loss: 0.397\n",
            "\n"
          ]
        },
        {
          "output_type": "stream",
          "name": "stderr",
          "text": [
            "100%|██████████| 40/40 [00:30<00:00,  1.33it/s]\n",
            "100%|██████████| 10/10 [00:02<00:00,  3.44it/s]\n"
          ]
        },
        {
          "output_type": "stream",
          "name": "stdout",
          "text": [
            "Epoch: 235 | Epoch Time: 0m 32s\n",
            "\tTrain Loss: 0.143\n",
            "\t Val. Loss: 0.401\n",
            "\n"
          ]
        },
        {
          "output_type": "stream",
          "name": "stderr",
          "text": [
            "100%|██████████| 40/40 [00:30<00:00,  1.33it/s]\n",
            "100%|██████████| 10/10 [00:02<00:00,  3.48it/s]\n"
          ]
        },
        {
          "output_type": "stream",
          "name": "stdout",
          "text": [
            "Epoch: 236 | Epoch Time: 0m 33s\n",
            "\tTrain Loss: 0.143\n",
            "\t Val. Loss: 0.405\n",
            "\n"
          ]
        },
        {
          "output_type": "stream",
          "name": "stderr",
          "text": [
            "100%|██████████| 40/40 [00:30<00:00,  1.33it/s]\n",
            "100%|██████████| 10/10 [00:02<00:00,  3.44it/s]\n"
          ]
        },
        {
          "output_type": "stream",
          "name": "stdout",
          "text": [
            "Epoch: 237 | Epoch Time: 0m 33s\n",
            "\tTrain Loss: 0.144\n",
            "\t Val. Loss: 0.398\n",
            "\n"
          ]
        },
        {
          "output_type": "stream",
          "name": "stderr",
          "text": [
            "100%|██████████| 40/40 [00:30<00:00,  1.33it/s]\n",
            "100%|██████████| 10/10 [00:02<00:00,  3.47it/s]\n"
          ]
        },
        {
          "output_type": "stream",
          "name": "stdout",
          "text": [
            "Epoch: 238 | Epoch Time: 0m 32s\n",
            "\tTrain Loss: 0.145\n",
            "\t Val. Loss: 0.403\n",
            "\n"
          ]
        },
        {
          "output_type": "stream",
          "name": "stderr",
          "text": [
            "100%|██████████| 40/40 [00:30<00:00,  1.33it/s]\n",
            "100%|██████████| 10/10 [00:02<00:00,  3.41it/s]\n"
          ]
        },
        {
          "output_type": "stream",
          "name": "stdout",
          "text": [
            "Epoch: 239 | Epoch Time: 0m 32s\n",
            "\tTrain Loss: 0.144\n",
            "\t Val. Loss: 0.402\n",
            "\n"
          ]
        },
        {
          "output_type": "stream",
          "name": "stderr",
          "text": [
            "100%|██████████| 40/40 [00:30<00:00,  1.33it/s]\n",
            "100%|██████████| 10/10 [00:02<00:00,  3.44it/s]\n"
          ]
        },
        {
          "output_type": "stream",
          "name": "stdout",
          "text": [
            "Epoch: 240 | Epoch Time: 0m 33s\n",
            "\tTrain Loss: 0.144\n",
            "\t Val. Loss: 0.398\n",
            "\n"
          ]
        },
        {
          "output_type": "stream",
          "name": "stderr",
          "text": [
            "100%|██████████| 40/40 [00:30<00:00,  1.33it/s]\n",
            "100%|██████████| 10/10 [00:02<00:00,  3.46it/s]\n"
          ]
        },
        {
          "output_type": "stream",
          "name": "stdout",
          "text": [
            "Epoch: 241 | Epoch Time: 0m 32s\n",
            "\tTrain Loss: 0.143\n",
            "\t Val. Loss: 0.398\n",
            "\n"
          ]
        },
        {
          "output_type": "stream",
          "name": "stderr",
          "text": [
            "100%|██████████| 40/40 [00:30<00:00,  1.33it/s]\n",
            "100%|██████████| 10/10 [00:02<00:00,  3.44it/s]\n"
          ]
        },
        {
          "output_type": "stream",
          "name": "stdout",
          "text": [
            "Epoch: 242 | Epoch Time: 0m 33s\n",
            "\tTrain Loss: 0.143\n",
            "\t Val. Loss: 0.400\n",
            "\n"
          ]
        },
        {
          "output_type": "stream",
          "name": "stderr",
          "text": [
            "100%|██████████| 40/40 [00:30<00:00,  1.33it/s]\n",
            "100%|██████████| 10/10 [00:02<00:00,  3.45it/s]\n"
          ]
        },
        {
          "output_type": "stream",
          "name": "stdout",
          "text": [
            "Epoch: 243 | Epoch Time: 0m 33s\n",
            "\tTrain Loss: 0.143\n",
            "\t Val. Loss: 0.402\n",
            "\n"
          ]
        },
        {
          "output_type": "stream",
          "name": "stderr",
          "text": [
            "100%|██████████| 40/40 [00:30<00:00,  1.33it/s]\n",
            "100%|██████████| 10/10 [00:02<00:00,  3.48it/s]\n"
          ]
        },
        {
          "output_type": "stream",
          "name": "stdout",
          "text": [
            "Epoch: 244 | Epoch Time: 0m 32s\n",
            "\tTrain Loss: 0.143\n",
            "\t Val. Loss: 0.402\n",
            "\n"
          ]
        },
        {
          "output_type": "stream",
          "name": "stderr",
          "text": [
            "100%|██████████| 40/40 [00:30<00:00,  1.33it/s]\n",
            "100%|██████████| 10/10 [00:02<00:00,  3.46it/s]\n"
          ]
        },
        {
          "output_type": "stream",
          "name": "stdout",
          "text": [
            "Epoch: 245 | Epoch Time: 0m 33s\n",
            "\tTrain Loss: 0.143\n",
            "\t Val. Loss: 0.401\n",
            "\n"
          ]
        },
        {
          "output_type": "stream",
          "name": "stderr",
          "text": [
            "100%|██████████| 40/40 [00:30<00:00,  1.33it/s]\n",
            "100%|██████████| 10/10 [00:02<00:00,  3.42it/s]\n"
          ]
        },
        {
          "output_type": "stream",
          "name": "stdout",
          "text": [
            "Epoch: 246 | Epoch Time: 0m 33s\n",
            "\tTrain Loss: 0.143\n",
            "\t Val. Loss: 0.400\n",
            "\n"
          ]
        },
        {
          "output_type": "stream",
          "name": "stderr",
          "text": [
            "100%|██████████| 40/40 [00:30<00:00,  1.33it/s]\n",
            "100%|██████████| 10/10 [00:02<00:00,  3.47it/s]\n"
          ]
        },
        {
          "output_type": "stream",
          "name": "stdout",
          "text": [
            "Epoch: 247 | Epoch Time: 0m 33s\n",
            "\tTrain Loss: 0.142\n",
            "\t Val. Loss: 0.401\n",
            "\n"
          ]
        },
        {
          "output_type": "stream",
          "name": "stderr",
          "text": [
            "100%|██████████| 40/40 [00:30<00:00,  1.33it/s]\n",
            "100%|██████████| 10/10 [00:02<00:00,  3.47it/s]\n"
          ]
        },
        {
          "output_type": "stream",
          "name": "stdout",
          "text": [
            "Epoch: 248 | Epoch Time: 0m 33s\n",
            "\tTrain Loss: 0.143\n",
            "\t Val. Loss: 0.402\n",
            "\n"
          ]
        },
        {
          "output_type": "stream",
          "name": "stderr",
          "text": [
            "100%|██████████| 40/40 [00:30<00:00,  1.33it/s]\n",
            "100%|██████████| 10/10 [00:02<00:00,  3.45it/s]\n"
          ]
        },
        {
          "output_type": "stream",
          "name": "stdout",
          "text": [
            "Epoch: 249 | Epoch Time: 0m 33s\n",
            "\tTrain Loss: 0.143\n",
            "\t Val. Loss: 0.400\n",
            "\n"
          ]
        },
        {
          "output_type": "stream",
          "name": "stderr",
          "text": [
            "100%|██████████| 40/40 [00:30<00:00,  1.33it/s]\n",
            "100%|██████████| 10/10 [00:02<00:00,  3.43it/s]\n"
          ]
        },
        {
          "output_type": "stream",
          "name": "stdout",
          "text": [
            "Epoch: 250 | Epoch Time: 0m 33s\n",
            "\tTrain Loss: 0.143\n",
            "\t Val. Loss: 0.408\n",
            "\n"
          ]
        },
        {
          "output_type": "stream",
          "name": "stderr",
          "text": [
            "100%|██████████| 40/40 [00:30<00:00,  1.33it/s]\n",
            "100%|██████████| 10/10 [00:02<00:00,  3.47it/s]\n"
          ]
        },
        {
          "output_type": "stream",
          "name": "stdout",
          "text": [
            "Epoch: 251 | Epoch Time: 0m 33s\n",
            "\tTrain Loss: 0.144\n",
            "\t Val. Loss: 0.402\n",
            "\n"
          ]
        },
        {
          "output_type": "stream",
          "name": "stderr",
          "text": [
            "100%|██████████| 40/40 [00:30<00:00,  1.33it/s]\n",
            "100%|██████████| 10/10 [00:02<00:00,  3.46it/s]\n"
          ]
        },
        {
          "output_type": "stream",
          "name": "stdout",
          "text": [
            "Epoch: 252 | Epoch Time: 0m 33s\n",
            "\tTrain Loss: 0.145\n",
            "\t Val. Loss: 0.407\n",
            "\n"
          ]
        },
        {
          "output_type": "stream",
          "name": "stderr",
          "text": [
            "100%|██████████| 40/40 [00:30<00:00,  1.33it/s]\n",
            "100%|██████████| 10/10 [00:02<00:00,  3.42it/s]\n"
          ]
        },
        {
          "output_type": "stream",
          "name": "stdout",
          "text": [
            "Epoch: 253 | Epoch Time: 0m 32s\n",
            "\tTrain Loss: 0.145\n",
            "\t Val. Loss: 0.408\n",
            "\n"
          ]
        },
        {
          "output_type": "stream",
          "name": "stderr",
          "text": [
            "100%|██████████| 40/40 [00:30<00:00,  1.33it/s]\n",
            "100%|██████████| 10/10 [00:02<00:00,  3.43it/s]\n"
          ]
        },
        {
          "output_type": "stream",
          "name": "stdout",
          "text": [
            "Epoch: 254 | Epoch Time: 0m 33s\n",
            "\tTrain Loss: 0.145\n",
            "\t Val. Loss: 0.399\n",
            "\n"
          ]
        },
        {
          "output_type": "stream",
          "name": "stderr",
          "text": [
            "100%|██████████| 40/40 [00:30<00:00,  1.33it/s]\n",
            "100%|██████████| 10/10 [00:02<00:00,  3.45it/s]\n"
          ]
        },
        {
          "output_type": "stream",
          "name": "stdout",
          "text": [
            "Epoch: 255 | Epoch Time: 0m 33s\n",
            "\tTrain Loss: 0.145\n",
            "\t Val. Loss: 0.405\n",
            "\n"
          ]
        },
        {
          "output_type": "stream",
          "name": "stderr",
          "text": [
            "100%|██████████| 40/40 [00:30<00:00,  1.33it/s]\n",
            "100%|██████████| 10/10 [00:02<00:00,  3.47it/s]\n"
          ]
        },
        {
          "output_type": "stream",
          "name": "stdout",
          "text": [
            "Epoch: 256 | Epoch Time: 0m 33s\n",
            "\tTrain Loss: 0.145\n",
            "\t Val. Loss: 0.402\n",
            "\n"
          ]
        },
        {
          "output_type": "stream",
          "name": "stderr",
          "text": [
            "100%|██████████| 40/40 [00:30<00:00,  1.33it/s]\n",
            "100%|██████████| 10/10 [00:02<00:00,  3.46it/s]\n"
          ]
        },
        {
          "output_type": "stream",
          "name": "stdout",
          "text": [
            "Epoch: 257 | Epoch Time: 0m 32s\n",
            "\tTrain Loss: 0.145\n",
            "\t Val. Loss: 0.402\n",
            "\n"
          ]
        },
        {
          "output_type": "stream",
          "name": "stderr",
          "text": [
            "100%|██████████| 40/40 [00:30<00:00,  1.33it/s]\n",
            "100%|██████████| 10/10 [00:02<00:00,  3.44it/s]\n"
          ]
        },
        {
          "output_type": "stream",
          "name": "stdout",
          "text": [
            "Epoch: 258 | Epoch Time: 0m 33s\n",
            "\tTrain Loss: 0.144\n",
            "\t Val. Loss: 0.404\n",
            "\n"
          ]
        },
        {
          "output_type": "stream",
          "name": "stderr",
          "text": [
            "100%|██████████| 40/40 [00:30<00:00,  1.32it/s]\n",
            "100%|██████████| 10/10 [00:02<00:00,  3.46it/s]\n"
          ]
        },
        {
          "output_type": "stream",
          "name": "stdout",
          "text": [
            "Epoch: 259 | Epoch Time: 0m 33s\n",
            "\tTrain Loss: 0.143\n",
            "\t Val. Loss: 0.400\n",
            "\n"
          ]
        },
        {
          "output_type": "stream",
          "name": "stderr",
          "text": [
            "100%|██████████| 40/40 [00:30<00:00,  1.32it/s]\n",
            "100%|██████████| 10/10 [00:03<00:00,  3.22it/s]\n"
          ]
        },
        {
          "output_type": "stream",
          "name": "stdout",
          "text": [
            "Epoch: 260 | Epoch Time: 0m 33s\n",
            "\tTrain Loss: 0.143\n",
            "\t Val. Loss: 0.403\n",
            "\n"
          ]
        },
        {
          "output_type": "stream",
          "name": "stderr",
          "text": [
            "100%|██████████| 40/40 [00:30<00:00,  1.32it/s]\n",
            "100%|██████████| 10/10 [00:02<00:00,  3.46it/s]\n"
          ]
        },
        {
          "output_type": "stream",
          "name": "stdout",
          "text": [
            "Epoch: 261 | Epoch Time: 0m 33s\n",
            "\tTrain Loss: 0.143\n",
            "\t Val. Loss: 0.405\n",
            "\n"
          ]
        },
        {
          "output_type": "stream",
          "name": "stderr",
          "text": [
            "100%|██████████| 40/40 [00:30<00:00,  1.33it/s]\n",
            "100%|██████████| 10/10 [00:02<00:00,  3.45it/s]\n"
          ]
        },
        {
          "output_type": "stream",
          "name": "stdout",
          "text": [
            "Epoch: 262 | Epoch Time: 0m 33s\n",
            "\tTrain Loss: 0.142\n",
            "\t Val. Loss: 0.403\n",
            "\n"
          ]
        },
        {
          "output_type": "stream",
          "name": "stderr",
          "text": [
            "100%|██████████| 40/40 [00:30<00:00,  1.33it/s]\n",
            "100%|██████████| 10/10 [00:02<00:00,  3.45it/s]\n"
          ]
        },
        {
          "output_type": "stream",
          "name": "stdout",
          "text": [
            "Epoch: 263 | Epoch Time: 0m 33s\n",
            "\tTrain Loss: 0.142\n",
            "\t Val. Loss: 0.403\n",
            "\n"
          ]
        },
        {
          "output_type": "stream",
          "name": "stderr",
          "text": [
            "100%|██████████| 40/40 [00:30<00:00,  1.33it/s]\n",
            "100%|██████████| 10/10 [00:02<00:00,  3.44it/s]\n"
          ]
        },
        {
          "output_type": "stream",
          "name": "stdout",
          "text": [
            "Epoch: 264 | Epoch Time: 0m 33s\n",
            "\tTrain Loss: 0.142\n",
            "\t Val. Loss: 0.404\n",
            "\n"
          ]
        },
        {
          "output_type": "stream",
          "name": "stderr",
          "text": [
            "100%|██████████| 40/40 [00:30<00:00,  1.33it/s]\n",
            "100%|██████████| 10/10 [00:02<00:00,  3.46it/s]\n"
          ]
        },
        {
          "output_type": "stream",
          "name": "stdout",
          "text": [
            "Epoch: 265 | Epoch Time: 0m 32s\n",
            "\tTrain Loss: 0.143\n",
            "\t Val. Loss: 0.407\n",
            "\n"
          ]
        },
        {
          "output_type": "stream",
          "name": "stderr",
          "text": [
            "100%|██████████| 40/40 [00:30<00:00,  1.33it/s]\n",
            "100%|██████████| 10/10 [00:02<00:00,  3.44it/s]\n"
          ]
        },
        {
          "output_type": "stream",
          "name": "stdout",
          "text": [
            "Epoch: 266 | Epoch Time: 0m 33s\n",
            "\tTrain Loss: 0.144\n",
            "\t Val. Loss: 0.410\n",
            "\n"
          ]
        },
        {
          "output_type": "stream",
          "name": "stderr",
          "text": [
            "100%|██████████| 40/40 [00:30<00:00,  1.32it/s]\n",
            "100%|██████████| 10/10 [00:02<00:00,  3.47it/s]\n"
          ]
        },
        {
          "output_type": "stream",
          "name": "stdout",
          "text": [
            "Epoch: 267 | Epoch Time: 0m 33s\n",
            "\tTrain Loss: 0.145\n",
            "\t Val. Loss: 0.408\n",
            "\n"
          ]
        },
        {
          "output_type": "stream",
          "name": "stderr",
          "text": [
            "100%|██████████| 40/40 [00:30<00:00,  1.33it/s]\n",
            "100%|██████████| 10/10 [00:02<00:00,  3.46it/s]\n"
          ]
        },
        {
          "output_type": "stream",
          "name": "stdout",
          "text": [
            "Epoch: 268 | Epoch Time: 0m 33s\n",
            "\tTrain Loss: 0.146\n",
            "\t Val. Loss: 0.409\n",
            "\n"
          ]
        },
        {
          "output_type": "stream",
          "name": "stderr",
          "text": [
            "100%|██████████| 40/40 [00:30<00:00,  1.33it/s]\n",
            "100%|██████████| 10/10 [00:02<00:00,  3.45it/s]\n"
          ]
        },
        {
          "output_type": "stream",
          "name": "stdout",
          "text": [
            "Epoch: 269 | Epoch Time: 0m 32s\n",
            "\tTrain Loss: 0.146\n",
            "\t Val. Loss: 0.405\n",
            "\n"
          ]
        },
        {
          "output_type": "stream",
          "name": "stderr",
          "text": [
            "100%|██████████| 40/40 [00:30<00:00,  1.33it/s]\n",
            "100%|██████████| 10/10 [00:02<00:00,  3.46it/s]\n"
          ]
        },
        {
          "output_type": "stream",
          "name": "stdout",
          "text": [
            "Epoch: 270 | Epoch Time: 0m 33s\n",
            "\tTrain Loss: 0.146\n",
            "\t Val. Loss: 0.409\n",
            "\n"
          ]
        },
        {
          "output_type": "stream",
          "name": "stderr",
          "text": [
            "100%|██████████| 40/40 [00:30<00:00,  1.32it/s]\n",
            "100%|██████████| 10/10 [00:02<00:00,  3.43it/s]\n"
          ]
        },
        {
          "output_type": "stream",
          "name": "stdout",
          "text": [
            "Epoch: 271 | Epoch Time: 0m 33s\n",
            "\tTrain Loss: 0.145\n",
            "\t Val. Loss: 0.406\n",
            "\n"
          ]
        },
        {
          "output_type": "stream",
          "name": "stderr",
          "text": [
            "100%|██████████| 40/40 [00:30<00:00,  1.33it/s]\n",
            "100%|██████████| 10/10 [00:02<00:00,  3.45it/s]\n"
          ]
        },
        {
          "output_type": "stream",
          "name": "stdout",
          "text": [
            "Epoch: 272 | Epoch Time: 0m 32s\n",
            "\tTrain Loss: 0.144\n",
            "\t Val. Loss: 0.404\n",
            "\n"
          ]
        },
        {
          "output_type": "stream",
          "name": "stderr",
          "text": [
            "100%|██████████| 40/40 [00:30<00:00,  1.32it/s]\n",
            "100%|██████████| 10/10 [00:03<00:00,  3.26it/s]\n"
          ]
        },
        {
          "output_type": "stream",
          "name": "stdout",
          "text": [
            "Epoch: 273 | Epoch Time: 0m 33s\n",
            "\tTrain Loss: 0.143\n",
            "\t Val. Loss: 0.403\n",
            "\n"
          ]
        },
        {
          "output_type": "stream",
          "name": "stderr",
          "text": [
            "100%|██████████| 40/40 [00:30<00:00,  1.33it/s]\n",
            "100%|██████████| 10/10 [00:02<00:00,  3.46it/s]\n"
          ]
        },
        {
          "output_type": "stream",
          "name": "stdout",
          "text": [
            "Epoch: 274 | Epoch Time: 0m 33s\n",
            "\tTrain Loss: 0.142\n",
            "\t Val. Loss: 0.407\n",
            "\n"
          ]
        },
        {
          "output_type": "stream",
          "name": "stderr",
          "text": [
            "100%|██████████| 40/40 [00:30<00:00,  1.33it/s]\n",
            "100%|██████████| 10/10 [00:02<00:00,  3.45it/s]\n"
          ]
        },
        {
          "output_type": "stream",
          "name": "stdout",
          "text": [
            "Epoch: 275 | Epoch Time: 0m 33s\n",
            "\tTrain Loss: 0.142\n",
            "\t Val. Loss: 0.410\n",
            "\n"
          ]
        },
        {
          "output_type": "stream",
          "name": "stderr",
          "text": [
            "100%|██████████| 40/40 [00:30<00:00,  1.33it/s]\n",
            "100%|██████████| 10/10 [00:02<00:00,  3.43it/s]\n"
          ]
        },
        {
          "output_type": "stream",
          "name": "stdout",
          "text": [
            "Epoch: 276 | Epoch Time: 0m 33s\n",
            "\tTrain Loss: 0.142\n",
            "\t Val. Loss: 0.408\n",
            "\n"
          ]
        },
        {
          "output_type": "stream",
          "name": "stderr",
          "text": [
            "100%|██████████| 40/40 [00:30<00:00,  1.33it/s]\n",
            "100%|██████████| 10/10 [00:02<00:00,  3.45it/s]\n"
          ]
        },
        {
          "output_type": "stream",
          "name": "stdout",
          "text": [
            "Epoch: 277 | Epoch Time: 0m 32s\n",
            "\tTrain Loss: 0.142\n",
            "\t Val. Loss: 0.407\n",
            "\n"
          ]
        },
        {
          "output_type": "stream",
          "name": "stderr",
          "text": [
            "100%|██████████| 40/40 [00:30<00:00,  1.33it/s]\n",
            "100%|██████████| 10/10 [00:02<00:00,  3.44it/s]\n"
          ]
        },
        {
          "output_type": "stream",
          "name": "stdout",
          "text": [
            "Epoch: 278 | Epoch Time: 0m 33s\n",
            "\tTrain Loss: 0.142\n",
            "\t Val. Loss: 0.407\n",
            "\n"
          ]
        },
        {
          "output_type": "stream",
          "name": "stderr",
          "text": [
            "100%|██████████| 40/40 [00:30<00:00,  1.33it/s]\n",
            "100%|██████████| 10/10 [00:02<00:00,  3.45it/s]\n"
          ]
        },
        {
          "output_type": "stream",
          "name": "stdout",
          "text": [
            "Epoch: 279 | Epoch Time: 0m 33s\n",
            "\tTrain Loss: 0.142\n",
            "\t Val. Loss: 0.408\n",
            "\n"
          ]
        },
        {
          "output_type": "stream",
          "name": "stderr",
          "text": [
            "100%|██████████| 40/40 [00:30<00:00,  1.33it/s]\n",
            "100%|██████████| 10/10 [00:02<00:00,  3.42it/s]\n"
          ]
        },
        {
          "output_type": "stream",
          "name": "stdout",
          "text": [
            "Epoch: 280 | Epoch Time: 0m 33s\n",
            "\tTrain Loss: 0.142\n",
            "\t Val. Loss: 0.410\n",
            "\n"
          ]
        },
        {
          "output_type": "stream",
          "name": "stderr",
          "text": [
            "100%|██████████| 40/40 [00:30<00:00,  1.33it/s]\n",
            "100%|██████████| 10/10 [00:02<00:00,  3.46it/s]\n"
          ]
        },
        {
          "output_type": "stream",
          "name": "stdout",
          "text": [
            "Epoch: 281 | Epoch Time: 0m 32s\n",
            "\tTrain Loss: 0.142\n",
            "\t Val. Loss: 0.408\n",
            "\n"
          ]
        },
        {
          "output_type": "stream",
          "name": "stderr",
          "text": [
            "100%|██████████| 40/40 [00:30<00:00,  1.33it/s]\n",
            "100%|██████████| 10/10 [00:02<00:00,  3.48it/s]\n"
          ]
        },
        {
          "output_type": "stream",
          "name": "stdout",
          "text": [
            "Epoch: 282 | Epoch Time: 0m 33s\n",
            "\tTrain Loss: 0.142\n",
            "\t Val. Loss: 0.410\n",
            "\n"
          ]
        },
        {
          "output_type": "stream",
          "name": "stderr",
          "text": [
            "100%|██████████| 40/40 [00:30<00:00,  1.33it/s]\n",
            "100%|██████████| 10/10 [00:02<00:00,  3.46it/s]\n"
          ]
        },
        {
          "output_type": "stream",
          "name": "stdout",
          "text": [
            "Epoch: 283 | Epoch Time: 0m 33s\n",
            "\tTrain Loss: 0.142\n",
            "\t Val. Loss: 0.408\n",
            "\n"
          ]
        },
        {
          "output_type": "stream",
          "name": "stderr",
          "text": [
            "100%|██████████| 40/40 [00:30<00:00,  1.32it/s]\n",
            "100%|██████████| 10/10 [00:03<00:00,  3.32it/s]\n"
          ]
        },
        {
          "output_type": "stream",
          "name": "stdout",
          "text": [
            "Epoch: 284 | Epoch Time: 0m 33s\n",
            "\tTrain Loss: 0.142\n",
            "\t Val. Loss: 0.414\n",
            "\n"
          ]
        },
        {
          "output_type": "stream",
          "name": "stderr",
          "text": [
            "100%|██████████| 40/40 [00:30<00:00,  1.33it/s]\n",
            "100%|██████████| 10/10 [00:02<00:00,  3.45it/s]\n"
          ]
        },
        {
          "output_type": "stream",
          "name": "stdout",
          "text": [
            "Epoch: 285 | Epoch Time: 0m 32s\n",
            "\tTrain Loss: 0.143\n",
            "\t Val. Loss: 0.410\n",
            "\n"
          ]
        },
        {
          "output_type": "stream",
          "name": "stderr",
          "text": [
            "100%|██████████| 40/40 [00:30<00:00,  1.33it/s]\n",
            "100%|██████████| 10/10 [00:02<00:00,  3.44it/s]\n"
          ]
        },
        {
          "output_type": "stream",
          "name": "stdout",
          "text": [
            "Epoch: 286 | Epoch Time: 0m 33s\n",
            "\tTrain Loss: 0.143\n",
            "\t Val. Loss: 0.410\n",
            "\n"
          ]
        },
        {
          "output_type": "stream",
          "name": "stderr",
          "text": [
            "100%|██████████| 40/40 [00:30<00:00,  1.33it/s]\n",
            "100%|██████████| 10/10 [00:02<00:00,  3.43it/s]\n"
          ]
        },
        {
          "output_type": "stream",
          "name": "stdout",
          "text": [
            "Epoch: 287 | Epoch Time: 0m 32s\n",
            "\tTrain Loss: 0.142\n",
            "\t Val. Loss: 0.412\n",
            "\n"
          ]
        },
        {
          "output_type": "stream",
          "name": "stderr",
          "text": [
            "100%|██████████| 40/40 [00:30<00:00,  1.32it/s]\n",
            "100%|██████████| 10/10 [00:03<00:00,  3.32it/s]\n"
          ]
        },
        {
          "output_type": "stream",
          "name": "stdout",
          "text": [
            "Epoch: 288 | Epoch Time: 0m 33s\n",
            "\tTrain Loss: 0.142\n",
            "\t Val. Loss: 0.408\n",
            "\n"
          ]
        },
        {
          "output_type": "stream",
          "name": "stderr",
          "text": [
            "100%|██████████| 40/40 [00:30<00:00,  1.32it/s]\n",
            "100%|██████████| 10/10 [00:02<00:00,  3.45it/s]\n"
          ]
        },
        {
          "output_type": "stream",
          "name": "stdout",
          "text": [
            "Epoch: 289 | Epoch Time: 0m 33s\n",
            "\tTrain Loss: 0.142\n",
            "\t Val. Loss: 0.407\n",
            "\n"
          ]
        },
        {
          "output_type": "stream",
          "name": "stderr",
          "text": [
            "100%|██████████| 40/40 [00:30<00:00,  1.33it/s]\n",
            "100%|██████████| 10/10 [00:02<00:00,  3.45it/s]\n"
          ]
        },
        {
          "output_type": "stream",
          "name": "stdout",
          "text": [
            "Epoch: 290 | Epoch Time: 0m 33s\n",
            "\tTrain Loss: 0.142\n",
            "\t Val. Loss: 0.409\n",
            "\n"
          ]
        },
        {
          "output_type": "stream",
          "name": "stderr",
          "text": [
            "100%|██████████| 40/40 [00:30<00:00,  1.33it/s]\n",
            "100%|██████████| 10/10 [00:02<00:00,  3.47it/s]\n"
          ]
        },
        {
          "output_type": "stream",
          "name": "stdout",
          "text": [
            "Epoch: 291 | Epoch Time: 0m 32s\n",
            "\tTrain Loss: 0.142\n",
            "\t Val. Loss: 0.412\n",
            "\n"
          ]
        },
        {
          "output_type": "stream",
          "name": "stderr",
          "text": [
            "100%|██████████| 40/40 [00:30<00:00,  1.33it/s]\n",
            "100%|██████████| 10/10 [00:02<00:00,  3.46it/s]\n"
          ]
        },
        {
          "output_type": "stream",
          "name": "stdout",
          "text": [
            "Epoch: 292 | Epoch Time: 0m 32s\n",
            "\tTrain Loss: 0.142\n",
            "\t Val. Loss: 0.408\n",
            "\n"
          ]
        },
        {
          "output_type": "stream",
          "name": "stderr",
          "text": [
            "100%|██████████| 40/40 [00:30<00:00,  1.33it/s]\n",
            "100%|██████████| 10/10 [00:02<00:00,  3.46it/s]\n"
          ]
        },
        {
          "output_type": "stream",
          "name": "stdout",
          "text": [
            "Epoch: 293 | Epoch Time: 0m 33s\n",
            "\tTrain Loss: 0.141\n",
            "\t Val. Loss: 0.412\n",
            "\n"
          ]
        },
        {
          "output_type": "stream",
          "name": "stderr",
          "text": [
            "100%|██████████| 40/40 [00:30<00:00,  1.33it/s]\n",
            "100%|██████████| 10/10 [00:02<00:00,  3.46it/s]\n"
          ]
        },
        {
          "output_type": "stream",
          "name": "stdout",
          "text": [
            "Epoch: 294 | Epoch Time: 0m 33s\n",
            "\tTrain Loss: 0.141\n",
            "\t Val. Loss: 0.410\n",
            "\n"
          ]
        },
        {
          "output_type": "stream",
          "name": "stderr",
          "text": [
            "100%|██████████| 40/40 [00:30<00:00,  1.33it/s]\n",
            "100%|██████████| 10/10 [00:02<00:00,  3.44it/s]\n"
          ]
        },
        {
          "output_type": "stream",
          "name": "stdout",
          "text": [
            "Epoch: 295 | Epoch Time: 0m 33s\n",
            "\tTrain Loss: 0.142\n",
            "\t Val. Loss: 0.410\n",
            "\n"
          ]
        },
        {
          "output_type": "stream",
          "name": "stderr",
          "text": [
            "100%|██████████| 40/40 [00:30<00:00,  1.33it/s]\n",
            "100%|██████████| 10/10 [00:02<00:00,  3.45it/s]\n"
          ]
        },
        {
          "output_type": "stream",
          "name": "stdout",
          "text": [
            "Epoch: 296 | Epoch Time: 0m 33s\n",
            "\tTrain Loss: 0.142\n",
            "\t Val. Loss: 0.413\n",
            "\n"
          ]
        },
        {
          "output_type": "stream",
          "name": "stderr",
          "text": [
            "100%|██████████| 40/40 [00:30<00:00,  1.33it/s]\n",
            "100%|██████████| 10/10 [00:02<00:00,  3.43it/s]\n"
          ]
        },
        {
          "output_type": "stream",
          "name": "stdout",
          "text": [
            "Epoch: 297 | Epoch Time: 0m 33s\n",
            "\tTrain Loss: 0.142\n",
            "\t Val. Loss: 0.411\n",
            "\n"
          ]
        },
        {
          "output_type": "stream",
          "name": "stderr",
          "text": [
            "100%|██████████| 40/40 [00:30<00:00,  1.33it/s]\n",
            "100%|██████████| 10/10 [00:02<00:00,  3.34it/s]\n"
          ]
        },
        {
          "output_type": "stream",
          "name": "stdout",
          "text": [
            "Epoch: 298 | Epoch Time: 0m 33s\n",
            "\tTrain Loss: 0.142\n",
            "\t Val. Loss: 0.412\n",
            "\n"
          ]
        },
        {
          "output_type": "stream",
          "name": "stderr",
          "text": [
            "100%|██████████| 40/40 [00:30<00:00,  1.32it/s]\n",
            "100%|██████████| 10/10 [00:02<00:00,  3.44it/s]\n"
          ]
        },
        {
          "output_type": "stream",
          "name": "stdout",
          "text": [
            "Epoch: 299 | Epoch Time: 0m 33s\n",
            "\tTrain Loss: 0.142\n",
            "\t Val. Loss: 0.410\n",
            "\n"
          ]
        },
        {
          "output_type": "stream",
          "name": "stderr",
          "text": [
            "100%|██████████| 40/40 [00:30<00:00,  1.33it/s]\n",
            "100%|██████████| 10/10 [00:02<00:00,  3.47it/s]"
          ]
        },
        {
          "output_type": "stream",
          "name": "stdout",
          "text": [
            "Epoch: 300 | Epoch Time: 0m 33s\n",
            "\tTrain Loss: 0.142\n",
            "\t Val. Loss: 0.411\n",
            "\n"
          ]
        },
        {
          "output_type": "stream",
          "name": "stderr",
          "text": [
            "\n"
          ]
        }
      ]
    },
    {
      "cell_type": "markdown",
      "source": [
        "**CHECKING ACCURACY**"
      ],
      "metadata": {
        "id": "4qHYheWYHfOz"
      }
    },
    {
      "cell_type": "code",
      "source": [
        "import os, time\n",
        "from operator import add\n",
        "import numpy as np\n",
        "from glob import glob\n",
        "import cv2\n",
        "from tqdm import tqdm\n",
        "import imageio\n",
        "import torch\n",
        "from sklearn.metrics import accuracy_score, f1_score, jaccard_score, precision_score, recall_score\n",
        "\n",
        "\n",
        "def calculate_metrics(y_true, y_pred):\n",
        "    ##Ground truth\n",
        "    y_true = y_true.cpu().numpy()\n",
        "    y_true = y_true > 0.5\n",
        "    y_true = y_true.astype(np.uint8)\n",
        "    y_true = y_true.reshape(-1)\n",
        "\n",
        "    ##Prediction \n",
        "    y_pred = y_pred.cpu().numpy()\n",
        "    y_pred = y_pred > 0.5\n",
        "    y_pred = y_pred.astype(np.uint8)\n",
        "    y_pred = y_pred.reshape(-1)\n",
        "\n",
        "    score_jaccard = jaccard_score(y_true, y_pred)\n",
        "    score_f1 = f1_score(y_true, y_pred)\n",
        "    score_recall = recall_score(y_true, y_pred)\n",
        "    score_precision = precision_score(y_true, y_pred)\n",
        "    score_acc = accuracy_score(y_true, y_pred)\n",
        "\n",
        "    return [score_jaccard, score_f1, score_recall, score_precision, score_acc]\n",
        "\n",
        "def mask_parse(mask):\n",
        "    mask = np.expand_dims(mask, axis=-1)    ## (512, 512, 1)\n",
        "    mask = np.concatenate([mask, mask, mask], axis=-1)  ## (512, 512, 3)\n",
        "    return mask\n",
        "\n",
        "if __name__ == \"__main__\":\n",
        "    ##Seeding \n",
        "    seeding(42)\n",
        "\n",
        "    ##Folders\n",
        "    create_dir(\"results\")\n",
        "\n",
        "    ##Load dataset \n",
        "    test_x = sorted(glob(\"/content/new_data/test/image/*\"))\n",
        "    test_y = sorted(glob(\"/content/new_data/test/mask/*\"))\n",
        "\n",
        "    ##Hyperparameters \n",
        "    H = 512\n",
        "    W = 512\n",
        "    size = (W, H)\n",
        "    checkpoint_path = \"files/checkpoint.pth\"\n",
        "\n",
        "    ##Load the checkpoint \n",
        "    device = torch.device('cuda' if torch.cuda.is_available() else 'cpu')\n",
        "\n",
        "    model = build_unet()\n",
        "    model = model.to(device)\n",
        "    model.load_state_dict(torch.load(checkpoint_path, map_location=device))\n",
        "    model.eval()\n",
        "\n",
        "    metrics_score = [0.0, 0.0, 0.0, 0.0, 0.0]\n",
        "    time_taken = []\n",
        "\n",
        "    for i, (x, y) in tqdm(enumerate(zip(test_x, test_y)), total=len(test_x)):\n",
        "        ##Extract the name \n",
        "        name = x.split(\"/\")[-1].split(\".\")[0]\n",
        "\n",
        "        ##Reading image \n",
        "        image = cv2.imread(x, cv2.IMREAD_COLOR) ## (512, 512, 3)\n",
        "        ## image = cv2.resize(image, size)\n",
        "        x = np.transpose(image, (2, 0, 1))      ## (3, 512, 512)\n",
        "        x = x/255.0\n",
        "        x = np.expand_dims(x, axis=0)           ## (1, 3, 512, 512)\n",
        "        x = x.astype(np.float32)\n",
        "        x = torch.from_numpy(x)\n",
        "        x = x.to(device)\n",
        "\n",
        "        ##Reading mask \n",
        "        mask = cv2.imread(y, cv2.IMREAD_GRAYSCALE)  ## (512, 512)\n",
        "        ## mask = cv2.resize(mask, size)\n",
        "        y = np.expand_dims(mask, axis=0)            ## (1, 512, 512)\n",
        "        y = y/255.0\n",
        "        y = np.expand_dims(y, axis=0)               ## (1, 1, 512, 512)\n",
        "        y = y.astype(np.float32)\n",
        "        y = torch.from_numpy(y)\n",
        "        y = y.to(device)\n",
        "\n",
        "        with torch.no_grad():\n",
        "            ##Prediction and Calculating FPS \n",
        "            start_time = time.time()\n",
        "            pred_y = model(x)\n",
        "            pred_y = torch.sigmoid(pred_y)\n",
        "            total_time = time.time() - start_time\n",
        "            time_taken.append(total_time)\n",
        "\n",
        "\n",
        "            score = calculate_metrics(y, pred_y)\n",
        "            metrics_score = list(map(add, metrics_score, score))\n",
        "            pred_y = pred_y[0].cpu().numpy()        ## (1, 512, 512)\n",
        "            pred_y = np.squeeze(pred_y, axis=0)     ## (512, 512)\n",
        "            pred_y = pred_y > 0.5\n",
        "            pred_y = np.array(pred_y, dtype=np.uint8)\n",
        "\n",
        "        ##Saving masks \n",
        "        ori_mask = mask_parse(mask)\n",
        "        pred_y = mask_parse(pred_y)\n",
        "        line = np.ones((size[1], 10, 3)) * 128\n",
        "\n",
        "        cat_images = np.concatenate(\n",
        "            [image, line, ori_mask, line, pred_y * 255], axis=1\n",
        "        )\n",
        "        cv2.imwrite(f\"results/{name}.png\", cat_images)\n",
        "\n",
        "    jaccard = metrics_score[0]/len(test_x)\n",
        "    f1 = metrics_score[1]/len(test_x)\n",
        "    recall = metrics_score[2]/len(test_x)\n",
        "    precision = metrics_score[3]/len(test_x)\n",
        "    acc = metrics_score[4]/len(test_x)\n",
        "    print(f\"Jaccard: {jaccard:1.4f} - F1: {f1:1.4f} - Recall: {recall:1.4f} - Precision: {precision:1.4f} - Acc: {acc:1.4f}\")\n",
        "\n",
        "    fps = 1/np.mean(time_taken)\n",
        "    print(\"FPS: \", fps)"
      ],
      "metadata": {
        "colab": {
          "base_uri": "https://localhost:8080/"
        },
        "id": "IBPnv4zVX8As",
        "outputId": "634713f9-6436-401f-f92c-a9df948b1119"
      },
      "execution_count": null,
      "outputs": [
        {
          "output_type": "stream",
          "name": "stderr",
          "text": [
            "100%|██████████| 20/20 [00:07<00:00,  2.58it/s]"
          ]
        },
        {
          "output_type": "stream",
          "name": "stdout",
          "text": [
            "Jaccard: 0.6625 - F1: 0.7967 - Recall: 0.7848 - Precision: 0.8138 - Acc: 0.9652\n",
            "FPS:  137.88162894975608\n"
          ]
        },
        {
          "output_type": "stream",
          "name": "stderr",
          "text": [
            "\n"
          ]
        }
      ]
    },
    {
      "cell_type": "code",
      "source": [],
      "metadata": {
        "id": "FustBhQvSU5b"
      },
      "execution_count": null,
      "outputs": []
    }
  ]
}