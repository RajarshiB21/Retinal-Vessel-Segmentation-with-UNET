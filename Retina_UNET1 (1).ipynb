{
  "nbformat": 4,
  "nbformat_minor": 0,
  "metadata": {
    "colab": {
      "provenance": [],
      "machine_shape": "hm"
    },
    "kernelspec": {
      "name": "python3",
      "display_name": "Python 3"
    },
    "language_info": {
      "name": "python"
    },
    "accelerator": "GPU",
    "gpuClass": "premium"
  },
  "cells": [
    {
      "cell_type": "markdown",
      "source": [
        "**DATA IMPORT AND AUGMENTATION**"
      ],
      "metadata": {
        "id": "JUCsxc0svSXP"
      }
    },
    {
      "cell_type": "code",
      "source": [
        "from google.colab import drive\n",
        "drive.mount('/content/drive')"
      ],
      "metadata": {
        "colab": {
          "base_uri": "https://localhost:8080/"
        },
        "id": "-rFozLU-0e9d",
        "outputId": "f451ac7b-fa35-4ced-c8a0-ece37f7d96a5"
      },
      "execution_count": 1,
      "outputs": [
        {
          "output_type": "stream",
          "name": "stdout",
          "text": [
            "Mounted at /content/drive\n"
          ]
        }
      ]
    },
    {
      "cell_type": "code",
      "source": [
        "import torch\n",
        "print(torch.cuda.get_device_name(0))"
      ],
      "metadata": {
        "colab": {
          "base_uri": "https://localhost:8080/"
        },
        "id": "pcBjt_ub1kD2",
        "outputId": "2bb5c1ab-9562-4136-d8a0-7e065964cdac"
      },
      "execution_count": 2,
      "outputs": [
        {
          "output_type": "stream",
          "name": "stdout",
          "text": [
            "NVIDIA A100-SXM4-40GB\n"
          ]
        }
      ]
    },
    {
      "cell_type": "code",
      "execution_count": 3,
      "metadata": {
        "id": "cgXKZZhXhCZI"
      },
      "outputs": [],
      "source": [
        "import os\n",
        "import numpy as np\n",
        "import cv2\n",
        "from glob import glob\n",
        "from tqdm import tqdm\n",
        "import imageio\n",
        "from albumentations import HorizontalFlip, VerticalFlip, Rotate"
      ]
    },
    {
      "cell_type": "code",
      "source": [
        "#Create new path to store augmented images\n",
        "def create_dir(path):\n",
        "  if not os.path.exists(path):\n",
        "    os.makedirs(path)"
      ],
      "metadata": {
        "id": "fAI6DT9yjUI7"
      },
      "execution_count": 4,
      "outputs": []
    },
    {
      "cell_type": "code",
      "source": [
        "def load_data(path):\n",
        "  train_x = sorted(glob(os.path.join(path, \"training\", \"images\", \"*.tif\")))\n",
        "  train_y = sorted(glob(os.path.join(path, \"training\", \"1st_manual\", \"*.gif\")))\n",
        "\n",
        "  test_x = sorted(glob(os.path.join(path, \"test\", \"images\", \"*.tif\")))\n",
        "  test_y = sorted(glob(os.path.join(path, \"test\", \"1st_manual\", \"*.gif\")))\n",
        "\n",
        "  return (train_x, train_y), (test_x,test_y)"
      ],
      "metadata": {
        "id": "G_hFgqm_huvM"
      },
      "execution_count": 5,
      "outputs": []
    },
    {
      "cell_type": "code",
      "source": [
        "def augment_data(images, masks, save_path, augment=True):\n",
        "  size=(512,512)\n",
        "\n",
        "  #Now we loop over image and mask\n",
        "  for idx, (x,y) in tqdm(enumerate(zip(images,masks)), total=len(images)):\n",
        "    #extracting name of the image\n",
        "    name = (x.split('/')[-1]).split(\".\")[0]\n",
        "\n",
        "    #Reading the image and mask\n",
        "    #for image we use cv2 and for the mask we use imageio\n",
        "\n",
        "    x = cv2.imread(x, cv2.IMREAD_COLOR)\n",
        "    y = imageio.mimread(y)[0]\n",
        "    if augment == True:\n",
        "      aug = HorizontalFlip(p=1.0)\n",
        "      augmented = aug(image=x, mask=y)\n",
        "      x1 = augmented[\"image\"]\n",
        "      y1 = augmented[\"mask\"]\n",
        "\n",
        "      aug = VerticalFlip(p=1.0)\n",
        "      augmented = aug(image=x, mask=y)\n",
        "      x2 = augmented[\"image\"]\n",
        "      y2 = augmented[\"mask\"]\n",
        "\n",
        "      aug = Rotate(limit=45, p=1.0)\n",
        "      augmented = aug(image=x, mask=y)\n",
        "      x3 = augmented[\"image\"]\n",
        "      y3 = augmented[\"mask\"]\n",
        "\n",
        "      X = [x, x1, x2, x3]\n",
        "      Y = [y, y1, y2, y3]\n",
        "\n",
        "    else:\n",
        "      X = [x]\n",
        "      Y = [y]\n",
        "\n",
        "    index = 0\n",
        "    for i, m in zip(X,Y):\n",
        "      i = cv2.resize(i, size)\n",
        "      m = cv2.resize(m, size)\n",
        "\n",
        "      tmp_image_name = f\"{name}_{index}.png\"\n",
        "      tmp_mask_name = f\"{name}_{index}.png\"\n",
        "\n",
        "      image_path = os.path.join(save_path, \"image\", tmp_image_name)\n",
        "      mask_path = os.path.join(save_path, \"mask\", tmp_mask_name)  \n",
        "\n",
        "      cv2.imwrite(image_path, i)\n",
        "      cv2.imwrite(mask_path, m)  \n",
        "\n",
        "      index+=1\n"
      ],
      "metadata": {
        "id": "QkOGle3_j3V3"
      },
      "execution_count": 6,
      "outputs": []
    },
    {
      "cell_type": "code",
      "source": [
        "if __name__ == \"main\":\n",
        "  np.random.seed(42)"
      ],
      "metadata": {
        "id": "4wRoqZ3RhPxg"
      },
      "execution_count": 7,
      "outputs": []
    },
    {
      "cell_type": "code",
      "source": [
        "##Load the data\n",
        "data_path = \"/content/drive/MyDrive/Retina Vessel Segmentation/DRIVE/\"\n",
        "(train_x, train_y), (test_x,test_y) = load_data(data_path)\n",
        "\n",
        "print(f\"Train: {len(train_x)} - {len(train_y)}\")\n",
        "print(f\"Test: {len(test_x)} - {len(test_y)}\")"
      ],
      "metadata": {
        "colab": {
          "base_uri": "https://localhost:8080/"
        },
        "id": "OvdawDMMhe4p",
        "outputId": "8ae92977-81d0-44f8-b671-9d974cc0d39e"
      },
      "execution_count": 8,
      "outputs": [
        {
          "output_type": "stream",
          "name": "stdout",
          "text": [
            "Train: 20 - 20\n",
            "Test: 20 - 20\n"
          ]
        }
      ]
    },
    {
      "cell_type": "code",
      "source": [
        "#Now we create directories to save our augmented data\n",
        "create_dir(\"new_data/train/image/\")\n",
        "create_dir(\"new_data/train/mask/\")\n",
        "create_dir(\"new_data/test/image/\")\n",
        "create_dir(\"new_data/test/mask/\")"
      ],
      "metadata": {
        "id": "SuMxiru6hs2E"
      },
      "execution_count": 9,
      "outputs": []
    },
    {
      "cell_type": "code",
      "source": [
        "#Data augmentation\n",
        "augment_data(train_x,train_y,\"new_data/train/\",augment=False)"
      ],
      "metadata": {
        "colab": {
          "base_uri": "https://localhost:8080/"
        },
        "id": "fsLp_bzzjtfv",
        "outputId": "bad1a24c-ce04-417a-b936-20c610452358"
      },
      "execution_count": 10,
      "outputs": [
        {
          "output_type": "stream",
          "name": "stderr",
          "text": [
            "100%|██████████| 20/20 [00:13<00:00,  1.51it/s]\n"
          ]
        }
      ]
    },
    {
      "cell_type": "code",
      "source": [
        "augment_data(test_x,test_y,\"new_data/test/\",augment=False)"
      ],
      "metadata": {
        "colab": {
          "base_uri": "https://localhost:8080/"
        },
        "id": "EETwUiuFkgAB",
        "outputId": "04f6067f-7101-4bd4-be2b-c7d742af80da"
      },
      "execution_count": 11,
      "outputs": [
        {
          "output_type": "stream",
          "name": "stderr",
          "text": [
            "100%|██████████| 20/20 [00:13<00:00,  1.52it/s]\n"
          ]
        }
      ]
    },
    {
      "cell_type": "markdown",
      "source": [
        "**CREATING U-NET ARCHITECTURE**"
      ],
      "metadata": {
        "id": "rRKDYW9XvaSA"
      }
    },
    {
      "cell_type": "code",
      "source": [
        "import torch\n",
        "import torch.nn as nn"
      ],
      "metadata": {
        "id": "gFJWt19dvII0"
      },
      "execution_count": 12,
      "outputs": []
    },
    {
      "cell_type": "code",
      "source": [
        "class conv_block(nn.Module):\n",
        "  def __init__(self, in_c, out_c):\n",
        "    super().__init__()\n",
        "\n",
        "    self.conv1 = nn.Conv2d(in_c,out_c,kernel_size=3,padding=1)\n",
        "    self.bn1 = nn.BatchNorm2d(out_c)\n",
        "\n",
        "    self.conv2 = nn.Conv2d(out_c,out_c,kernel_size=3,padding=1)\n",
        "    self.bn2 = nn.BatchNorm2d(out_c)\n",
        "\n",
        "    self.relu = nn.ReLU()\n",
        "\n",
        "  def forward(self, inputs):\n",
        "    x = self.conv1(inputs)\n",
        "    x = self.bn1(x)\n",
        "    x = self.relu(x)\n",
        "\n",
        "    x = self.conv2(x)\n",
        "    x = self.bn2(x)\n",
        "    x = self.relu(x)\n",
        "\n",
        "    return x\n",
        "\n",
        "\n",
        "class encoder_block(nn.Module):\n",
        "  def __init__(self, in_c,out_c):\n",
        "    super().__init__()\n",
        "\n",
        "    self.conv = conv_block(in_c, out_c)\n",
        "    self.pool = nn.MaxPool2d((2,2))\n",
        "\n",
        "  def forward(self, inputs):\n",
        "    x = self.conv(inputs)\n",
        "    p = self.pool(x)\n",
        "\n",
        "    return x,p\n",
        "\n",
        "class decoder_block(nn.Module):\n",
        "  def __init__(self, in_c, out_c):\n",
        "    super().__init__()\n",
        "\n",
        "    self.up = nn.ConvTranspose2d(in_c, out_c, kernel_size=2, stride=2, padding=0)\n",
        "    #Number of input channels will be outputchannles*2\n",
        "    self.conv = conv_block(out_c+out_c, out_c)\n",
        "\n",
        "  def forward(self, inputs, skip):\n",
        "    x = self.up(inputs)\n",
        "    x = torch.cat([x, skip], axis=1)\n",
        "    x = self.conv(x)\n",
        "    return x\n",
        "   \n",
        "\n",
        "\n",
        "class build_unet(nn.Module):\n",
        "    def __init__(self):\n",
        "        super().__init__()\n",
        "\n",
        "        ##Encoder \n",
        "        self.e1 = encoder_block(3, 64)\n",
        "        self.e2 = encoder_block(64, 128)\n",
        "        self.e3 = encoder_block(128, 256)\n",
        "        self.e4 = encoder_block(256, 512)\n",
        "\n",
        "        ##Bottleneck\n",
        "        self.b = conv_block(512, 1024)  \n",
        "\n",
        "        ##Decoder\n",
        "        self.d1 = decoder_block(1024, 512)\n",
        "        self.d2 = decoder_block(512, 256)\n",
        "        self.d3 = decoder_block(256, 128)\n",
        "        self.d4 = decoder_block(128, 64)\n",
        "\n",
        "\n",
        "        ##Classifier \n",
        "        #To generate the final segmentation\n",
        "        self.outputs = nn.Conv2d(64,1, kernel_size=1, padding=0)\n",
        "\n",
        "    \n",
        "    def forward(self, inputs):\n",
        "        ##Encoder \n",
        "        #The output from the encoder layer acts as a skip connection for the decoder layer\n",
        "        #s1 stands for skip connections\n",
        "        #p1 stands for pooling output\n",
        "\n",
        "        s1, p1 = self.e1(inputs)\n",
        "        s2, p2 = self.e2(p1)\n",
        "        s3, p3 = self.e3(p2)\n",
        "        s4, p4 = self.e4(p3)\n",
        "\n",
        "        #Bottleneck\n",
        "        b = self.b(p4)\n",
        "        #print(s1.shape, s2.shape, s3.shape, s4.shape)\n",
        "        #print(b.shape)\n",
        "\n",
        "        ##Decoder\n",
        "        d1 = self.d1(b, s4)\n",
        "        d2 = self.d2(d1, s3)\n",
        "        d3 = self.d3(d2, s2)\n",
        "        d4 = self.d4(d3, s1)\n",
        "\n",
        "        #Classifier\n",
        "        outputs = self.outputs(d4)\n",
        "        return outputs\n",
        "\n",
        "\n",
        "\n",
        "if __name__ == \"__main__\":\n",
        "  x = torch.randn((2,3,512,512))\n",
        "  f = build_unet()\n",
        "  y=f(x)\n",
        "  print(y.shape)"
      ],
      "metadata": {
        "colab": {
          "base_uri": "https://localhost:8080/"
        },
        "id": "envlmumbvjAO",
        "outputId": "20ef7a33-1887-4626-d10c-af8fea9d03af"
      },
      "execution_count": 13,
      "outputs": [
        {
          "output_type": "stream",
          "name": "stdout",
          "text": [
            "torch.Size([2, 1, 512, 512])\n"
          ]
        }
      ]
    },
    {
      "cell_type": "markdown",
      "source": [
        "**LOSS**"
      ],
      "metadata": {
        "id": "a1aAVuSL6HBg"
      }
    },
    {
      "cell_type": "code",
      "source": [
        "import torch.nn.functional as F\n",
        "\n",
        "class DiceLoss(nn.Module):\n",
        "    def __init__(self, weight=None, size_average=True):\n",
        "        super(DiceLoss, self).__init__()\n",
        "\n",
        "    def forward(self, inputs, targets, smooth=1):\n",
        "\n",
        "        #comment out if your model contains a sigmoid or equivalent activation layer\n",
        "        inputs = torch.sigmoid(inputs)\n",
        "\n",
        "        #flatten label and prediction tensors\n",
        "        inputs = inputs.view(-1)\n",
        "        targets = targets.view(-1)\n",
        "\n",
        "        intersection = (inputs * targets).sum()\n",
        "        dice = (2.*intersection + smooth)/(inputs.sum() + targets.sum() + smooth)\n",
        "\n",
        "        return 1 - dice"
      ],
      "metadata": {
        "id": "rEKJ3S4U6LEG"
      },
      "execution_count": 14,
      "outputs": []
    },
    {
      "cell_type": "code",
      "source": [
        "class DiceBCELoss(nn.Module):\n",
        "    def __init__(self, weight=None, size_average=True):\n",
        "        super(DiceBCELoss, self).__init__()\n",
        "\n",
        "    def forward(self, inputs, targets, smooth=1):\n",
        "\n",
        "        #comment out if your model contains a sigmoid or equivalent activation layer\n",
        "        inputs = torch.sigmoid(inputs)\n",
        "\n",
        "        #flatten label and prediction tensors\n",
        "        inputs = inputs.view(-1)\n",
        "        targets = targets.view(-1)\n",
        "\n",
        "        intersection = (inputs * targets).sum()\n",
        "        dice_loss = 1 - (2.*intersection + smooth)/(inputs.sum() + targets.sum() + smooth)\n",
        "        BCE = F.binary_cross_entropy(inputs, targets, reduction='mean')\n",
        "        Dice_BCE = BCE + dice_loss\n",
        "\n",
        "        return Dice_BCE"
      ],
      "metadata": {
        "id": "nzNm_HP46Qb_"
      },
      "execution_count": 15,
      "outputs": []
    },
    {
      "cell_type": "markdown",
      "source": [
        "**UTILS**"
      ],
      "metadata": {
        "id": "kjhp7D2n6WmY"
      }
    },
    {
      "cell_type": "code",
      "source": [
        "import os\n",
        "import time\n",
        "import random\n",
        "import numpy as np\n",
        "import cv2\n",
        "import torch\n",
        "\n",
        "##Seeding the randomness\n",
        "def seeding(seed):\n",
        "    random.seed(seed)\n",
        "    os.environ[\"PYTHONHASHSEED\"] = str(seed)\n",
        "    np.random.seed(seed)\n",
        "    torch.manual_seed(seed)\n",
        "    torch.cuda.manual_seed(seed)\n",
        "    torch.backends.cudnn.deterministic = True\n",
        "\n",
        "##Create a directory\n",
        "def create_dir(path):\n",
        "    if not os.path.exists(path):\n",
        "        os.makedirs(path)\n",
        "\n",
        "##Calculate the time taken\n",
        "def epoch_time(start_time, end_time):\n",
        "    elapsed_time = end_time - start_time\n",
        "    elapsed_mins = int(elapsed_time / 60)\n",
        "    elapsed_secs = int(elapsed_time - (elapsed_mins * 60))\n",
        "    return elapsed_mins, elapsed_secs"
      ],
      "metadata": {
        "id": "jLpG3hzv6Zp_"
      },
      "execution_count": 16,
      "outputs": []
    },
    {
      "cell_type": "markdown",
      "source": [
        "**TRAINING**"
      ],
      "metadata": {
        "id": "EufHoK3H5sQ4"
      }
    },
    {
      "cell_type": "code",
      "source": [
        "import os\n",
        "import time\n",
        "from glob import glob\n",
        "\n",
        "from torch.utils.data import DataLoader"
      ],
      "metadata": {
        "id": "ml__ECvtwLWW"
      },
      "execution_count": 17,
      "outputs": []
    },
    {
      "cell_type": "code",
      "source": [
        "if __name__ == \"__main__\":\n",
        "  #Seeding\n",
        "  seeding(42)\n",
        "\n",
        "  #Saving the checkpoints and other files\n",
        "  create_dir(\"files\")\n",
        "\n",
        "  #load the dataset\n",
        "  train_x = sorted(glob(\"/content/new_data/train/image/*\"))\n",
        "  train_y = sorted(glob(\"/content/new_data/train/mask/*\"))\n",
        "\n",
        "  valid_x = sorted(glob(\"/content/new_data/test/image/*\"))\n",
        "  valid_y = sorted(glob(\"/content/new_data/test/mask/*\"))\n",
        "\n",
        "  data_str = f\"Dataset Size:\\nTrain: {len(train_x)} - Valid:{len(test_x)}\"\n",
        "  print(data_str)"
      ],
      "metadata": {
        "colab": {
          "base_uri": "https://localhost:8080/"
        },
        "id": "Byp6vkmN58Zl",
        "outputId": "cb8a0a8e-adbc-49f4-a10a-b62a73d3b325"
      },
      "execution_count": 18,
      "outputs": [
        {
          "output_type": "stream",
          "name": "stdout",
          "text": [
            "Dataset Size:\n",
            "Train: 20 - Valid:20\n"
          ]
        }
      ]
    },
    {
      "cell_type": "code",
      "source": [
        "##Hyperparameters\n",
        "H = 512\n",
        "W = 512\n",
        "size = (H,W)\n",
        "batch_size = 2\n",
        "num_epochs = 50\n",
        "lr = 3e-4\n",
        "checkpoint_path = \"files/checkpoint.pth\"\n",
        "device = \"cuda\" if torch.cuda.is_available() else \"cpu\"\n",
        "print(device)"
      ],
      "metadata": {
        "colab": {
          "base_uri": "https://localhost:8080/"
        },
        "id": "fo_nVyCK7Yll",
        "outputId": "e2c24191-7f78-41bf-d229-534a1262a27f"
      },
      "execution_count": 19,
      "outputs": [
        {
          "output_type": "stream",
          "name": "stdout",
          "text": [
            "cuda\n"
          ]
        }
      ]
    },
    {
      "cell_type": "markdown",
      "source": [
        "**DATASET AND LOADER**"
      ],
      "metadata": {
        "id": "-JM99Ucx9OR6"
      }
    },
    {
      "cell_type": "code",
      "source": [
        "import os \n",
        "import numpy as np\n",
        "import cv2\n",
        "import torch\n",
        "from torch.utils.data import Dataset"
      ],
      "metadata": {
        "id": "BOSg1eWh8Xx8"
      },
      "execution_count": 20,
      "outputs": []
    },
    {
      "cell_type": "code",
      "source": [
        "class DriveDataset(Dataset):\n",
        "  def __init__(self, images_path, masks_path):\n",
        "    self.images_path = images_path\n",
        "    self.masks_path = masks_path\n",
        "    self.n_samples = len(images_path)\n",
        "\n",
        "  def __getitem__(self, index):\n",
        "    #Reading the image\n",
        "    #Read the image in RGB format\n",
        "    image = cv2.imread(self.images_path[index], cv2.IMREAD_COLOR)\n",
        "    #Normalize the image by dividing with 255\n",
        "    image = image/255.0\n",
        "    #Transpose the image since it had channel last approach and for pytorch we need channel first\n",
        "    image = np.transpose(image, (2,0,1))\n",
        "    #Then we convert it into float32\n",
        "    image = image.astype(np.float32)\n",
        "    #Then we convert it to a torch tensor\n",
        "    image = torch.from_numpy(image)\n",
        "\n",
        "    #Reading the mask\n",
        "    #We do not need transpose for mask\n",
        "    mask = cv2.imread(self.masks_path[index], cv2.IMREAD_GRAYSCALE)\n",
        "    mask = mask/255.0\n",
        "    mask = np.expand_dims(mask, axis=0)##(1,512,512)\n",
        "    mask = mask.astype(np.float32)\n",
        "    mask = torch.from_numpy(mask)\n",
        "\n",
        "    return image, mask\n",
        "\n",
        "  def __len__(self):\n",
        "    return self.n_samples\n"
      ],
      "metadata": {
        "id": "sGoOgIyp9N1Q"
      },
      "execution_count": 21,
      "outputs": []
    },
    {
      "cell_type": "code",
      "source": [
        "train_dataset = DriveDataset(train_x, train_y)\n",
        "valid_dataset = DriveDataset(valid_x, valid_y)\n",
        "\n",
        "train_loader = DataLoader(\n",
        "    dataset = train_dataset,\n",
        "    batch_size = batch_size,\n",
        "    shuffle = True,\n",
        "    num_workers=2\n",
        ")\n",
        "\n",
        "valid_loader = DataLoader(\n",
        "    dataset = valid_dataset,\n",
        "    batch_size = batch_size,\n",
        "    shuffle = False,\n",
        "    num_workers=2\n",
        ")"
      ],
      "metadata": {
        "id": "pAbCdie7-xVC"
      },
      "execution_count": 22,
      "outputs": []
    },
    {
      "cell_type": "code",
      "source": [
        "##Initialising the model\n",
        "model = build_unet()\n",
        "model = model.to(device=device)\n",
        "\n",
        "optimizer = torch.optim.Adam(model.parameters(), lr=lr)\n",
        "scheduler = torch.optim.lr_scheduler.ReduceLROnPlateau(optimizer,'min', patience=5, verbose=True)\n",
        "loss_fn = DiceBCELoss()"
      ],
      "metadata": {
        "id": "18OXX0zo_alM"
      },
      "execution_count": 23,
      "outputs": []
    },
    {
      "cell_type": "code",
      "source": [
        "import os, time\n",
        "from operator import add\n",
        "import numpy as np\n",
        "from glob import glob\n",
        "import cv2\n",
        "from tqdm import tqdm\n",
        "import imageio\n",
        "import torch\n",
        "from sklearn.metrics import accuracy_score, f1_score, jaccard_score, precision_score, recall_score\n",
        "\n",
        "def calculate_metrics(y_true, y_pred, type=\"All\"):\n",
        "    ##Ground truth\n",
        "    y_true = y_true.cpu().detach().numpy()\n",
        "    y_true = y_true > 0.5\n",
        "    y_true = y_true.astype(np.uint8)\n",
        "    y_true = y_true.reshape(-1)\n",
        "\n",
        "    ##Prediction \n",
        "    y_pred = y_pred.cpu().detach().numpy()\n",
        "    y_pred = y_pred > 0.5\n",
        "    y_pred = y_pred.astype(np.uint8)\n",
        "    y_pred = y_pred.reshape(-1)\n",
        "\n",
        "    score_jaccard = jaccard_score(y_true, y_pred)\n",
        "    score_f1 = f1_score(y_true, y_pred)\n",
        "    score_recall = recall_score(y_true, y_pred)\n",
        "    score_precision = precision_score(y_true, y_pred)\n",
        "    score_acc = accuracy_score(y_true, y_pred)\n",
        "\n",
        "    if type == \"Jaccard\":\n",
        "      return score_jaccard\n",
        "    elif type == \"F1\":\n",
        "      return score_f1\n",
        "    elif type == \"Recall\":\n",
        "      return score_recall\n",
        "    elif type == \"Precision\":\n",
        "      return score_precision\n",
        "    elif type == \"Accuracy\":\n",
        "      return score_acc\n",
        "    else:\n",
        "      return [score_jaccard,score_f1,score_recall,score_precision,score_acc]"
      ],
      "metadata": {
        "id": "CHP7wf0_23N9"
      },
      "execution_count": 24,
      "outputs": []
    },
    {
      "cell_type": "code",
      "source": [
        "##Specify the training function\n",
        "\n",
        "def train(model, loader, optimizer, loss_fn, device):\n",
        "  epoch_loss = 0.0\n",
        "  model.train()\n",
        "  for x,y in tqdm(loader):\n",
        "    x = x.to(device, dtype=torch.float32)\n",
        "    y = y.to(device, dtype=torch.float32)\n",
        "\n",
        "    #Optimizer put to zero grad\n",
        "    optimizer.zero_grad()\n",
        "    #Making a prediction\n",
        "    y_pred = model(x)\n",
        "    #Calculating loss\n",
        "    loss = loss_fn(y_pred, y)\n",
        "    #Backward step\n",
        "    loss.backward()\n",
        "    #Optimizer step\n",
        "    optimizer.step()\n",
        "    #Getting the loss for that epoch\n",
        "    epoch_loss+=loss.item()\n",
        "    \n",
        "\n",
        "  #Calculating mean loss\n",
        "  epoch_loss = epoch_loss/len(loader)\n",
        "\n",
        "  return epoch_loss"
      ],
      "metadata": {
        "id": "Ad4jPzt6ACkY"
      },
      "execution_count": 25,
      "outputs": []
    },
    {
      "cell_type": "code",
      "source": [
        "##Specify the evaluate function\n",
        "def evaluate(model, loader, loss_fn, device):\n",
        "  epoch_loss = 0.0\n",
        "  model.eval()\n",
        "  with torch.no_grad():\n",
        "    for x,y in tqdm(loader):\n",
        "      x = x.to(device, dtype=torch.float32)\n",
        "      y = y.to(device, dtype=torch.float32)\n",
        "\n",
        "      y_pred = model(x)\n",
        "      loss = loss_fn(y_pred,y)\n",
        "\n",
        "      epoch_loss+=loss.item()\n",
        "\n",
        "  #Calculating mean loss\n",
        "  epoch_loss = epoch_loss/len(loader)\n",
        "  return epoch_loss"
      ],
      "metadata": {
        "id": "QP8uT9RJCTPv"
      },
      "execution_count": 26,
      "outputs": []
    },
    {
      "cell_type": "code",
      "source": [
        "##Training the model\n",
        "best_valid_loss = float(\"inf\")\n",
        "loss_store = []\n",
        "val_loss_store = []\n",
        "epoch_count = []\n",
        "\n",
        "for epoch in range(num_epochs):\n",
        "  start_time = time.time()\n",
        "  train_loss = train(model, train_loader, optimizer, loss_fn, device)\n",
        "  loss_store.append(train_loss)\n",
        "  valid_loss = evaluate(model, valid_loader, loss_fn, device)\n",
        "  val_loss_store.append(valid_loss)\n",
        "\n",
        "  #Saving the model\n",
        "  if valid_loss < best_valid_loss:\n",
        "    data_str = f\"Valid loss improved from {best_valid_loss:2.4f} to {valid_loss:4f}\"\n",
        "    print(data_str)\n",
        "\n",
        "    best_valid_loss = valid_loss\n",
        "    torch.save(model.state_dict(), checkpoint_path)\n",
        "\n",
        "  end_time = time.time()\n",
        "  epoch_mins, epoch_secs = epoch_time(start_time, end_time)\n",
        "\n",
        "  #Storing values\n",
        "  epoch_count.append(epoch)\n",
        "\n",
        "\n",
        "  data_str = f'Epoch: {epoch+1:02} | Epoch Time: {epoch_mins}m {epoch_secs}s\\n'\n",
        "  data_str += f'\\tTrain Loss: {train_loss:.3f}\\n'\n",
        "  data_str += f'\\t Val. Loss: {valid_loss:.3f}\\n'\n",
        "  print(data_str)"
      ],
      "metadata": {
        "colab": {
          "base_uri": "https://localhost:8080/"
        },
        "id": "8H_qe5u1_c0o",
        "outputId": "a4b4017e-1c78-4f6d-8a04-1e08b78d8269"
      },
      "execution_count": 27,
      "outputs": [
        {
          "output_type": "stream",
          "name": "stderr",
          "text": [
            "100%|██████████| 10/10 [00:09<00:00,  1.09it/s]\n",
            "100%|██████████| 10/10 [00:00<00:00, 20.77it/s]\n"
          ]
        },
        {
          "output_type": "stream",
          "name": "stdout",
          "text": [
            "Valid loss improved from inf to 1.450095\n",
            "Epoch: 01 | Epoch Time: 0m 9s\n",
            "\tTrain Loss: 1.261\n",
            "\t Val. Loss: 1.450\n",
            "\n"
          ]
        },
        {
          "output_type": "stream",
          "name": "stderr",
          "text": [
            "100%|██████████| 10/10 [00:00<00:00, 10.88it/s]\n",
            "100%|██████████| 10/10 [00:00<00:00, 20.69it/s]\n"
          ]
        },
        {
          "output_type": "stream",
          "name": "stdout",
          "text": [
            "Valid loss improved from 1.4501 to 1.382917\n",
            "Epoch: 02 | Epoch Time: 0m 1s\n",
            "\tTrain Loss: 1.061\n",
            "\t Val. Loss: 1.383\n",
            "\n"
          ]
        },
        {
          "output_type": "stream",
          "name": "stderr",
          "text": [
            "100%|██████████| 10/10 [00:00<00:00, 10.92it/s]\n",
            "100%|██████████| 10/10 [00:00<00:00, 20.95it/s]\n"
          ]
        },
        {
          "output_type": "stream",
          "name": "stdout",
          "text": [
            "Valid loss improved from 1.3829 to 1.358728\n",
            "Epoch: 03 | Epoch Time: 0m 1s\n",
            "\tTrain Loss: 0.986\n",
            "\t Val. Loss: 1.359\n",
            "\n"
          ]
        },
        {
          "output_type": "stream",
          "name": "stderr",
          "text": [
            "100%|██████████| 10/10 [00:00<00:00, 11.01it/s]\n",
            "100%|██████████| 10/10 [00:00<00:00, 20.34it/s]\n"
          ]
        },
        {
          "output_type": "stream",
          "name": "stdout",
          "text": [
            "Valid loss improved from 1.3587 to 1.227024\n",
            "Epoch: 04 | Epoch Time: 0m 1s\n",
            "\tTrain Loss: 0.940\n",
            "\t Val. Loss: 1.227\n",
            "\n"
          ]
        },
        {
          "output_type": "stream",
          "name": "stderr",
          "text": [
            "100%|██████████| 10/10 [00:00<00:00, 10.99it/s]\n",
            "100%|██████████| 10/10 [00:00<00:00, 20.30it/s]\n"
          ]
        },
        {
          "output_type": "stream",
          "name": "stdout",
          "text": [
            "Valid loss improved from 1.2270 to 1.094360\n",
            "Epoch: 05 | Epoch Time: 0m 1s\n",
            "\tTrain Loss: 0.910\n",
            "\t Val. Loss: 1.094\n",
            "\n"
          ]
        },
        {
          "output_type": "stream",
          "name": "stderr",
          "text": [
            "100%|██████████| 10/10 [00:00<00:00, 10.98it/s]\n",
            "100%|██████████| 10/10 [00:00<00:00, 20.65it/s]\n"
          ]
        },
        {
          "output_type": "stream",
          "name": "stdout",
          "text": [
            "Valid loss improved from 1.0944 to 0.991882\n",
            "Epoch: 06 | Epoch Time: 0m 1s\n",
            "\tTrain Loss: 0.876\n",
            "\t Val. Loss: 0.992\n",
            "\n"
          ]
        },
        {
          "output_type": "stream",
          "name": "stderr",
          "text": [
            "100%|██████████| 10/10 [00:00<00:00, 10.95it/s]\n",
            "100%|██████████| 10/10 [00:00<00:00, 20.68it/s]\n"
          ]
        },
        {
          "output_type": "stream",
          "name": "stdout",
          "text": [
            "Valid loss improved from 0.9919 to 0.891767\n",
            "Epoch: 07 | Epoch Time: 0m 1s\n",
            "\tTrain Loss: 0.845\n",
            "\t Val. Loss: 0.892\n",
            "\n"
          ]
        },
        {
          "output_type": "stream",
          "name": "stderr",
          "text": [
            "100%|██████████| 10/10 [00:00<00:00, 10.97it/s]\n",
            "100%|██████████| 10/10 [00:00<00:00, 20.43it/s]\n"
          ]
        },
        {
          "output_type": "stream",
          "name": "stdout",
          "text": [
            "Valid loss improved from 0.8918 to 0.862173\n",
            "Epoch: 08 | Epoch Time: 0m 1s\n",
            "\tTrain Loss: 0.820\n",
            "\t Val. Loss: 0.862\n",
            "\n"
          ]
        },
        {
          "output_type": "stream",
          "name": "stderr",
          "text": [
            "100%|██████████| 10/10 [00:00<00:00, 10.74it/s]\n",
            "100%|██████████| 10/10 [00:00<00:00, 20.61it/s]\n"
          ]
        },
        {
          "output_type": "stream",
          "name": "stdout",
          "text": [
            "Valid loss improved from 0.8622 to 0.823082\n",
            "Epoch: 09 | Epoch Time: 0m 1s\n",
            "\tTrain Loss: 0.793\n",
            "\t Val. Loss: 0.823\n",
            "\n"
          ]
        },
        {
          "output_type": "stream",
          "name": "stderr",
          "text": [
            "100%|██████████| 10/10 [00:00<00:00, 11.02it/s]\n",
            "100%|██████████| 10/10 [00:00<00:00, 20.61it/s]\n"
          ]
        },
        {
          "output_type": "stream",
          "name": "stdout",
          "text": [
            "Valid loss improved from 0.8231 to 0.797696\n",
            "Epoch: 10 | Epoch Time: 0m 1s\n",
            "\tTrain Loss: 0.765\n",
            "\t Val. Loss: 0.798\n",
            "\n"
          ]
        },
        {
          "output_type": "stream",
          "name": "stderr",
          "text": [
            "100%|██████████| 10/10 [00:00<00:00, 10.96it/s]\n",
            "100%|██████████| 10/10 [00:00<00:00, 20.65it/s]\n"
          ]
        },
        {
          "output_type": "stream",
          "name": "stdout",
          "text": [
            "Valid loss improved from 0.7977 to 0.750430\n",
            "Epoch: 11 | Epoch Time: 0m 1s\n",
            "\tTrain Loss: 0.743\n",
            "\t Val. Loss: 0.750\n",
            "\n"
          ]
        },
        {
          "output_type": "stream",
          "name": "stderr",
          "text": [
            "100%|██████████| 10/10 [00:00<00:00, 10.96it/s]\n",
            "100%|██████████| 10/10 [00:00<00:00, 20.61it/s]\n"
          ]
        },
        {
          "output_type": "stream",
          "name": "stdout",
          "text": [
            "Epoch: 12 | Epoch Time: 0m 1s\n",
            "\tTrain Loss: 0.719\n",
            "\t Val. Loss: 0.755\n",
            "\n"
          ]
        },
        {
          "output_type": "stream",
          "name": "stderr",
          "text": [
            "100%|██████████| 10/10 [00:00<00:00, 11.03it/s]\n",
            "100%|██████████| 10/10 [00:00<00:00, 19.52it/s]\n"
          ]
        },
        {
          "output_type": "stream",
          "name": "stdout",
          "text": [
            "Valid loss improved from 0.7504 to 0.694604\n",
            "Epoch: 13 | Epoch Time: 0m 1s\n",
            "\tTrain Loss: 0.697\n",
            "\t Val. Loss: 0.695\n",
            "\n"
          ]
        },
        {
          "output_type": "stream",
          "name": "stderr",
          "text": [
            "100%|██████████| 10/10 [00:00<00:00, 10.95it/s]\n",
            "100%|██████████| 10/10 [00:00<00:00, 20.90it/s]\n"
          ]
        },
        {
          "output_type": "stream",
          "name": "stdout",
          "text": [
            "Valid loss improved from 0.6946 to 0.675105\n",
            "Epoch: 14 | Epoch Time: 0m 1s\n",
            "\tTrain Loss: 0.670\n",
            "\t Val. Loss: 0.675\n",
            "\n"
          ]
        },
        {
          "output_type": "stream",
          "name": "stderr",
          "text": [
            "100%|██████████| 10/10 [00:00<00:00, 10.92it/s]\n",
            "100%|██████████| 10/10 [00:00<00:00, 20.69it/s]\n"
          ]
        },
        {
          "output_type": "stream",
          "name": "stdout",
          "text": [
            "Valid loss improved from 0.6751 to 0.652175\n",
            "Epoch: 15 | Epoch Time: 0m 1s\n",
            "\tTrain Loss: 0.647\n",
            "\t Val. Loss: 0.652\n",
            "\n"
          ]
        },
        {
          "output_type": "stream",
          "name": "stderr",
          "text": [
            "100%|██████████| 10/10 [00:00<00:00, 10.83it/s]\n",
            "100%|██████████| 10/10 [00:00<00:00, 20.39it/s]\n"
          ]
        },
        {
          "output_type": "stream",
          "name": "stdout",
          "text": [
            "Valid loss improved from 0.6522 to 0.627830\n",
            "Epoch: 16 | Epoch Time: 0m 1s\n",
            "\tTrain Loss: 0.630\n",
            "\t Val. Loss: 0.628\n",
            "\n"
          ]
        },
        {
          "output_type": "stream",
          "name": "stderr",
          "text": [
            "100%|██████████| 10/10 [00:00<00:00, 10.88it/s]\n",
            "100%|██████████| 10/10 [00:00<00:00, 20.59it/s]\n"
          ]
        },
        {
          "output_type": "stream",
          "name": "stdout",
          "text": [
            "Epoch: 17 | Epoch Time: 0m 1s\n",
            "\tTrain Loss: 0.607\n",
            "\t Val. Loss: 0.637\n",
            "\n"
          ]
        },
        {
          "output_type": "stream",
          "name": "stderr",
          "text": [
            "100%|██████████| 10/10 [00:00<00:00, 10.99it/s]\n",
            "100%|██████████| 10/10 [00:00<00:00, 20.71it/s]\n"
          ]
        },
        {
          "output_type": "stream",
          "name": "stdout",
          "text": [
            "Valid loss improved from 0.6278 to 0.608934\n",
            "Epoch: 18 | Epoch Time: 0m 1s\n",
            "\tTrain Loss: 0.593\n",
            "\t Val. Loss: 0.609\n",
            "\n"
          ]
        },
        {
          "output_type": "stream",
          "name": "stderr",
          "text": [
            "100%|██████████| 10/10 [00:00<00:00, 10.95it/s]\n",
            "100%|██████████| 10/10 [00:00<00:00, 20.73it/s]\n"
          ]
        },
        {
          "output_type": "stream",
          "name": "stdout",
          "text": [
            "Valid loss improved from 0.6089 to 0.576435\n",
            "Epoch: 19 | Epoch Time: 0m 1s\n",
            "\tTrain Loss: 0.574\n",
            "\t Val. Loss: 0.576\n",
            "\n"
          ]
        },
        {
          "output_type": "stream",
          "name": "stderr",
          "text": [
            "100%|██████████| 10/10 [00:00<00:00, 10.99it/s]\n",
            "100%|██████████| 10/10 [00:00<00:00, 20.20it/s]\n"
          ]
        },
        {
          "output_type": "stream",
          "name": "stdout",
          "text": [
            "Valid loss improved from 0.5764 to 0.568325\n",
            "Epoch: 20 | Epoch Time: 0m 1s\n",
            "\tTrain Loss: 0.562\n",
            "\t Val. Loss: 0.568\n",
            "\n"
          ]
        },
        {
          "output_type": "stream",
          "name": "stderr",
          "text": [
            "100%|██████████| 10/10 [00:00<00:00, 11.03it/s]\n",
            "100%|██████████| 10/10 [00:00<00:00, 20.15it/s]\n"
          ]
        },
        {
          "output_type": "stream",
          "name": "stdout",
          "text": [
            "Valid loss improved from 0.5683 to 0.559049\n",
            "Epoch: 21 | Epoch Time: 0m 2s\n",
            "\tTrain Loss: 0.545\n",
            "\t Val. Loss: 0.559\n",
            "\n"
          ]
        },
        {
          "output_type": "stream",
          "name": "stderr",
          "text": [
            "100%|██████████| 10/10 [00:00<00:00, 11.03it/s]\n",
            "100%|██████████| 10/10 [00:00<00:00, 20.18it/s]\n"
          ]
        },
        {
          "output_type": "stream",
          "name": "stdout",
          "text": [
            "Epoch: 22 | Epoch Time: 0m 1s\n",
            "\tTrain Loss: 0.536\n",
            "\t Val. Loss: 0.571\n",
            "\n"
          ]
        },
        {
          "output_type": "stream",
          "name": "stderr",
          "text": [
            "100%|██████████| 10/10 [00:00<00:00, 10.88it/s]\n",
            "100%|██████████| 10/10 [00:00<00:00, 20.01it/s]\n"
          ]
        },
        {
          "output_type": "stream",
          "name": "stdout",
          "text": [
            "Epoch: 23 | Epoch Time: 0m 1s\n",
            "\tTrain Loss: 0.527\n",
            "\t Val. Loss: 0.582\n",
            "\n"
          ]
        },
        {
          "output_type": "stream",
          "name": "stderr",
          "text": [
            "100%|██████████| 10/10 [00:00<00:00, 10.95it/s]\n",
            "100%|██████████| 10/10 [00:00<00:00, 20.45it/s]\n"
          ]
        },
        {
          "output_type": "stream",
          "name": "stdout",
          "text": [
            "Valid loss improved from 0.5590 to 0.519079\n",
            "Epoch: 24 | Epoch Time: 0m 1s\n",
            "\tTrain Loss: 0.511\n",
            "\t Val. Loss: 0.519\n",
            "\n"
          ]
        },
        {
          "output_type": "stream",
          "name": "stderr",
          "text": [
            "100%|██████████| 10/10 [00:00<00:00, 10.99it/s]\n",
            "100%|██████████| 10/10 [00:00<00:00, 20.63it/s]\n"
          ]
        },
        {
          "output_type": "stream",
          "name": "stdout",
          "text": [
            "Valid loss improved from 0.5191 to 0.495737\n",
            "Epoch: 25 | Epoch Time: 0m 1s\n",
            "\tTrain Loss: 0.496\n",
            "\t Val. Loss: 0.496\n",
            "\n"
          ]
        },
        {
          "output_type": "stream",
          "name": "stderr",
          "text": [
            "100%|██████████| 10/10 [00:00<00:00, 11.01it/s]\n",
            "100%|██████████| 10/10 [00:00<00:00, 20.59it/s]\n"
          ]
        },
        {
          "output_type": "stream",
          "name": "stdout",
          "text": [
            "Valid loss improved from 0.4957 to 0.489895\n",
            "Epoch: 26 | Epoch Time: 0m 1s\n",
            "\tTrain Loss: 0.480\n",
            "\t Val. Loss: 0.490\n",
            "\n"
          ]
        },
        {
          "output_type": "stream",
          "name": "stderr",
          "text": [
            "100%|██████████| 10/10 [00:00<00:00, 10.96it/s]\n",
            "100%|██████████| 10/10 [00:00<00:00, 20.79it/s]\n"
          ]
        },
        {
          "output_type": "stream",
          "name": "stdout",
          "text": [
            "Epoch: 27 | Epoch Time: 0m 1s\n",
            "\tTrain Loss: 0.473\n",
            "\t Val. Loss: 0.527\n",
            "\n"
          ]
        },
        {
          "output_type": "stream",
          "name": "stderr",
          "text": [
            "100%|██████████| 10/10 [00:00<00:00, 11.01it/s]\n",
            "100%|██████████| 10/10 [00:00<00:00, 20.86it/s]\n"
          ]
        },
        {
          "output_type": "stream",
          "name": "stdout",
          "text": [
            "Valid loss improved from 0.4899 to 0.479726\n",
            "Epoch: 28 | Epoch Time: 0m 2s\n",
            "\tTrain Loss: 0.462\n",
            "\t Val. Loss: 0.480\n",
            "\n"
          ]
        },
        {
          "output_type": "stream",
          "name": "stderr",
          "text": [
            "100%|██████████| 10/10 [00:00<00:00, 10.92it/s]\n",
            "100%|██████████| 10/10 [00:00<00:00, 20.78it/s]\n"
          ]
        },
        {
          "output_type": "stream",
          "name": "stdout",
          "text": [
            "Valid loss improved from 0.4797 to 0.465990\n",
            "Epoch: 29 | Epoch Time: 0m 1s\n",
            "\tTrain Loss: 0.461\n",
            "\t Val. Loss: 0.466\n",
            "\n"
          ]
        },
        {
          "output_type": "stream",
          "name": "stderr",
          "text": [
            "100%|██████████| 10/10 [00:00<00:00, 10.92it/s]\n",
            "100%|██████████| 10/10 [00:00<00:00, 20.72it/s]\n"
          ]
        },
        {
          "output_type": "stream",
          "name": "stdout",
          "text": [
            "Valid loss improved from 0.4660 to 0.455133\n",
            "Epoch: 30 | Epoch Time: 0m 1s\n",
            "\tTrain Loss: 0.443\n",
            "\t Val. Loss: 0.455\n",
            "\n"
          ]
        },
        {
          "output_type": "stream",
          "name": "stderr",
          "text": [
            "100%|██████████| 10/10 [00:00<00:00, 10.92it/s]\n",
            "100%|██████████| 10/10 [00:00<00:00, 20.33it/s]\n"
          ]
        },
        {
          "output_type": "stream",
          "name": "stdout",
          "text": [
            "Valid loss improved from 0.4551 to 0.449824\n",
            "Epoch: 31 | Epoch Time: 0m 1s\n",
            "\tTrain Loss: 0.435\n",
            "\t Val. Loss: 0.450\n",
            "\n"
          ]
        },
        {
          "output_type": "stream",
          "name": "stderr",
          "text": [
            "100%|██████████| 10/10 [00:00<00:00, 10.82it/s]\n",
            "100%|██████████| 10/10 [00:00<00:00, 20.47it/s]\n"
          ]
        },
        {
          "output_type": "stream",
          "name": "stdout",
          "text": [
            "Valid loss improved from 0.4498 to 0.446902\n",
            "Epoch: 32 | Epoch Time: 0m 1s\n",
            "\tTrain Loss: 0.423\n",
            "\t Val. Loss: 0.447\n",
            "\n"
          ]
        },
        {
          "output_type": "stream",
          "name": "stderr",
          "text": [
            "100%|██████████| 10/10 [00:00<00:00, 10.97it/s]\n",
            "100%|██████████| 10/10 [00:00<00:00, 20.51it/s]\n"
          ]
        },
        {
          "output_type": "stream",
          "name": "stdout",
          "text": [
            "Valid loss improved from 0.4469 to 0.445533\n",
            "Epoch: 33 | Epoch Time: 0m 1s\n",
            "\tTrain Loss: 0.416\n",
            "\t Val. Loss: 0.446\n",
            "\n"
          ]
        },
        {
          "output_type": "stream",
          "name": "stderr",
          "text": [
            "100%|██████████| 10/10 [00:00<00:00, 10.99it/s]\n",
            "100%|██████████| 10/10 [00:00<00:00, 20.18it/s]\n"
          ]
        },
        {
          "output_type": "stream",
          "name": "stdout",
          "text": [
            "Valid loss improved from 0.4455 to 0.424999\n",
            "Epoch: 34 | Epoch Time: 0m 2s\n",
            "\tTrain Loss: 0.411\n",
            "\t Val. Loss: 0.425\n",
            "\n"
          ]
        },
        {
          "output_type": "stream",
          "name": "stderr",
          "text": [
            "100%|██████████| 10/10 [00:00<00:00, 10.91it/s]\n",
            "100%|██████████| 10/10 [00:00<00:00, 20.52it/s]\n"
          ]
        },
        {
          "output_type": "stream",
          "name": "stdout",
          "text": [
            "Epoch: 35 | Epoch Time: 0m 1s\n",
            "\tTrain Loss: 0.407\n",
            "\t Val. Loss: 0.440\n",
            "\n"
          ]
        },
        {
          "output_type": "stream",
          "name": "stderr",
          "text": [
            "100%|██████████| 10/10 [00:00<00:00, 10.87it/s]\n",
            "100%|██████████| 10/10 [00:00<00:00, 20.71it/s]\n"
          ]
        },
        {
          "output_type": "stream",
          "name": "stdout",
          "text": [
            "Epoch: 36 | Epoch Time: 0m 1s\n",
            "\tTrain Loss: 0.404\n",
            "\t Val. Loss: 0.433\n",
            "\n"
          ]
        },
        {
          "output_type": "stream",
          "name": "stderr",
          "text": [
            "100%|██████████| 10/10 [00:00<00:00, 10.96it/s]\n",
            "100%|██████████| 10/10 [00:00<00:00, 20.70it/s]\n"
          ]
        },
        {
          "output_type": "stream",
          "name": "stdout",
          "text": [
            "Epoch: 37 | Epoch Time: 0m 1s\n",
            "\tTrain Loss: 0.400\n",
            "\t Val. Loss: 0.437\n",
            "\n"
          ]
        },
        {
          "output_type": "stream",
          "name": "stderr",
          "text": [
            "100%|██████████| 10/10 [00:00<00:00, 10.84it/s]\n",
            "100%|██████████| 10/10 [00:00<00:00, 20.53it/s]\n"
          ]
        },
        {
          "output_type": "stream",
          "name": "stdout",
          "text": [
            "Epoch: 38 | Epoch Time: 0m 1s\n",
            "\tTrain Loss: 0.396\n",
            "\t Val. Loss: 0.431\n",
            "\n"
          ]
        },
        {
          "output_type": "stream",
          "name": "stderr",
          "text": [
            "100%|██████████| 10/10 [00:00<00:00, 10.91it/s]\n",
            "100%|██████████| 10/10 [00:00<00:00, 20.73it/s]\n"
          ]
        },
        {
          "output_type": "stream",
          "name": "stdout",
          "text": [
            "Valid loss improved from 0.4250 to 0.412932\n",
            "Epoch: 39 | Epoch Time: 0m 1s\n",
            "\tTrain Loss: 0.389\n",
            "\t Val. Loss: 0.413\n",
            "\n"
          ]
        },
        {
          "output_type": "stream",
          "name": "stderr",
          "text": [
            "100%|██████████| 10/10 [00:00<00:00, 11.01it/s]\n",
            "100%|██████████| 10/10 [00:00<00:00, 20.59it/s]\n"
          ]
        },
        {
          "output_type": "stream",
          "name": "stdout",
          "text": [
            "Valid loss improved from 0.4129 to 0.408260\n",
            "Epoch: 40 | Epoch Time: 0m 1s\n",
            "\tTrain Loss: 0.384\n",
            "\t Val. Loss: 0.408\n",
            "\n"
          ]
        },
        {
          "output_type": "stream",
          "name": "stderr",
          "text": [
            "100%|██████████| 10/10 [00:00<00:00, 11.00it/s]\n",
            "100%|██████████| 10/10 [00:00<00:00, 20.44it/s]\n"
          ]
        },
        {
          "output_type": "stream",
          "name": "stdout",
          "text": [
            "Epoch: 41 | Epoch Time: 0m 1s\n",
            "\tTrain Loss: 0.384\n",
            "\t Val. Loss: 0.428\n",
            "\n"
          ]
        },
        {
          "output_type": "stream",
          "name": "stderr",
          "text": [
            "100%|██████████| 10/10 [00:00<00:00, 10.88it/s]\n",
            "100%|██████████| 10/10 [00:00<00:00, 20.33it/s]\n"
          ]
        },
        {
          "output_type": "stream",
          "name": "stdout",
          "text": [
            "Epoch: 42 | Epoch Time: 0m 1s\n",
            "\tTrain Loss: 0.385\n",
            "\t Val. Loss: 0.411\n",
            "\n"
          ]
        },
        {
          "output_type": "stream",
          "name": "stderr",
          "text": [
            "100%|██████████| 10/10 [00:00<00:00, 10.94it/s]\n",
            "100%|██████████| 10/10 [00:00<00:00, 20.50it/s]\n"
          ]
        },
        {
          "output_type": "stream",
          "name": "stdout",
          "text": [
            "Valid loss improved from 0.4083 to 0.402336\n",
            "Epoch: 43 | Epoch Time: 0m 1s\n",
            "\tTrain Loss: 0.374\n",
            "\t Val. Loss: 0.402\n",
            "\n"
          ]
        },
        {
          "output_type": "stream",
          "name": "stderr",
          "text": [
            "100%|██████████| 10/10 [00:00<00:00, 10.94it/s]\n",
            "100%|██████████| 10/10 [00:00<00:00, 20.67it/s]\n"
          ]
        },
        {
          "output_type": "stream",
          "name": "stdout",
          "text": [
            "Valid loss improved from 0.4023 to 0.400515\n",
            "Epoch: 44 | Epoch Time: 0m 1s\n",
            "\tTrain Loss: 0.368\n",
            "\t Val. Loss: 0.401\n",
            "\n"
          ]
        },
        {
          "output_type": "stream",
          "name": "stderr",
          "text": [
            "100%|██████████| 10/10 [00:00<00:00, 10.97it/s]\n",
            "100%|██████████| 10/10 [00:00<00:00, 20.53it/s]\n"
          ]
        },
        {
          "output_type": "stream",
          "name": "stdout",
          "text": [
            "Epoch: 45 | Epoch Time: 0m 1s\n",
            "\tTrain Loss: 0.364\n",
            "\t Val. Loss: 0.404\n",
            "\n"
          ]
        },
        {
          "output_type": "stream",
          "name": "stderr",
          "text": [
            "100%|██████████| 10/10 [00:00<00:00, 10.92it/s]\n",
            "100%|██████████| 10/10 [00:00<00:00, 20.10it/s]\n"
          ]
        },
        {
          "output_type": "stream",
          "name": "stdout",
          "text": [
            "Valid loss improved from 0.4005 to 0.391170\n",
            "Epoch: 46 | Epoch Time: 0m 1s\n",
            "\tTrain Loss: 0.353\n",
            "\t Val. Loss: 0.391\n",
            "\n"
          ]
        },
        {
          "output_type": "stream",
          "name": "stderr",
          "text": [
            "100%|██████████| 10/10 [00:00<00:00, 10.86it/s]\n",
            "100%|██████████| 10/10 [00:00<00:00, 20.53it/s]\n"
          ]
        },
        {
          "output_type": "stream",
          "name": "stdout",
          "text": [
            "Valid loss improved from 0.3912 to 0.390462\n",
            "Epoch: 47 | Epoch Time: 0m 1s\n",
            "\tTrain Loss: 0.349\n",
            "\t Val. Loss: 0.390\n",
            "\n"
          ]
        },
        {
          "output_type": "stream",
          "name": "stderr",
          "text": [
            "100%|██████████| 10/10 [00:00<00:00, 10.99it/s]\n",
            "100%|██████████| 10/10 [00:00<00:00, 19.96it/s]\n"
          ]
        },
        {
          "output_type": "stream",
          "name": "stdout",
          "text": [
            "Epoch: 48 | Epoch Time: 0m 1s\n",
            "\tTrain Loss: 0.346\n",
            "\t Val. Loss: 0.393\n",
            "\n"
          ]
        },
        {
          "output_type": "stream",
          "name": "stderr",
          "text": [
            "100%|██████████| 10/10 [00:00<00:00, 10.91it/s]\n",
            "100%|██████████| 10/10 [00:00<00:00, 20.73it/s]\n"
          ]
        },
        {
          "output_type": "stream",
          "name": "stdout",
          "text": [
            "Epoch: 49 | Epoch Time: 0m 1s\n",
            "\tTrain Loss: 0.343\n",
            "\t Val. Loss: 0.391\n",
            "\n"
          ]
        },
        {
          "output_type": "stream",
          "name": "stderr",
          "text": [
            "100%|██████████| 10/10 [00:00<00:00, 10.98it/s]\n",
            "100%|██████████| 10/10 [00:00<00:00, 20.75it/s]\n"
          ]
        },
        {
          "output_type": "stream",
          "name": "stdout",
          "text": [
            "Valid loss improved from 0.3905 to 0.388550\n",
            "Epoch: 50 | Epoch Time: 0m 1s\n",
            "\tTrain Loss: 0.339\n",
            "\t Val. Loss: 0.389\n",
            "\n"
          ]
        }
      ]
    },
    {
      "cell_type": "markdown",
      "source": [
        "**CHECKING ACCURACY**"
      ],
      "metadata": {
        "id": "4qHYheWYHfOz"
      }
    },
    {
      "cell_type": "code",
      "source": [
        "def mask_parse(mask):\n",
        "    mask = np.expand_dims(mask, axis=-1)    ## (512, 512, 1)\n",
        "    mask = np.concatenate([mask, mask, mask], axis=-1)  ## (512, 512, 3)\n",
        "    return mask\n",
        "\n",
        "if __name__ == \"__main__\":\n",
        "\n",
        "    jaccard_store = []\n",
        "    precision_store = []\n",
        "    f1_store = []\n",
        "    recall_store = []\n",
        "    acc_store = []\n",
        "    test_epoch_count = []\n",
        "    ##Seeding \n",
        "    seeding(42)\n",
        "\n",
        "    ##Folders\n",
        "    create_dir(\"results\")\n",
        "\n",
        "    ##Load dataset \n",
        "    test_x = sorted(glob(\"/content/new_data/test/image/*\"))\n",
        "    test_y = sorted(glob(\"/content/new_data/test/mask/*\"))\n",
        "\n",
        "    ##Hyperparameters \n",
        "    H = 512\n",
        "    W = 512\n",
        "    size = (W, H)\n",
        "    checkpoint_path = \"files/checkpoint.pth\"\n",
        "\n",
        "    ##Load the checkpoint \n",
        "    device = torch.device('cuda' if torch.cuda.is_available() else 'cpu')\n",
        "\n",
        "    model = build_unet()\n",
        "    model = model.to(device)\n",
        "    model.load_state_dict(torch.load(checkpoint_path, map_location=device))\n",
        "    model.eval()\n",
        "\n",
        "    metrics_score = [0.0, 0.0, 0.0, 0.0, 0.0]\n",
        "    time_taken = []\n",
        "\n",
        "    for i, (x, y) in tqdm(enumerate(zip(test_x, test_y)), total=len(test_x)):\n",
        "        ##Extract the name \n",
        "        name = x.split(\"/\")[-1].split(\".\")[0]\n",
        "\n",
        "        ##Reading image \n",
        "        image = cv2.imread(x, cv2.IMREAD_COLOR) ## (512, 512, 3)\n",
        "        ## image = cv2.resize(image, size)\n",
        "        x = np.transpose(image, (2, 0, 1))      ## (3, 512, 512)\n",
        "        x = x/255.0\n",
        "        x = np.expand_dims(x, axis=0)           ## (1, 3, 512, 512)\n",
        "        x = x.astype(np.float32)\n",
        "        x = torch.from_numpy(x)\n",
        "        x = x.to(device)\n",
        "\n",
        "        ##Reading mask \n",
        "        mask = cv2.imread(y, cv2.IMREAD_GRAYSCALE)  ## (512, 512)\n",
        "        ## mask = cv2.resize(mask, size)\n",
        "        y = np.expand_dims(mask, axis=0)            ## (1, 512, 512)\n",
        "        y = y/255.0\n",
        "        y = np.expand_dims(y, axis=0)               ## (1, 1, 512, 512)\n",
        "        y = y.astype(np.float32)\n",
        "        y = torch.from_numpy(y)\n",
        "        y = y.to(device)\n",
        "\n",
        "        with torch.no_grad():\n",
        "            ##Prediction and Calculating FPS \n",
        "            start_time = time.time()\n",
        "            pred_y = model(x)\n",
        "            pred_y = torch.sigmoid(pred_y)\n",
        "            total_time = time.time() - start_time\n",
        "            time_taken.append(total_time)\n",
        "\n",
        "\n",
        "            score = calculate_metrics(y, pred_y, type=\"All\")\n",
        "            metrics_score = list(map(add, metrics_score, score))\n",
        "            pred_y = pred_y[0].cpu().numpy()        ## (1, 512, 512)\n",
        "            pred_y = np.squeeze(pred_y, axis=0)     ## (512, 512)\n",
        "            pred_y = pred_y > 0.5\n",
        "            pred_y = np.array(pred_y, dtype=np.uint8)\n",
        "\n",
        "        ##Saving masks \n",
        "        ori_mask = mask_parse(mask)\n",
        "        pred_y = mask_parse(pred_y)\n",
        "        line = np.ones((size[1], 10, 3)) * 128\n",
        "\n",
        "        cat_images = np.concatenate(\n",
        "            [image, line, ori_mask, line, pred_y * 255], axis=1\n",
        "        )\n",
        "        cv2.imwrite(f\"results/{name}.png\", cat_images)\n",
        "\n",
        "        #Calculate the metrics for each batch\n",
        "        jaccard = score[0]\n",
        "        precision = score[3]\n",
        "        recall= score[2]\n",
        "        f1 = score[1]\n",
        "        acc = score[4]\n",
        "\n",
        "        #Store in the list\n",
        "        jaccard_store.append(jaccard)\n",
        "        precision_store.append(precision)\n",
        "        f1_store.append(f1)\n",
        "        recall_store.append(f1)\n",
        "        acc_store.append(f1)\n",
        "        test_epoch_count.append(i)\n",
        "\n",
        "    jaccard = metrics_score[0]/len(test_x)\n",
        "    f1 = metrics_score[1]/len(test_x)\n",
        "    recall = metrics_score[2]/len(test_x)\n",
        "    precision = metrics_score[3]/len(test_x)\n",
        "    acc = metrics_score[4]/len(test_x)\n",
        "    print(f\"Jaccard: {jaccard:1.4f} - F1: {f1:1.4f} - Recall: {recall:1.4f} - Precision: {precision:1.4f} - Acc: {acc:1.4f}\")\n",
        "\n",
        "    fps = 1/np.mean(time_taken)\n",
        "    print(\"FPS: \", fps)"
      ],
      "metadata": {
        "id": "IBPnv4zVX8As",
        "colab": {
          "base_uri": "https://localhost:8080/"
        },
        "outputId": "757fc90d-c766-42e6-cc5c-2925c0bddf05"
      },
      "execution_count": 28,
      "outputs": [
        {
          "output_type": "stream",
          "name": "stderr",
          "text": [
            "100%|██████████| 20/20 [00:06<00:00,  2.92it/s]"
          ]
        },
        {
          "output_type": "stream",
          "name": "stdout",
          "text": [
            "Jaccard: 0.6633 - F1: 0.7967 - Recall: 0.7768 - Precision: 0.8257 - Acc: 0.9657\n",
            "FPS:  117.36767362175036\n"
          ]
        },
        {
          "output_type": "stream",
          "name": "stderr",
          "text": [
            "\n"
          ]
        }
      ]
    },
    {
      "cell_type": "code",
      "source": [
        "jaccard_store"
      ],
      "metadata": {
        "id": "Y48mp1WD-k5d",
        "outputId": "b12c9da7-b46f-4208-ec3e-0548217bb9e3",
        "colab": {
          "base_uri": "https://localhost:8080/"
        }
      },
      "execution_count": 29,
      "outputs": [
        {
          "output_type": "execute_result",
          "data": {
            "text/plain": [
              "[0.676065665191175,\n",
              " 0.7230947104730706,\n",
              " 0.5126586817758014,\n",
              " 0.6925835132267388,\n",
              " 0.6555298679991051,\n",
              " 0.6379138483446066,\n",
              " 0.6619366852886406,\n",
              " 0.633553303480242,\n",
              " 0.6410494739955216,\n",
              " 0.6705979478712112,\n",
              " 0.6532771067114573,\n",
              " 0.6735696470410399,\n",
              " 0.6682799702159344,\n",
              " 0.6779026217228464,\n",
              " 0.6551298987230295,\n",
              " 0.7099650604163634,\n",
              " 0.6387040210417247,\n",
              " 0.684115454091241,\n",
              " 0.7206452093577709,\n",
              " 0.679133697691492]"
            ]
          },
          "metadata": {},
          "execution_count": 29
        }
      ]
    },
    {
      "cell_type": "code",
      "source": [
        "recall_store"
      ],
      "metadata": {
        "id": "WKxe-Sy--pt3",
        "outputId": "a21c9546-f72a-47b4-cde1-6f4c9289c703",
        "colab": {
          "base_uri": "https://localhost:8080/"
        }
      },
      "execution_count": 30,
      "outputs": [
        {
          "output_type": "execute_result",
          "data": {
            "text/plain": [
              "[0.8067293295624689,\n",
              " 0.8392976962648178,\n",
              " 0.6778246645488597,\n",
              " 0.8183744055339386,\n",
              " 0.7919275643046985,\n",
              " 0.7789345562824664,\n",
              " 0.7965847208838491,\n",
              " 0.775675090773559,\n",
              " 0.7812676999124658,\n",
              " 0.8028238616307801,\n",
              " 0.7902814404911159,\n",
              " 0.8049496454861582,\n",
              " 0.8011604552555233,\n",
              " 0.8080357142857144,\n",
              " 0.7916356283920402,\n",
              " 0.830385458570121,\n",
              " 0.7795233463035018,\n",
              " 0.8124329628699879,\n",
              " 0.8376453268094134,\n",
              " 0.8089096164589861]"
            ]
          },
          "metadata": {},
          "execution_count": 30
        }
      ]
    },
    {
      "cell_type": "code",
      "source": [
        "import numpy as np\n",
        "import matplotlib.pyplot as plt\n",
        "def plot_items(x,y,xlabel,ylabel,label,title):\n",
        "  plt.plot(x, np.array(y), label=label)\n",
        "  plt.title(title)\n",
        "  plt.ylabel(ylabel)\n",
        "  plt.xlabel(xlabel)\n",
        "  plt.legend()"
      ],
      "metadata": {
        "id": "4s1Hl2kp-CvE"
      },
      "execution_count": 31,
      "outputs": []
    },
    {
      "cell_type": "code",
      "source": [
        "plot_items(np.array(epoch_count), np.array(loss_store),\"Epochs\",\"Loss\",\"Train Loss\",\"Training Loss\")"
      ],
      "metadata": {
        "id": "1r9r2XeiWdUz",
        "colab": {
          "base_uri": "https://localhost:8080/",
          "height": 295
        },
        "outputId": "519d66aa-d320-4eb0-e750-0fa22416f577"
      },
      "execution_count": 32,
      "outputs": [
        {
          "output_type": "display_data",
          "data": {
            "text/plain": [
              "<Figure size 432x288 with 1 Axes>"
            ],
            "image/png": "[encoded data removed]"
          },
          "metadata": {
            "needs_background": "light"
          }
        }
      ]
    },
    {
      "cell_type": "code",
      "source": [
        "plot_items(np.array(epoch_count), np.array(val_loss_store),\"Epochs\",\"Loss\",\"Test Loss\",\"Testing Loss\")"
      ],
      "metadata": {
        "id": "Bo3kZK_QkQiE",
        "colab": {
          "base_uri": "https://localhost:8080/",
          "height": 295
        },
        "outputId": "2721ba29-7daf-42ff-f305-71f447beddda"
      },
      "execution_count": 33,
      "outputs": [
        {
          "output_type": "display_data",
          "data": {
            "text/plain": [
              "<Figure size 432x288 with 1 Axes>"
            ],
            "image/png": "[encoded data removed]"
          },
          "metadata": {
            "needs_background": "light"
          }
        }
      ]
    },
    {
      "cell_type": "code",
      "source": [
        "plt.plot(epoch_count, np.array(loss_store), label=\"Train Loss\")\n",
        "plt.plot(epoch_count, np.array(val_loss_store), label = \"Test Loss\")\n",
        "plt.title(\"Train and test loss curves\")\n",
        "plt.ylabel(\"Loss\")\n",
        "plt.xlabel(\"Epoch\")\n",
        "plt.legend()"
      ],
      "metadata": {
        "colab": {
          "base_uri": "https://localhost:8080/",
          "height": 312
        },
        "id": "ivco7kwX7kBa",
        "outputId": "474ae716-320e-4dcf-8093-141429a42375"
      },
      "execution_count": 34,
      "outputs": [
        {
          "output_type": "execute_result",
          "data": {
            "text/plain": [
              "<matplotlib.legend.Legend at 0x7fe4b9288130>"
            ]
          },
          "metadata": {},
          "execution_count": 34
        },
        {
          "output_type": "display_data",
          "data": {
            "text/plain": [
              "<Figure size 432x288 with 1 Axes>"
            ],
            "image/png": "[encoded data removed]"
          },
          "metadata": {
            "needs_background": "light"
          }
        }
      ]
    },
    {
      "cell_type": "code",
      "source": [
        "np.array(acc_store).shape"
      ],
      "metadata": {
        "colab": {
          "base_uri": "https://localhost:8080/"
        },
        "id": "nAvMcryH8QDZ",
        "outputId": "ce92ca1f-e16f-4bb8-82a9-1484ac2ca467"
      },
      "execution_count": 35,
      "outputs": [
        {
          "output_type": "execute_result",
          "data": {
            "text/plain": [
              "(20,)"
            ]
          },
          "metadata": {},
          "execution_count": 35
        }
      ]
    },
    {
      "cell_type": "code",
      "source": [
        "plot_items(np.array(test_epoch_count), np.array(acc_store),\"Epochs\",\"Accuracy\",\"Test Acc\",\"Testing Accuracy\")"
      ],
      "metadata": {
        "colab": {
          "base_uri": "https://localhost:8080/",
          "height": 295
        },
        "id": "xpx12_lT78xM",
        "outputId": "d566c8f1-321c-4d39-a750-7dd188e1347c"
      },
      "execution_count": 36,
      "outputs": [
        {
          "output_type": "display_data",
          "data": {
            "text/plain": [
              "<Figure size 432x288 with 1 Axes>"
            ],
            "image/png": "[encoded data removed]"
          },
          "metadata": {
            "needs_background": "light"
          }
        }
      ]
    },
    {
      "cell_type": "code",
      "source": [
        "plot_items(np.array(test_epoch_count), np.array(precision_store),\"Epochs\",\"Accuracy\",\"Test precision\",\"Testing Precision\")"
      ],
      "metadata": {
        "colab": {
          "base_uri": "https://localhost:8080/",
          "height": 295
        },
        "id": "SiKsu7Zw8KqY",
        "outputId": "15d538f2-a458-420c-9e24-32a208fbb105"
      },
      "execution_count": 37,
      "outputs": [
        {
          "output_type": "display_data",
          "data": {
            "text/plain": [
              "<Figure size 432x288 with 1 Axes>"
            ],
            "image/png": "[encoded data removed]"
          },
          "metadata": {
            "needs_background": "light"
          }
        }
      ]
    },
    {
      "cell_type": "code",
      "source": [
        "plot_items(np.array(test_epoch_count), np.array(jaccard_store),\"Epochs\",\"Accuracy\",\"Test jaccard\",\"Testing Jaccard\")"
      ],
      "metadata": {
        "colab": {
          "base_uri": "https://localhost:8080/",
          "height": 295
        },
        "id": "fHDMzePb9We_",
        "outputId": "5a7902b0-102d-477f-b317-e488d1889b40"
      },
      "execution_count": 38,
      "outputs": [
        {
          "output_type": "display_data",
          "data": {
            "text/plain": [
              "<Figure size 432x288 with 1 Axes>"
            ],
            "image/png": "[encoded data removed]"
          },
          "metadata": {
            "needs_background": "light"
          }
        }
      ]
    },
    {
      "cell_type": "code",
      "source": [
        "plot_items(np.array(test_epoch_count), np.array(f1_store),\"Epochs\",\"Accuracy\",\"Test F1\",\"Testing F1\")"
      ],
      "metadata": {
        "colab": {
          "base_uri": "https://localhost:8080/",
          "height": 295
        },
        "id": "9ErytsX99YUO",
        "outputId": "8dfc1ef3-f95c-481b-ea75-ac2ec05a6ab3"
      },
      "execution_count": 39,
      "outputs": [
        {
          "output_type": "display_data",
          "data": {
            "text/plain": [
              "<Figure size 432x288 with 1 Axes>"
            ],
            "image/png": "[encoded data removed]"
          },
          "metadata": {
            "needs_background": "light"
          }
        }
      ]
    },
    {
      "cell_type": "code",
      "source": [
        "plot_items(np.array(test_epoch_count), np.array(recall_store),\"Epochs\",\"Recall\",\"Recall\",\"Testing Recall\")"
      ],
      "metadata": {
        "colab": {
          "base_uri": "https://localhost:8080/",
          "height": 295
        },
        "id": "FaVvkVNk9Z-_",
        "outputId": "4b6cd7fe-3df4-462f-e976-0e2674bd1380"
      },
      "execution_count": 40,
      "outputs": [
        {
          "output_type": "display_data",
          "data": {
            "text/plain": [
              "<Figure size 432x288 with 1 Axes>"
            ],
            "image/png": "[encoded data removed]"
          },
          "metadata": {
            "needs_background": "light"
          }
        }
      ]
    },
    {
      "cell_type": "code",
      "source": [
        "plot_items(np.array(test_epoch_count), np.array(recall_store),\"Epochs\",\"Recall\",\"Recall\",\"Recall vs Precision\")\n",
        "plot_items(np.array(test_epoch_count), np.array(precision_store),\"Epochs\",\"Precision\",\"Precision\",\"Recall vs Precision\")"
      ],
      "metadata": {
        "colab": {
          "base_uri": "https://localhost:8080/",
          "height": 295
        },
        "id": "CGhTvDDq9amI",
        "outputId": "88623855-a688-4058-8d78-2da0731918bf"
      },
      "execution_count": 41,
      "outputs": [
        {
          "output_type": "display_data",
          "data": {
            "text/plain": [
              "<Figure size 432x288 with 1 Axes>"
            ],
            "image/png": "[encoded data removed]"
          },
          "metadata": {
            "needs_background": "light"
          }
        }
      ]
    },
    {
      "cell_type": "code",
      "source": [
        "plot_items(np.array(test_epoch_count), np.array(jaccard_store),\"Epochs\",\"Jaccard\",\"Jaccard\",\"Jaccard vs F1\")\n",
        "plot_items(np.array(test_epoch_count), np.array(f1_store),\"Epochs\",\"F1\",\"F1\",\"Jaccard vs F1\")"
      ],
      "metadata": {
        "colab": {
          "base_uri": "https://localhost:8080/",
          "height": 295
        },
        "id": "1GPg_2HK9oJA",
        "outputId": "6364930b-3996-4701-ee76-c9bc33b245d5"
      },
      "execution_count": 42,
      "outputs": [
        {
          "output_type": "display_data",
          "data": {
            "text/plain": [
              "<Figure size 432x288 with 1 Axes>"
            ],
            "image/png": "[encoded data removed]"
          },
          "metadata": {
            "needs_background": "light"
          }
        }
      ]
    },
    {
      "cell_type": "code",
      "source": [
        "plot_items(np.array(test_epoch_count), np.array(recall_store),\"Epochs\",\"Recall, Precision, Jaccard, F1\",\"Recall\",\"Recall vs Precision vs Jaccard vs F1\")\n",
        "plot_items(np.array(test_epoch_count), np.array(precision_store),\"Epochs\",\"Recall, Precision, Jaccard, F1\",\"Precision\",\"Recall vs Precision vs Jaccard vs F1\")\n",
        "plot_items(np.array(test_epoch_count), np.array(jaccard_store),\"Epochs\",\"Recall, Precision, Jaccard, F1\",\"Jaccard\",\"Recall vs Precision vs Jaccard vs F1\")\n",
        "plot_items(np.array(test_epoch_count), np.array(f1_store),\"Epochs\",\"Recall, Precision, Jaccard, F1\",\"F1\",\"Recall vs Precision vs Jaccard vs F1\")"
      ],
      "metadata": {
        "id": "m6yaWJoO_2Ur",
        "outputId": "6df8e4dc-8291-48c0-ff8c-85d023d3f74b",
        "colab": {
          "base_uri": "https://localhost:8080/",
          "height": 295
        }
      },
      "execution_count": 43,
      "outputs": [
        {
          "output_type": "display_data",
          "data": {
            "text/plain": [
              "<Figure size 432x288 with 1 Axes>"
            ],
            "image/png": "[encoded data removed]"
          },
          "metadata": {
            "needs_background": "light"
          }
        }
      ]
    },
    {
      "cell_type": "code",
      "source": [
        "import pandas as pd\n",
        "d1 = pd.Series(recall_store)\n",
        "d2 = pd.Series(precision_store)\n",
        "d3 = pd.Series(jaccard_store)\n",
        "d4 = pd.Series(f1_store)\n",
        "df = pd.DataFrame(d1, columns=['Recall'])\n",
        "df['Precision'] = d2\n",
        "df['Jaccard'] = d3\n",
        "df['F1'] = d4\n",
        "df.head()"
      ],
      "metadata": {
        "colab": {
          "base_uri": "https://localhost:8080/",
          "height": 206
        },
        "id": "tQd4pu5VvH3m",
        "outputId": "76dc8ae7-4b5f-4c0c-9f19-9c7d9ca55764"
      },
      "execution_count": 63,
      "outputs": [
        {
          "output_type": "execute_result",
          "data": {
            "text/plain": [
              "     Recall  Precision   Jaccard        F1\n",
              "0  0.806729   0.782705  0.676066  0.806729\n",
              "1  0.839298   0.840018  0.723095  0.839298\n",
              "2  0.677825   0.884106  0.512659  0.677825\n",
              "3  0.818374   0.847808  0.692584  0.818374\n",
              "4  0.791928   0.884172  0.655530  0.791928"
            ],
            "text/html": [
              "\n",
              "  <div id=\"df-2e91b877-dbea-4842-847f-37caabc7ca81\">\n",
              "    <div class=\"colab-df-container\">\n",
              "      <div>\n",
              "<style scoped>\n",
              "    .dataframe tbody tr th:only-of-type {\n",
              "        vertical-align: middle;\n",
              "    }\n",
              "\n",
              "    .dataframe tbody tr th {\n",
              "        vertical-align: top;\n",
              "    }\n",
              "\n",
              "    .dataframe thead th {\n",
              "        text-align: right;\n",
              "    }\n",
              "</style>\n",
              "<table border=\"1\" class=\"dataframe\">\n",
              "  <thead>\n",
              "    <tr style=\"text-align: right;\">\n",
              "      <th></th>\n",
              "      <th>Recall</th>\n",
              "      <th>Precision</th>\n",
              "      <th>Jaccard</th>\n",
              "      <th>F1</th>\n",
              "    </tr>\n",
              "  </thead>\n",
              "  <tbody>\n",
              "    <tr>\n",
              "      <th>0</th>\n",
              "      <td>0.806729</td>\n",
              "      <td>0.782705</td>\n",
              "      <td>0.676066</td>\n",
              "      <td>0.806729</td>\n",
              "    </tr>\n",
              "    <tr>\n",
              "      <th>1</th>\n",
              "      <td>0.839298</td>\n",
              "      <td>0.840018</td>\n",
              "      <td>0.723095</td>\n",
              "      <td>0.839298</td>\n",
              "    </tr>\n",
              "    <tr>\n",
              "      <th>2</th>\n",
              "      <td>0.677825</td>\n",
              "      <td>0.884106</td>\n",
              "      <td>0.512659</td>\n",
              "      <td>0.677825</td>\n",
              "    </tr>\n",
              "    <tr>\n",
              "      <th>3</th>\n",
              "      <td>0.818374</td>\n",
              "      <td>0.847808</td>\n",
              "      <td>0.692584</td>\n",
              "      <td>0.818374</td>\n",
              "    </tr>\n",
              "    <tr>\n",
              "      <th>4</th>\n",
              "      <td>0.791928</td>\n",
              "      <td>0.884172</td>\n",
              "      <td>0.655530</td>\n",
              "      <td>0.791928</td>\n",
              "    </tr>\n",
              "  </tbody>\n",
              "</table>\n",
              "</div>\n",
              "      <button class=\"colab-df-convert\" onclick=\"convertToInteractive('df-2e91b877-dbea-4842-847f-37caabc7ca81')\"\n",
              "              title=\"Convert this dataframe to an interactive table.\"\n",
              "              style=\"display:none;\">\n",
              "        \n",
              "  <svg xmlns=\"http://www.w3.org/2000/svg\" height=\"24px\"viewBox=\"0 0 24 24\"\n",
              "       width=\"24px\">\n",
              "    <path d=\"M0 0h24v24H0V0z\" fill=\"none\"/>\n",
              "    <path d=\"M18.56 5.44l.94 2.06.94-2.06 2.06-.94-2.06-.94-.94-2.06-.94 2.06-2.06.94zm-11 1L8.5 8.5l.94-2.06 2.06-.94-2.06-.94L8.5 2.5l-.94 2.06-2.06.94zm10 10l.94 2.06.94-2.06 2.06-.94-2.06-.94-.94-2.06-.94 2.06-2.06.94z\"/><path d=\"M17.41 7.96l-1.37-1.37c-.4-.4-.92-.59-1.43-.59-.52 0-1.04.2-1.43.59L10.3 9.45l-7.72 7.72c-.78.78-.78 2.05 0 2.83L4 21.41c.39.39.9.59 1.41.59.51 0 1.02-.2 1.41-.59l7.78-7.78 2.81-2.81c.8-.78.8-2.07 0-2.86zM5.41 20L4 18.59l7.72-7.72 1.47 1.35L5.41 20z\"/>\n",
              "  </svg>\n",
              "      </button>\n",
              "      \n",
              "  <style>\n",
              "    .colab-df-container {\n",
              "      display:flex;\n",
              "      flex-wrap:wrap;\n",
              "      gap: 12px;\n",
              "    }\n",
              "\n",
              "    .colab-df-convert {\n",
              "      background-color: #E8F0FE;\n",
              "      border: none;\n",
              "      border-radius: 50%;\n",
              "      cursor: pointer;\n",
              "      display: none;\n",
              "      fill: #1967D2;\n",
              "      height: 32px;\n",
              "      padding: 0 0 0 0;\n",
              "      width: 32px;\n",
              "    }\n",
              "\n",
              "    .colab-df-convert:hover {\n",
              "      background-color: #E2EBFA;\n",
              "      box-shadow: 0px 1px 2px rgba(60, 64, 67, 0.3), 0px 1px 3px 1px rgba(60, 64, 67, 0.15);\n",
              "      fill: #174EA6;\n",
              "    }\n",
              "\n",
              "    [theme=dark] .colab-df-convert {\n",
              "      background-color: #3B4455;\n",
              "      fill: #D2E3FC;\n",
              "    }\n",
              "\n",
              "    [theme=dark] .colab-df-convert:hover {\n",
              "      background-color: #434B5C;\n",
              "      box-shadow: 0px 1px 3px 1px rgba(0, 0, 0, 0.15);\n",
              "      filter: drop-shadow(0px 1px 2px rgba(0, 0, 0, 0.3));\n",
              "      fill: #FFFFFF;\n",
              "    }\n",
              "  </style>\n",
              "\n",
              "      <script>\n",
              "        const buttonEl =\n",
              "          document.querySelector('#df-2e91b877-dbea-4842-847f-37caabc7ca81 button.colab-df-convert');\n",
              "        buttonEl.style.display =\n",
              "          google.colab.kernel.accessAllowed ? 'block' : 'none';\n",
              "\n",
              "        async function convertToInteractive(key) {\n",
              "          const element = document.querySelector('#df-2e91b877-dbea-4842-847f-37caabc7ca81');\n",
              "          const dataTable =\n",
              "            await google.colab.kernel.invokeFunction('convertToInteractive',\n",
              "                                                     [key], {});\n",
              "          if (!dataTable) return;\n",
              "\n",
              "          const docLinkHtml = 'Like what you see? Visit the ' +\n",
              "            '<a target=\"_blank\" href=https://colab.research.google.com/notebooks/data_table.ipynb>data table notebook</a>'\n",
              "            + ' to learn more about interactive tables.';\n",
              "          element.innerHTML = '';\n",
              "          dataTable['output_type'] = 'display_data';\n",
              "          await google.colab.output.renderOutput(dataTable, element);\n",
              "          const docLink = document.createElement('div');\n",
              "          docLink.innerHTML = docLinkHtml;\n",
              "          element.appendChild(docLink);\n",
              "        }\n",
              "      </script>\n",
              "    </div>\n",
              "  </div>\n",
              "  "
            ]
          },
          "metadata": {},
          "execution_count": 63
        }
      ]
    },
    {
      "cell_type": "code",
      "source": [],
      "metadata": {
        "id": "cnq5wenEwCCi"
      },
      "execution_count": null,
      "outputs": []
    }
  ]
}